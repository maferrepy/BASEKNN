{
  "nbformat": 4,
  "nbformat_minor": 0,
  "metadata": {
    "colab": {
      "provenance": [],
      "authorship_tag": "ABX9TyMG15shBFLJn+GL3WJIlKBK",
      "include_colab_link": true
    },
    "kernelspec": {
      "name": "python3",
      "display_name": "Python 3"
    },
    "language_info": {
      "name": "python"
    }
  },
  "cells": [
    {
      "cell_type": "markdown",
      "metadata": {
        "id": "view-in-github",
        "colab_type": "text"
      },
      "source": [
        "<a href=\"https://colab.research.google.com/github/maferrepy/BASEKNN/blob/main/Copy_of_reNATA.ipynb\" target=\"_parent\"><img src=\"https://colab.research.google.com/assets/colab-badge.svg\" alt=\"Open In Colab\"/></a>"
      ]
    },
    {
      "cell_type": "code",
      "source": [
        "!pip install inflect\n"
      ],
      "metadata": {
        "colab": {
          "base_uri": "https://localhost:8080/"
        },
        "id": "VTRoxyq0FMp1",
        "outputId": "9d52abe1-fcaa-4f44-b568-48b6452b0a6a"
      },
      "execution_count": 51,
      "outputs": [
        {
          "output_type": "stream",
          "name": "stdout",
          "text": [
            "Requirement already satisfied: inflect in /usr/local/lib/python3.10/dist-packages (7.0.0)\n",
            "Requirement already satisfied: pydantic>=1.9.1 in /usr/local/lib/python3.10/dist-packages (from inflect) (1.10.13)\n",
            "Requirement already satisfied: typing-extensions in /usr/local/lib/python3.10/dist-packages (from inflect) (4.5.0)\n"
          ]
        }
      ]
    },
    {
      "cell_type": "code",
      "source": [
        "import pandas as pd\n"
      ],
      "metadata": {
        "id": "rE5YEhBuMMlB"
      },
      "execution_count": 52,
      "outputs": []
    },
    {
      "cell_type": "code",
      "source": [
        "df_excel =pd.read_excel('//content/Balancete por Secretaria e consolidado 2023 e 2024 MARCOS 2.xlsx',sheet_name=\"Balancete por secretaria 2024\")"
      ],
      "metadata": {
        "id": "1-NvMdDkMQZ8"
      },
      "execution_count": 53,
      "outputs": []
    },
    {
      "cell_type": "code",
      "source": [
        "df_excel.to_csv('/content/balancete.csv', index=False)"
      ],
      "metadata": {
        "id": "iSv8g4rV-yYx"
      },
      "execution_count": 54,
      "outputs": []
    },
    {
      "cell_type": "code",
      "source": [
        "df =pd.read_csv(\"/content/balancete.csv\")"
      ],
      "metadata": {
        "id": "QEePMz0pEw2r"
      },
      "execution_count": 55,
      "outputs": []
    },
    {
      "cell_type": "code",
      "source": [
        "df.rename(columns={'Unnamed: 0': 'CODIGO'}, inplace=True)\n",
        "df.rename(columns={'Unnamed: 3': 'ATUALIZADO'}, inplace=True)\n",
        "df.rename(columns={'Unnamed: 2': 'VALORES'}, inplace=True)\n",
        "df.drop(0)\n",
        "df.drop(df.columns[4:10], axis=1, inplace=True)\n"
      ],
      "metadata": {
        "id": "mXeodI9DGuQ5"
      },
      "execution_count": 56,
      "outputs": []
    },
    {
      "cell_type": "code",
      "source": [
        "df.head()"
      ],
      "metadata": {
        "id": "13eb3eEsFMKm",
        "colab": {
          "base_uri": "https://localhost:8080/",
          "height": 258
        },
        "outputId": "4042fd2a-5fcb-4462-e713-1ed2be71c84f"
      },
      "execution_count": 57,
      "outputs": [
        {
          "output_type": "execute_result",
          "data": {
            "text/plain": [
              "                  CODIGO                         Unnamed: 1       VALORES  \\\n",
              "0                CODIGOS                          DESPESAS        INICIAL   \n",
              "1  3.1.50.43.00.00.00.00                 SUBVENÇÕES SOCIAIS    111.000,00   \n",
              "2  3.1.90.04.00.00.00.00  CONTRATAÇÃO POR TEMPO DETERMINADO    500.000,00   \n",
              "3  3.1.90.04.00.00.00.00  CONTRATAÇÃO POR TEMPO DETERMINADO  2.000.000,00   \n",
              "4  3.1.90.04.00.00.00.00  CONTRATAÇÃO POR TEMPO DETERMINADO    565.382,89   \n",
              "\n",
              "  ATUALIZADO  \n",
              "0    Coluna1  \n",
              "1   11100000  \n",
              "2   50000000  \n",
              "3  200000000  \n",
              "4   56538289  "
            ],
            "text/html": [
              "\n",
              "  <div id=\"df-1f26c2b5-95b4-4d9c-bd1b-ff18fe774373\" class=\"colab-df-container\">\n",
              "    <div>\n",
              "<style scoped>\n",
              "    .dataframe tbody tr th:only-of-type {\n",
              "        vertical-align: middle;\n",
              "    }\n",
              "\n",
              "    .dataframe tbody tr th {\n",
              "        vertical-align: top;\n",
              "    }\n",
              "\n",
              "    .dataframe thead th {\n",
              "        text-align: right;\n",
              "    }\n",
              "</style>\n",
              "<table border=\"1\" class=\"dataframe\">\n",
              "  <thead>\n",
              "    <tr style=\"text-align: right;\">\n",
              "      <th></th>\n",
              "      <th>CODIGO</th>\n",
              "      <th>Unnamed: 1</th>\n",
              "      <th>VALORES</th>\n",
              "      <th>ATUALIZADO</th>\n",
              "    </tr>\n",
              "  </thead>\n",
              "  <tbody>\n",
              "    <tr>\n",
              "      <th>0</th>\n",
              "      <td>CODIGOS</td>\n",
              "      <td>DESPESAS</td>\n",
              "      <td>INICIAL</td>\n",
              "      <td>Coluna1</td>\n",
              "    </tr>\n",
              "    <tr>\n",
              "      <th>1</th>\n",
              "      <td>3.1.50.43.00.00.00.00</td>\n",
              "      <td>SUBVENÇÕES SOCIAIS</td>\n",
              "      <td>111.000,00</td>\n",
              "      <td>11100000</td>\n",
              "    </tr>\n",
              "    <tr>\n",
              "      <th>2</th>\n",
              "      <td>3.1.90.04.00.00.00.00</td>\n",
              "      <td>CONTRATAÇÃO POR TEMPO DETERMINADO</td>\n",
              "      <td>500.000,00</td>\n",
              "      <td>50000000</td>\n",
              "    </tr>\n",
              "    <tr>\n",
              "      <th>3</th>\n",
              "      <td>3.1.90.04.00.00.00.00</td>\n",
              "      <td>CONTRATAÇÃO POR TEMPO DETERMINADO</td>\n",
              "      <td>2.000.000,00</td>\n",
              "      <td>200000000</td>\n",
              "    </tr>\n",
              "    <tr>\n",
              "      <th>4</th>\n",
              "      <td>3.1.90.04.00.00.00.00</td>\n",
              "      <td>CONTRATAÇÃO POR TEMPO DETERMINADO</td>\n",
              "      <td>565.382,89</td>\n",
              "      <td>56538289</td>\n",
              "    </tr>\n",
              "  </tbody>\n",
              "</table>\n",
              "</div>\n",
              "    <div class=\"colab-df-buttons\">\n",
              "\n",
              "  <div class=\"colab-df-container\">\n",
              "    <button class=\"colab-df-convert\" onclick=\"convertToInteractive('df-1f26c2b5-95b4-4d9c-bd1b-ff18fe774373')\"\n",
              "            title=\"Convert this dataframe to an interactive table.\"\n",
              "            style=\"display:none;\">\n",
              "\n",
              "  <svg xmlns=\"http://www.w3.org/2000/svg\" height=\"24px\" viewBox=\"0 -960 960 960\">\n",
              "    <path d=\"M120-120v-720h720v720H120Zm60-500h600v-160H180v160Zm220 220h160v-160H400v160Zm0 220h160v-160H400v160ZM180-400h160v-160H180v160Zm440 0h160v-160H620v160ZM180-180h160v-160H180v160Zm440 0h160v-160H620v160Z\"/>\n",
              "  </svg>\n",
              "    </button>\n",
              "\n",
              "  <style>\n",
              "    .colab-df-container {\n",
              "      display:flex;\n",
              "      gap: 12px;\n",
              "    }\n",
              "\n",
              "    .colab-df-convert {\n",
              "      background-color: #E8F0FE;\n",
              "      border: none;\n",
              "      border-radius: 50%;\n",
              "      cursor: pointer;\n",
              "      display: none;\n",
              "      fill: #1967D2;\n",
              "      height: 32px;\n",
              "      padding: 0 0 0 0;\n",
              "      width: 32px;\n",
              "    }\n",
              "\n",
              "    .colab-df-convert:hover {\n",
              "      background-color: #E2EBFA;\n",
              "      box-shadow: 0px 1px 2px rgba(60, 64, 67, 0.3), 0px 1px 3px 1px rgba(60, 64, 67, 0.15);\n",
              "      fill: #174EA6;\n",
              "    }\n",
              "\n",
              "    .colab-df-buttons div {\n",
              "      margin-bottom: 4px;\n",
              "    }\n",
              "\n",
              "    [theme=dark] .colab-df-convert {\n",
              "      background-color: #3B4455;\n",
              "      fill: #D2E3FC;\n",
              "    }\n",
              "\n",
              "    [theme=dark] .colab-df-convert:hover {\n",
              "      background-color: #434B5C;\n",
              "      box-shadow: 0px 1px 3px 1px rgba(0, 0, 0, 0.15);\n",
              "      filter: drop-shadow(0px 1px 2px rgba(0, 0, 0, 0.3));\n",
              "      fill: #FFFFFF;\n",
              "    }\n",
              "  </style>\n",
              "\n",
              "    <script>\n",
              "      const buttonEl =\n",
              "        document.querySelector('#df-1f26c2b5-95b4-4d9c-bd1b-ff18fe774373 button.colab-df-convert');\n",
              "      buttonEl.style.display =\n",
              "        google.colab.kernel.accessAllowed ? 'block' : 'none';\n",
              "\n",
              "      async function convertToInteractive(key) {\n",
              "        const element = document.querySelector('#df-1f26c2b5-95b4-4d9c-bd1b-ff18fe774373');\n",
              "        const dataTable =\n",
              "          await google.colab.kernel.invokeFunction('convertToInteractive',\n",
              "                                                    [key], {});\n",
              "        if (!dataTable) return;\n",
              "\n",
              "        const docLinkHtml = 'Like what you see? Visit the ' +\n",
              "          '<a target=\"_blank\" href=https://colab.research.google.com/notebooks/data_table.ipynb>data table notebook</a>'\n",
              "          + ' to learn more about interactive tables.';\n",
              "        element.innerHTML = '';\n",
              "        dataTable['output_type'] = 'display_data';\n",
              "        await google.colab.output.renderOutput(dataTable, element);\n",
              "        const docLink = document.createElement('div');\n",
              "        docLink.innerHTML = docLinkHtml;\n",
              "        element.appendChild(docLink);\n",
              "      }\n",
              "    </script>\n",
              "  </div>\n",
              "\n",
              "\n",
              "<div id=\"df-eed99b26-665a-492f-97ae-ebdd533c2053\">\n",
              "  <button class=\"colab-df-quickchart\" onclick=\"quickchart('df-eed99b26-665a-492f-97ae-ebdd533c2053')\"\n",
              "            title=\"Suggest charts\"\n",
              "            style=\"display:none;\">\n",
              "\n",
              "<svg xmlns=\"http://www.w3.org/2000/svg\" height=\"24px\"viewBox=\"0 0 24 24\"\n",
              "     width=\"24px\">\n",
              "    <g>\n",
              "        <path d=\"M19 3H5c-1.1 0-2 .9-2 2v14c0 1.1.9 2 2 2h14c1.1 0 2-.9 2-2V5c0-1.1-.9-2-2-2zM9 17H7v-7h2v7zm4 0h-2V7h2v10zm4 0h-2v-4h2v4z\"/>\n",
              "    </g>\n",
              "</svg>\n",
              "  </button>\n",
              "\n",
              "<style>\n",
              "  .colab-df-quickchart {\n",
              "      --bg-color: #E8F0FE;\n",
              "      --fill-color: #1967D2;\n",
              "      --hover-bg-color: #E2EBFA;\n",
              "      --hover-fill-color: #174EA6;\n",
              "      --disabled-fill-color: #AAA;\n",
              "      --disabled-bg-color: #DDD;\n",
              "  }\n",
              "\n",
              "  [theme=dark] .colab-df-quickchart {\n",
              "      --bg-color: #3B4455;\n",
              "      --fill-color: #D2E3FC;\n",
              "      --hover-bg-color: #434B5C;\n",
              "      --hover-fill-color: #FFFFFF;\n",
              "      --disabled-bg-color: #3B4455;\n",
              "      --disabled-fill-color: #666;\n",
              "  }\n",
              "\n",
              "  .colab-df-quickchart {\n",
              "    background-color: var(--bg-color);\n",
              "    border: none;\n",
              "    border-radius: 50%;\n",
              "    cursor: pointer;\n",
              "    display: none;\n",
              "    fill: var(--fill-color);\n",
              "    height: 32px;\n",
              "    padding: 0;\n",
              "    width: 32px;\n",
              "  }\n",
              "\n",
              "  .colab-df-quickchart:hover {\n",
              "    background-color: var(--hover-bg-color);\n",
              "    box-shadow: 0 1px 2px rgba(60, 64, 67, 0.3), 0 1px 3px 1px rgba(60, 64, 67, 0.15);\n",
              "    fill: var(--button-hover-fill-color);\n",
              "  }\n",
              "\n",
              "  .colab-df-quickchart-complete:disabled,\n",
              "  .colab-df-quickchart-complete:disabled:hover {\n",
              "    background-color: var(--disabled-bg-color);\n",
              "    fill: var(--disabled-fill-color);\n",
              "    box-shadow: none;\n",
              "  }\n",
              "\n",
              "  .colab-df-spinner {\n",
              "    border: 2px solid var(--fill-color);\n",
              "    border-color: transparent;\n",
              "    border-bottom-color: var(--fill-color);\n",
              "    animation:\n",
              "      spin 1s steps(1) infinite;\n",
              "  }\n",
              "\n",
              "  @keyframes spin {\n",
              "    0% {\n",
              "      border-color: transparent;\n",
              "      border-bottom-color: var(--fill-color);\n",
              "      border-left-color: var(--fill-color);\n",
              "    }\n",
              "    20% {\n",
              "      border-color: transparent;\n",
              "      border-left-color: var(--fill-color);\n",
              "      border-top-color: var(--fill-color);\n",
              "    }\n",
              "    30% {\n",
              "      border-color: transparent;\n",
              "      border-left-color: var(--fill-color);\n",
              "      border-top-color: var(--fill-color);\n",
              "      border-right-color: var(--fill-color);\n",
              "    }\n",
              "    40% {\n",
              "      border-color: transparent;\n",
              "      border-right-color: var(--fill-color);\n",
              "      border-top-color: var(--fill-color);\n",
              "    }\n",
              "    60% {\n",
              "      border-color: transparent;\n",
              "      border-right-color: var(--fill-color);\n",
              "    }\n",
              "    80% {\n",
              "      border-color: transparent;\n",
              "      border-right-color: var(--fill-color);\n",
              "      border-bottom-color: var(--fill-color);\n",
              "    }\n",
              "    90% {\n",
              "      border-color: transparent;\n",
              "      border-bottom-color: var(--fill-color);\n",
              "    }\n",
              "  }\n",
              "</style>\n",
              "\n",
              "  <script>\n",
              "    async function quickchart(key) {\n",
              "      const quickchartButtonEl =\n",
              "        document.querySelector('#' + key + ' button');\n",
              "      quickchartButtonEl.disabled = true;  // To prevent multiple clicks.\n",
              "      quickchartButtonEl.classList.add('colab-df-spinner');\n",
              "      try {\n",
              "        const charts = await google.colab.kernel.invokeFunction(\n",
              "            'suggestCharts', [key], {});\n",
              "      } catch (error) {\n",
              "        console.error('Error during call to suggestCharts:', error);\n",
              "      }\n",
              "      quickchartButtonEl.classList.remove('colab-df-spinner');\n",
              "      quickchartButtonEl.classList.add('colab-df-quickchart-complete');\n",
              "    }\n",
              "    (() => {\n",
              "      let quickchartButtonEl =\n",
              "        document.querySelector('#df-eed99b26-665a-492f-97ae-ebdd533c2053 button');\n",
              "      quickchartButtonEl.style.display =\n",
              "        google.colab.kernel.accessAllowed ? 'block' : 'none';\n",
              "    })();\n",
              "  </script>\n",
              "</div>\n",
              "\n",
              "    </div>\n",
              "  </div>\n"
            ]
          },
          "metadata": {},
          "execution_count": 57
        }
      ]
    },
    {
      "cell_type": "code",
      "source": [],
      "metadata": {
        "id": "pyyTSl8Y9ggp"
      },
      "execution_count": 57,
      "outputs": []
    },
    {
      "cell_type": "code",
      "source": [
        "# Substituir os valores faltantes (NaN) por None\n",
        "df = df.where((pd.notnull(df)), None)\n",
        "\n",
        "# Converter os valores faltantes (None) por um espaço vazio\n",
        "df = df.fillna('')"
      ],
      "metadata": {
        "id": "f0kb07uzGvHu"
      },
      "execution_count": 58,
      "outputs": []
    },
    {
      "cell_type": "code",
      "source": [
        "df.head(25)\n"
      ],
      "metadata": {
        "id": "yNTE3TqnFk3V",
        "colab": {
          "base_uri": "https://localhost:8080/",
          "height": 1000
        },
        "outputId": "a6060a7e-ad7e-41b7-8628-c45e6ff5a276"
      },
      "execution_count": 59,
      "outputs": [
        {
          "output_type": "execute_result",
          "data": {
            "text/plain": [
              "                   CODIGO                                   Unnamed: 1  \\\n",
              "0                 CODIGOS                                    DESPESAS    \n",
              "1   3.1.50.43.00.00.00.00                           SUBVENÇÕES SOCIAIS   \n",
              "2   3.1.90.04.00.00.00.00            CONTRATAÇÃO POR TEMPO DETERMINADO   \n",
              "3   3.1.90.04.00.00.00.00            CONTRATAÇÃO POR TEMPO DETERMINADO   \n",
              "4   3.1.90.04.00.00.00.00            CONTRATAÇÃO POR TEMPO DETERMINADO   \n",
              "5   3.1.90.11.00.00.00.00  VENCIMENTOS E VANTAGENS FIXAS-PESSOAL CIVIL   \n",
              "6   3.1.90.11.00.00.00.00  VENCIMENTOS E VANTAGENS FIXAS-PESSOAL CIVIL   \n",
              "7   3.1.90.11.00.00.00.00  VENCIMENTOS E VANTAGENS FIXAS-PESSOAL CIVIL   \n",
              "8   3.1.90.11.00.00.00.00  VENCIMENTOS E VANTAGENS FIXAS-PESSOAL CIVIL   \n",
              "9   3.1.90.11.00.00.00.00  VENCIMENTOS E VANTAGENS FIXAS-PESSOAL CIVIL   \n",
              "10  3.1.90.11.00.00.00.00  VENCIMENTOS E VANTAGENS FIXAS-PESSOAL CIVIL   \n",
              "11  3.1.90.11.00.00.00.00  VENCIMENTOS E VANTAGENS FIXAS-PESSOAL CIVIL   \n",
              "12  3.1.90.11.00.00.00.00  VENCIMENTOS E VANTAGENS FIXAS-PESSOAL CIVIL   \n",
              "13  3.1.90.11.00.00.00.00  VENCIMENTOS E VANTAGENS FIXAS-PESSOAL CIVIL   \n",
              "14  3.1.90.11.00.00.00.00  VENCIMENTOS E VANTAGENS FIXAS-PESSOAL CIVIL   \n",
              "15  3.1.90.11.00.00.00.00  VENCIMENTOS E VANTAGENS FIXAS-PESSOAL CIVIL   \n",
              "16  3.1.90.11.00.00.00.00  VENCIMENTOS E VANTAGENS FIXAS-PESSOAL CIVIL   \n",
              "17  3.1.90.11.00.00.00.00  VENCIMENTOS E VANTAGENS FIXAS-PESSOAL CIVIL   \n",
              "18  3.1.90.11.00.00.00.00  VENCIMENTOS E VANTAGENS FIXAS-PESSOAL CIVIL   \n",
              "19  3.1.90.11.00.00.00.00  VENCIMENTOS E VANTAGENS FIXAS-PESSOAL CIVIL   \n",
              "20  3.1.90.11.00.00.00.00  VENCIMENTOS E VANTAGENS FIXAS-PESSOAL CIVIL   \n",
              "21  3.1.90.11.00.00.00.00  VENCIMENTOS E VANTAGENS FIXAS-PESSOAL CIVIL   \n",
              "22  3.1.90.11.00.00.00.00  VENCIMENTOS E VANTAGENS FIXAS-PESSOAL CIVIL   \n",
              "23  3.1.90.11.00.00.00.00  VENCIMENTOS E VANTAGENS FIXAS-PESSOAL CIVIL   \n",
              "24  3.1.90.11.00.00.00.00  VENCIMENTOS E VANTAGENS FIXAS-PESSOAL CIVIL   \n",
              "\n",
              "          VALORES  ATUALIZADO  \n",
              "0         INICIAL     Coluna1  \n",
              "1      111.000,00    11100000  \n",
              "2      500.000,00    50000000  \n",
              "3    2.000.000,00   200000000  \n",
              "4      565.382,89    56538289  \n",
              "5    7.483.558,37   748355837  \n",
              "6      553.710,59    55371059  \n",
              "7    7.414.253,75   741425375  \n",
              "8    3.592.154,24   359215424  \n",
              "9      630.790,02    63079002  \n",
              "10   1.777.324,92   177732492  \n",
              "11   4.654.352,12   465435212  \n",
              "12   2.939.972,37   293997237  \n",
              "13   1.158.459,31   115845931  \n",
              "14   4.702.978,34   470297834  \n",
              "15  48.716.838,14  4871683814  \n",
              "16  91.937.712,10  9193771210  \n",
              "17   6.690.689,62   669068962  \n",
              "18   1.470.717,87   147071787  \n",
              "19   7.588.901,95   758890195  \n",
              "20   3.234.432,72   323443272  \n",
              "21   2.564.523,65   256452365  \n",
              "22   1.017.589,17   101758917  \n",
              "23   1.924.330,32   192433032  \n",
              "24   1.956.575,10   195657510  "
            ],
            "text/html": [
              "\n",
              "  <div id=\"df-a6c3ac6f-b94d-493f-b8de-f3be48ad5f7d\" class=\"colab-df-container\">\n",
              "    <div>\n",
              "<style scoped>\n",
              "    .dataframe tbody tr th:only-of-type {\n",
              "        vertical-align: middle;\n",
              "    }\n",
              "\n",
              "    .dataframe tbody tr th {\n",
              "        vertical-align: top;\n",
              "    }\n",
              "\n",
              "    .dataframe thead th {\n",
              "        text-align: right;\n",
              "    }\n",
              "</style>\n",
              "<table border=\"1\" class=\"dataframe\">\n",
              "  <thead>\n",
              "    <tr style=\"text-align: right;\">\n",
              "      <th></th>\n",
              "      <th>CODIGO</th>\n",
              "      <th>Unnamed: 1</th>\n",
              "      <th>VALORES</th>\n",
              "      <th>ATUALIZADO</th>\n",
              "    </tr>\n",
              "  </thead>\n",
              "  <tbody>\n",
              "    <tr>\n",
              "      <th>0</th>\n",
              "      <td>CODIGOS</td>\n",
              "      <td>DESPESAS</td>\n",
              "      <td>INICIAL</td>\n",
              "      <td>Coluna1</td>\n",
              "    </tr>\n",
              "    <tr>\n",
              "      <th>1</th>\n",
              "      <td>3.1.50.43.00.00.00.00</td>\n",
              "      <td>SUBVENÇÕES SOCIAIS</td>\n",
              "      <td>111.000,00</td>\n",
              "      <td>11100000</td>\n",
              "    </tr>\n",
              "    <tr>\n",
              "      <th>2</th>\n",
              "      <td>3.1.90.04.00.00.00.00</td>\n",
              "      <td>CONTRATAÇÃO POR TEMPO DETERMINADO</td>\n",
              "      <td>500.000,00</td>\n",
              "      <td>50000000</td>\n",
              "    </tr>\n",
              "    <tr>\n",
              "      <th>3</th>\n",
              "      <td>3.1.90.04.00.00.00.00</td>\n",
              "      <td>CONTRATAÇÃO POR TEMPO DETERMINADO</td>\n",
              "      <td>2.000.000,00</td>\n",
              "      <td>200000000</td>\n",
              "    </tr>\n",
              "    <tr>\n",
              "      <th>4</th>\n",
              "      <td>3.1.90.04.00.00.00.00</td>\n",
              "      <td>CONTRATAÇÃO POR TEMPO DETERMINADO</td>\n",
              "      <td>565.382,89</td>\n",
              "      <td>56538289</td>\n",
              "    </tr>\n",
              "    <tr>\n",
              "      <th>5</th>\n",
              "      <td>3.1.90.11.00.00.00.00</td>\n",
              "      <td>VENCIMENTOS E VANTAGENS FIXAS-PESSOAL CIVIL</td>\n",
              "      <td>7.483.558,37</td>\n",
              "      <td>748355837</td>\n",
              "    </tr>\n",
              "    <tr>\n",
              "      <th>6</th>\n",
              "      <td>3.1.90.11.00.00.00.00</td>\n",
              "      <td>VENCIMENTOS E VANTAGENS FIXAS-PESSOAL CIVIL</td>\n",
              "      <td>553.710,59</td>\n",
              "      <td>55371059</td>\n",
              "    </tr>\n",
              "    <tr>\n",
              "      <th>7</th>\n",
              "      <td>3.1.90.11.00.00.00.00</td>\n",
              "      <td>VENCIMENTOS E VANTAGENS FIXAS-PESSOAL CIVIL</td>\n",
              "      <td>7.414.253,75</td>\n",
              "      <td>741425375</td>\n",
              "    </tr>\n",
              "    <tr>\n",
              "      <th>8</th>\n",
              "      <td>3.1.90.11.00.00.00.00</td>\n",
              "      <td>VENCIMENTOS E VANTAGENS FIXAS-PESSOAL CIVIL</td>\n",
              "      <td>3.592.154,24</td>\n",
              "      <td>359215424</td>\n",
              "    </tr>\n",
              "    <tr>\n",
              "      <th>9</th>\n",
              "      <td>3.1.90.11.00.00.00.00</td>\n",
              "      <td>VENCIMENTOS E VANTAGENS FIXAS-PESSOAL CIVIL</td>\n",
              "      <td>630.790,02</td>\n",
              "      <td>63079002</td>\n",
              "    </tr>\n",
              "    <tr>\n",
              "      <th>10</th>\n",
              "      <td>3.1.90.11.00.00.00.00</td>\n",
              "      <td>VENCIMENTOS E VANTAGENS FIXAS-PESSOAL CIVIL</td>\n",
              "      <td>1.777.324,92</td>\n",
              "      <td>177732492</td>\n",
              "    </tr>\n",
              "    <tr>\n",
              "      <th>11</th>\n",
              "      <td>3.1.90.11.00.00.00.00</td>\n",
              "      <td>VENCIMENTOS E VANTAGENS FIXAS-PESSOAL CIVIL</td>\n",
              "      <td>4.654.352,12</td>\n",
              "      <td>465435212</td>\n",
              "    </tr>\n",
              "    <tr>\n",
              "      <th>12</th>\n",
              "      <td>3.1.90.11.00.00.00.00</td>\n",
              "      <td>VENCIMENTOS E VANTAGENS FIXAS-PESSOAL CIVIL</td>\n",
              "      <td>2.939.972,37</td>\n",
              "      <td>293997237</td>\n",
              "    </tr>\n",
              "    <tr>\n",
              "      <th>13</th>\n",
              "      <td>3.1.90.11.00.00.00.00</td>\n",
              "      <td>VENCIMENTOS E VANTAGENS FIXAS-PESSOAL CIVIL</td>\n",
              "      <td>1.158.459,31</td>\n",
              "      <td>115845931</td>\n",
              "    </tr>\n",
              "    <tr>\n",
              "      <th>14</th>\n",
              "      <td>3.1.90.11.00.00.00.00</td>\n",
              "      <td>VENCIMENTOS E VANTAGENS FIXAS-PESSOAL CIVIL</td>\n",
              "      <td>4.702.978,34</td>\n",
              "      <td>470297834</td>\n",
              "    </tr>\n",
              "    <tr>\n",
              "      <th>15</th>\n",
              "      <td>3.1.90.11.00.00.00.00</td>\n",
              "      <td>VENCIMENTOS E VANTAGENS FIXAS-PESSOAL CIVIL</td>\n",
              "      <td>48.716.838,14</td>\n",
              "      <td>4871683814</td>\n",
              "    </tr>\n",
              "    <tr>\n",
              "      <th>16</th>\n",
              "      <td>3.1.90.11.00.00.00.00</td>\n",
              "      <td>VENCIMENTOS E VANTAGENS FIXAS-PESSOAL CIVIL</td>\n",
              "      <td>91.937.712,10</td>\n",
              "      <td>9193771210</td>\n",
              "    </tr>\n",
              "    <tr>\n",
              "      <th>17</th>\n",
              "      <td>3.1.90.11.00.00.00.00</td>\n",
              "      <td>VENCIMENTOS E VANTAGENS FIXAS-PESSOAL CIVIL</td>\n",
              "      <td>6.690.689,62</td>\n",
              "      <td>669068962</td>\n",
              "    </tr>\n",
              "    <tr>\n",
              "      <th>18</th>\n",
              "      <td>3.1.90.11.00.00.00.00</td>\n",
              "      <td>VENCIMENTOS E VANTAGENS FIXAS-PESSOAL CIVIL</td>\n",
              "      <td>1.470.717,87</td>\n",
              "      <td>147071787</td>\n",
              "    </tr>\n",
              "    <tr>\n",
              "      <th>19</th>\n",
              "      <td>3.1.90.11.00.00.00.00</td>\n",
              "      <td>VENCIMENTOS E VANTAGENS FIXAS-PESSOAL CIVIL</td>\n",
              "      <td>7.588.901,95</td>\n",
              "      <td>758890195</td>\n",
              "    </tr>\n",
              "    <tr>\n",
              "      <th>20</th>\n",
              "      <td>3.1.90.11.00.00.00.00</td>\n",
              "      <td>VENCIMENTOS E VANTAGENS FIXAS-PESSOAL CIVIL</td>\n",
              "      <td>3.234.432,72</td>\n",
              "      <td>323443272</td>\n",
              "    </tr>\n",
              "    <tr>\n",
              "      <th>21</th>\n",
              "      <td>3.1.90.11.00.00.00.00</td>\n",
              "      <td>VENCIMENTOS E VANTAGENS FIXAS-PESSOAL CIVIL</td>\n",
              "      <td>2.564.523,65</td>\n",
              "      <td>256452365</td>\n",
              "    </tr>\n",
              "    <tr>\n",
              "      <th>22</th>\n",
              "      <td>3.1.90.11.00.00.00.00</td>\n",
              "      <td>VENCIMENTOS E VANTAGENS FIXAS-PESSOAL CIVIL</td>\n",
              "      <td>1.017.589,17</td>\n",
              "      <td>101758917</td>\n",
              "    </tr>\n",
              "    <tr>\n",
              "      <th>23</th>\n",
              "      <td>3.1.90.11.00.00.00.00</td>\n",
              "      <td>VENCIMENTOS E VANTAGENS FIXAS-PESSOAL CIVIL</td>\n",
              "      <td>1.924.330,32</td>\n",
              "      <td>192433032</td>\n",
              "    </tr>\n",
              "    <tr>\n",
              "      <th>24</th>\n",
              "      <td>3.1.90.11.00.00.00.00</td>\n",
              "      <td>VENCIMENTOS E VANTAGENS FIXAS-PESSOAL CIVIL</td>\n",
              "      <td>1.956.575,10</td>\n",
              "      <td>195657510</td>\n",
              "    </tr>\n",
              "  </tbody>\n",
              "</table>\n",
              "</div>\n",
              "    <div class=\"colab-df-buttons\">\n",
              "\n",
              "  <div class=\"colab-df-container\">\n",
              "    <button class=\"colab-df-convert\" onclick=\"convertToInteractive('df-a6c3ac6f-b94d-493f-b8de-f3be48ad5f7d')\"\n",
              "            title=\"Convert this dataframe to an interactive table.\"\n",
              "            style=\"display:none;\">\n",
              "\n",
              "  <svg xmlns=\"http://www.w3.org/2000/svg\" height=\"24px\" viewBox=\"0 -960 960 960\">\n",
              "    <path d=\"M120-120v-720h720v720H120Zm60-500h600v-160H180v160Zm220 220h160v-160H400v160Zm0 220h160v-160H400v160ZM180-400h160v-160H180v160Zm440 0h160v-160H620v160ZM180-180h160v-160H180v160Zm440 0h160v-160H620v160Z\"/>\n",
              "  </svg>\n",
              "    </button>\n",
              "\n",
              "  <style>\n",
              "    .colab-df-container {\n",
              "      display:flex;\n",
              "      gap: 12px;\n",
              "    }\n",
              "\n",
              "    .colab-df-convert {\n",
              "      background-color: #E8F0FE;\n",
              "      border: none;\n",
              "      border-radius: 50%;\n",
              "      cursor: pointer;\n",
              "      display: none;\n",
              "      fill: #1967D2;\n",
              "      height: 32px;\n",
              "      padding: 0 0 0 0;\n",
              "      width: 32px;\n",
              "    }\n",
              "\n",
              "    .colab-df-convert:hover {\n",
              "      background-color: #E2EBFA;\n",
              "      box-shadow: 0px 1px 2px rgba(60, 64, 67, 0.3), 0px 1px 3px 1px rgba(60, 64, 67, 0.15);\n",
              "      fill: #174EA6;\n",
              "    }\n",
              "\n",
              "    .colab-df-buttons div {\n",
              "      margin-bottom: 4px;\n",
              "    }\n",
              "\n",
              "    [theme=dark] .colab-df-convert {\n",
              "      background-color: #3B4455;\n",
              "      fill: #D2E3FC;\n",
              "    }\n",
              "\n",
              "    [theme=dark] .colab-df-convert:hover {\n",
              "      background-color: #434B5C;\n",
              "      box-shadow: 0px 1px 3px 1px rgba(0, 0, 0, 0.15);\n",
              "      filter: drop-shadow(0px 1px 2px rgba(0, 0, 0, 0.3));\n",
              "      fill: #FFFFFF;\n",
              "    }\n",
              "  </style>\n",
              "\n",
              "    <script>\n",
              "      const buttonEl =\n",
              "        document.querySelector('#df-a6c3ac6f-b94d-493f-b8de-f3be48ad5f7d button.colab-df-convert');\n",
              "      buttonEl.style.display =\n",
              "        google.colab.kernel.accessAllowed ? 'block' : 'none';\n",
              "\n",
              "      async function convertToInteractive(key) {\n",
              "        const element = document.querySelector('#df-a6c3ac6f-b94d-493f-b8de-f3be48ad5f7d');\n",
              "        const dataTable =\n",
              "          await google.colab.kernel.invokeFunction('convertToInteractive',\n",
              "                                                    [key], {});\n",
              "        if (!dataTable) return;\n",
              "\n",
              "        const docLinkHtml = 'Like what you see? Visit the ' +\n",
              "          '<a target=\"_blank\" href=https://colab.research.google.com/notebooks/data_table.ipynb>data table notebook</a>'\n",
              "          + ' to learn more about interactive tables.';\n",
              "        element.innerHTML = '';\n",
              "        dataTable['output_type'] = 'display_data';\n",
              "        await google.colab.output.renderOutput(dataTable, element);\n",
              "        const docLink = document.createElement('div');\n",
              "        docLink.innerHTML = docLinkHtml;\n",
              "        element.appendChild(docLink);\n",
              "      }\n",
              "    </script>\n",
              "  </div>\n",
              "\n",
              "\n",
              "<div id=\"df-7030ef89-8cdb-4e74-a6af-84d7f69666cc\">\n",
              "  <button class=\"colab-df-quickchart\" onclick=\"quickchart('df-7030ef89-8cdb-4e74-a6af-84d7f69666cc')\"\n",
              "            title=\"Suggest charts\"\n",
              "            style=\"display:none;\">\n",
              "\n",
              "<svg xmlns=\"http://www.w3.org/2000/svg\" height=\"24px\"viewBox=\"0 0 24 24\"\n",
              "     width=\"24px\">\n",
              "    <g>\n",
              "        <path d=\"M19 3H5c-1.1 0-2 .9-2 2v14c0 1.1.9 2 2 2h14c1.1 0 2-.9 2-2V5c0-1.1-.9-2-2-2zM9 17H7v-7h2v7zm4 0h-2V7h2v10zm4 0h-2v-4h2v4z\"/>\n",
              "    </g>\n",
              "</svg>\n",
              "  </button>\n",
              "\n",
              "<style>\n",
              "  .colab-df-quickchart {\n",
              "      --bg-color: #E8F0FE;\n",
              "      --fill-color: #1967D2;\n",
              "      --hover-bg-color: #E2EBFA;\n",
              "      --hover-fill-color: #174EA6;\n",
              "      --disabled-fill-color: #AAA;\n",
              "      --disabled-bg-color: #DDD;\n",
              "  }\n",
              "\n",
              "  [theme=dark] .colab-df-quickchart {\n",
              "      --bg-color: #3B4455;\n",
              "      --fill-color: #D2E3FC;\n",
              "      --hover-bg-color: #434B5C;\n",
              "      --hover-fill-color: #FFFFFF;\n",
              "      --disabled-bg-color: #3B4455;\n",
              "      --disabled-fill-color: #666;\n",
              "  }\n",
              "\n",
              "  .colab-df-quickchart {\n",
              "    background-color: var(--bg-color);\n",
              "    border: none;\n",
              "    border-radius: 50%;\n",
              "    cursor: pointer;\n",
              "    display: none;\n",
              "    fill: var(--fill-color);\n",
              "    height: 32px;\n",
              "    padding: 0;\n",
              "    width: 32px;\n",
              "  }\n",
              "\n",
              "  .colab-df-quickchart:hover {\n",
              "    background-color: var(--hover-bg-color);\n",
              "    box-shadow: 0 1px 2px rgba(60, 64, 67, 0.3), 0 1px 3px 1px rgba(60, 64, 67, 0.15);\n",
              "    fill: var(--button-hover-fill-color);\n",
              "  }\n",
              "\n",
              "  .colab-df-quickchart-complete:disabled,\n",
              "  .colab-df-quickchart-complete:disabled:hover {\n",
              "    background-color: var(--disabled-bg-color);\n",
              "    fill: var(--disabled-fill-color);\n",
              "    box-shadow: none;\n",
              "  }\n",
              "\n",
              "  .colab-df-spinner {\n",
              "    border: 2px solid var(--fill-color);\n",
              "    border-color: transparent;\n",
              "    border-bottom-color: var(--fill-color);\n",
              "    animation:\n",
              "      spin 1s steps(1) infinite;\n",
              "  }\n",
              "\n",
              "  @keyframes spin {\n",
              "    0% {\n",
              "      border-color: transparent;\n",
              "      border-bottom-color: var(--fill-color);\n",
              "      border-left-color: var(--fill-color);\n",
              "    }\n",
              "    20% {\n",
              "      border-color: transparent;\n",
              "      border-left-color: var(--fill-color);\n",
              "      border-top-color: var(--fill-color);\n",
              "    }\n",
              "    30% {\n",
              "      border-color: transparent;\n",
              "      border-left-color: var(--fill-color);\n",
              "      border-top-color: var(--fill-color);\n",
              "      border-right-color: var(--fill-color);\n",
              "    }\n",
              "    40% {\n",
              "      border-color: transparent;\n",
              "      border-right-color: var(--fill-color);\n",
              "      border-top-color: var(--fill-color);\n",
              "    }\n",
              "    60% {\n",
              "      border-color: transparent;\n",
              "      border-right-color: var(--fill-color);\n",
              "    }\n",
              "    80% {\n",
              "      border-color: transparent;\n",
              "      border-right-color: var(--fill-color);\n",
              "      border-bottom-color: var(--fill-color);\n",
              "    }\n",
              "    90% {\n",
              "      border-color: transparent;\n",
              "      border-bottom-color: var(--fill-color);\n",
              "    }\n",
              "  }\n",
              "</style>\n",
              "\n",
              "  <script>\n",
              "    async function quickchart(key) {\n",
              "      const quickchartButtonEl =\n",
              "        document.querySelector('#' + key + ' button');\n",
              "      quickchartButtonEl.disabled = true;  // To prevent multiple clicks.\n",
              "      quickchartButtonEl.classList.add('colab-df-spinner');\n",
              "      try {\n",
              "        const charts = await google.colab.kernel.invokeFunction(\n",
              "            'suggestCharts', [key], {});\n",
              "      } catch (error) {\n",
              "        console.error('Error during call to suggestCharts:', error);\n",
              "      }\n",
              "      quickchartButtonEl.classList.remove('colab-df-spinner');\n",
              "      quickchartButtonEl.classList.add('colab-df-quickchart-complete');\n",
              "    }\n",
              "    (() => {\n",
              "      let quickchartButtonEl =\n",
              "        document.querySelector('#df-7030ef89-8cdb-4e74-a6af-84d7f69666cc button');\n",
              "      quickchartButtonEl.style.display =\n",
              "        google.colab.kernel.accessAllowed ? 'block' : 'none';\n",
              "    })();\n",
              "  </script>\n",
              "</div>\n",
              "\n",
              "    </div>\n",
              "  </div>\n"
            ]
          },
          "metadata": {},
          "execution_count": 59
        }
      ]
    },
    {
      "cell_type": "code",
      "source": [
        "\n",
        "lista_codigo = df['CODIGO'].tolist()\n",
        "\n",
        "print(lista_codigo)"
      ],
      "metadata": {
        "colab": {
          "base_uri": "https://localhost:8080/"
        },
        "id": "9LSggfUfHyvZ",
        "outputId": "5165462c-eee5-4d97-cb8c-5317f5e537ea"
      },
      "execution_count": 60,
      "outputs": [
        {
          "output_type": "stream",
          "name": "stdout",
          "text": [
            "['CODIGOS', '3.1.50.43.00.00.00.00', '3.1.90.04.00.00.00.00', '3.1.90.04.00.00.00.00', '3.1.90.04.00.00.00.00', '3.1.90.11.00.00.00.00', '3.1.90.11.00.00.00.00', '3.1.90.11.00.00.00.00', '3.1.90.11.00.00.00.00', '3.1.90.11.00.00.00.00', '3.1.90.11.00.00.00.00', '3.1.90.11.00.00.00.00', '3.1.90.11.00.00.00.00', '3.1.90.11.00.00.00.00', '3.1.90.11.00.00.00.00', '3.1.90.11.00.00.00.00', '3.1.90.11.00.00.00.00', '3.1.90.11.00.00.00.00', '3.1.90.11.00.00.00.00', '3.1.90.11.00.00.00.00', '3.1.90.11.00.00.00.00', '3.1.90.11.00.00.00.00', '3.1.90.11.00.00.00.00', '3.1.90.11.00.00.00.00', '3.1.90.11.00.00.00.00', '3.1.90.11.00.00.00.00', '3.1.90.11.00.00.00.00', '3.1.90.11.00.00.00.00', '3.1.90.11.00.00.00.00', '3.1.90.11.00.00.00.00', '3.1.90.13.00.00.00.00', '3.1.90.13.00.00.00.00', '3.1.90.13.00.00.00.00', '3.1.90.13.00.00.00.00', '3.1.90.13.00.00.00.00', '3.1.90.13.00.00.00.00', '3.1.90.13.00.00.00.00', '3.1.90.13.00.00.00.00', '3.1.90.13.00.00.00.00', '3.1.90.13.00.00.00.00', '3.1.90.13.00.00.00.00', '3.1.90.13.00.00.00.00', '3.1.90.13.00.00.00.00', '3.1.90.13.00.00.00.00', '3.1.90.13.00.00.00.00', '3.1.90.13.00.00.00.00', '3.1.90.13.00.00.00.00', '3.1.90.13.00.00.00.00', '3.1.90.13.00.00.00.00', '3.1.90.13.00.00.00.00', '3.1.90.13.00.00.00.00', '3.1.90.13.00.00.00.00', '3.1.90.13.00.00.00.00', '3.1.90.13.00.00.00.00', '3.1.90.13.00.00.00.00', '3.1.90.16.00.00.00.00', '3.1.90.16.00.00.00.00', '3.1.90.16.00.00.00.00', '3.1.90.16.00.00.00.00', '3.1.90.16.00.00.00.00', '3.1.90.16.00.00.00.00', '3.1.90.16.00.00.00.00', '3.1.90.16.00.00.00.00', '3.1.90.16.00.00.00.00', '3.1.90.16.00.00.00.00', '3.1.90.16.00.00.00.00', '3.1.90.16.00.00.00.00', '3.1.90.16.00.00.00.00', '3.1.90.16.00.00.00.00', '3.1.90.16.00.00.00.00', '3.1.90.16.00.00.00.00', '3.1.90.16.00.00.00.00', '3.1.90.16.00.00.00.00', '3.1.90.16.00.00.00.00', '3.1.90.16.00.00.00.00', '3.1.90.16.00.00.00.00', '3.1.90.16.00.00.00.00', '3.1.90.16.00.00.00.00', '3.1.90.16.00.00.00.00', '3.1.90.16.00.00.00.00', '3.1.90.16.00.00.00.00', '3.1.90.91.00.00.00.00', '3.1.90.94.00.00.00.00', '3.1.90.94.00.00.00.00', '3.1.90.94.00.00.00.00', '3.1.90.94.00.00.00.00', '3.1.90.94.00.00.00.00', '3.1.90.94.00.00.00.00', '3.1.90.94.00.00.00.00', '3.1.90.94.00.00.00.00', '3.1.90.94.00.00.00.00', '3.1.90.94.00.00.00.00', '3.1.90.94.00.00.00.00', '3.1.90.94.00.00.00.00', '3.1.90.94.00.00.00.00', '3.1.90.94.00.00.00.00', '3.1.90.94.00.00.00.00', '3.1.90.94.00.00.00.00', '3.1.90.94.00.00.00.00', '3.1.90.94.00.00.00.00', '3.1.90.94.00.00.00.00', '3.1.90.94.00.00.00.00', '3.1.90.94.00.00.00.00', '3.1.90.94.00.00.00.00', '3.1.90.94.00.00.00.00', '3.1.90.94.00.00.00.00', '3.1.91.13.00.00.00.00', '3.1.91.13.00.00.00.00', '3.1.91.13.00.00.00.00', '3.1.91.13.00.00.00.00', '3.1.91.13.00.00.00.00', '3.1.91.13.00.00.00.00', '3.1.91.13.00.00.00.00', '3.1.91.13.00.00.00.00', '3.1.91.13.00.00.00.00', '3.1.91.13.00.00.00.00', '3.1.91.13.00.00.00.00', '3.1.91.13.00.00.00.00', '3.1.91.13.00.00.00.00', '3.1.91.13.00.00.00.00', '3.1.91.13.00.00.00.00', '3.1.91.13.00.00.00.00', '3.1.91.13.00.00.00.00', '3.1.91.13.00.00.00.00', '3.1.91.13.00.00.00.00', '3.1.91.13.00.00.00.00', '3.1.91.13.00.00.00.00', '3.1.91.13.00.00.00.00', '3.1.91.13.00.00.00.00', '3.1.91.13.00.00.00.00', '3.1.91.13.00.00.00.00', '3.1.91.94.00.00.00.00', '3.2.90.21.00.00.00.00', '3.3.30.93.00.00.00.00', '3.3.30.93.00.00.00.00', '3.3.30.93.00.00.00.00', '3.3.30.93.00.00.00.00', '3.3.30.93.00.00.00.00', '3.3.30.93.00.00.00.00', '3.3.50.41.00.00.00.00', '3.3.50.41.00.00.00.00', '3.3.50.41.00.00.00.00', '3.3.50.41.00.00.00.00', '3.3.50.41.00.00.00.00', '3.3.50.41.00.00.00.00', '3.3.50.43.00.00.00.00', '3.3.50.43.00.00.00.00', '3.3.50.43.00.00.00.00', '3.3.50.43.00.00.00.00', '3.3.50.43.00.00.00.00', '3.3.50.43.00.00.00.00', '3.3.50.43.00.00.00.00', '3.3.50.43.00.00.00.00', '3.3.60.45.00.00.00.00', '3.3.67.82.00.00.00.00', '3.3.71.70.00.00.00.00', '3.3.71.70.00.00.00.00', '3.3.71.70.00.00.00.00', '3.3.72.30.00.00.00.00', '3.3.90.14.00.00.00.00', '3.3.90.14.00.00.00.00', '3.3.90.14.00.00.00.00', '3.3.90.14.00.00.00.00', '3.3.90.14.00.00.00.00', '3.3.90.14.00.00.00.00', '3.3.90.14.00.00.00.00', '3.3.90.14.00.00.00.00', '3.3.90.14.00.00.00.00', '3.3.90.14.00.00.00.00', '3.3.90.14.00.00.00.00', '3.3.90.14.00.00.00.00', '3.3.90.14.00.00.00.00', '3.3.90.14.00.00.00.00', '3.3.90.14.00.00.00.00', '3.3.90.14.00.00.00.00', '3.3.90.14.00.00.00.00', '3.3.90.14.00.00.00.00', '3.3.90.14.00.00.00.00', '3.3.90.14.00.00.00.00', '3.3.90.14.00.00.00.00', '3.3.90.14.00.00.00.00', '3.3.90.14.00.00.00.00', '3.3.90.14.00.00.00.00', '3.3.90.14.00.00.00.00', '3.3.90.14.00.00.00.00', '3.3.90.14.00.00.00.00', '3.3.90.14.00.00.00.00', '3.3.90.14.00.00.00.00', '3.3.90.30.00.00.00.00', '3.3.90.30.00.00.00.00', '3.3.90.30.00.00.00.00', '3.3.90.30.00.00.00.00', '3.3.90.30.00.00.00.00', '3.3.90.30.00.00.00.00', '3.3.90.30.00.00.00.00', '3.3.90.30.00.00.00.00', '3.3.90.30.00.00.00.00', '3.3.90.30.00.00.00.00', '3.3.90.30.00.00.00.00', '3.3.90.30.00.00.00.00', '3.3.90.30.00.00.00.00', '3.3.90.30.00.00.00.00', '3.3.90.30.00.00.00.00', '3.3.90.30.00.00.00.00', '3.3.90.30.00.00.00.00', '3.3.90.30.00.00.00.00', '3.3.90.30.00.00.00.00', '3.3.90.30.00.00.00.00', '3.3.90.30.00.00.00.00', '3.3.90.30.00.00.00.00', '3.3.90.30.00.00.00.00', '3.3.90.30.00.00.00.00', '3.3.90.30.00.00.00.00', '3.3.90.30.00.00.00.00', '3.3.90.30.00.00.00.00', '3.3.90.30.00.00.00.00', '3.3.90.30.00.00.00.00', '3.3.90.30.00.00.00.00', '3.3.90.30.00.00.00.00', '3.3.90.30.00.00.00.00', '3.3.90.31.00.00.00.00', '3.3.90.31.00.00.00.00', '3.3.90.31.00.00.00.00', '3.3.90.31.00.00.00.00', '3.3.90.31.00.00.00.00', '3.3.90.31.00.00.00.00', '3.3.90.31.00.00.00.00', '3.3.90.31.00.00.00.00', '3.3.90.31.00.00.00.00', '3.3.90.32.00.00.00.00', '3.3.90.32.00.00.00.00', '3.3.90.32.00.00.00.00', '3.3.90.32.00.00.00.00', '3.3.90.32.00.00.00.00', '3.3.90.32.00.00.00.00', '3.3.90.32.00.00.00.00', '3.3.90.32.00.00.00.00', '3.3.90.32.00.00.00.00', '3.3.90.32.00.00.00.00', '3.3.90.32.00.00.00.00', '3.3.90.32.00.00.00.00', '3.3.90.32.00.00.00.00', '3.3.90.32.00.00.00.00', '3.3.90.32.00.00.00.00', '3.3.90.32.00.00.00.00', '3.3.90.32.00.00.00.00', '3.3.90.32.00.00.00.00', '3.3.90.33.00.00.00.00', '3.3.90.33.00.00.00.00', '3.3.90.33.00.00.00.00', '3.3.90.33.00.00.00.00', '3.3.90.33.00.00.00.00', '3.3.90.33.00.00.00.00', '3.3.90.33.00.00.00.00', '3.3.90.33.00.00.00.00', '3.3.90.33.00.00.00.00', '3.3.90.33.00.00.00.00', '3.3.90.33.00.00.00.00', '3.3.90.33.00.00.00.00', '3.3.90.33.00.00.00.00', '3.3.90.33.00.00.00.00', '3.3.90.33.00.00.00.00', '3.3.90.33.00.00.00.00', '3.3.90.33.00.00.00.00', '3.3.90.33.00.00.00.00', '3.3.90.33.00.00.00.00', '3.3.90.33.00.00.00.00', '3.3.90.33.00.00.00.00', '3.3.90.33.00.00.00.00', '3.3.90.33.00.00.00.00', '3.3.90.33.00.00.00.00', '3.3.90.33.00.00.00.00', '3.3.90.33.00.00.00.00', '3.3.90.33.00.00.00.00', '3.3.90.33.00.00.00.00', '3.3.90.33.00.00.00.00', '3.3.90.33.00.00.00.00', '3.3.90.35.00.00.00.00', '3.3.90.35.00.00.00.00', '3.3.90.35.00.00.00.00', '3.3.90.35.00.00.00.00', '3.3.90.36.00.00.00.00', '3.3.90.36.00.00.00.00', '3.3.90.36.00.00.00.00', '3.3.90.36.00.00.00.00', '3.3.90.36.00.00.00.00', '3.3.90.36.00.00.00.00', '3.3.90.36.00.00.00.00', '3.3.90.36.00.00.00.00', '3.3.90.36.00.00.00.00', '3.3.90.36.00.00.00.00', '3.3.90.36.00.00.00.00', '3.3.90.36.00.00.00.00', '3.3.90.36.00.00.00.00', '3.3.90.36.00.00.00.00', '3.3.90.36.00.00.00.00', '3.3.90.36.00.00.00.00', '3.3.90.36.00.00.00.00', '3.3.90.36.00.00.00.00', '3.3.90.36.00.00.00.00', '3.3.90.36.00.00.00.00', '3.3.90.36.00.00.00.00', '3.3.90.36.00.00.00.00', '3.3.90.36.00.00.00.00', '3.3.90.36.00.00.00.00', '3.3.90.36.00.00.00.00', '3.3.90.36.00.00.00.00', '3.3.90.36.00.00.00.00', '3.3.90.36.00.00.00.00', '3.3.90.36.00.00.00.00', '3.3.90.36.00.00.00.00', '3.3.90.36.00.00.00.00', '3.3.90.37.00.00.00.00', '3.3.90.37.00.00.00.00', '3.3.90.37.00.00.00.00', '3.3.90.39.00.00.00.00', '3.3.90.39.00.00.00.00', '3.3.90.39.00.00.00.00', '3.3.90.39.00.00.00.00', '3.3.90.39.00.00.00.00', '3.3.90.39.00.00.00.00', '3.3.90.39.00.00.00.00', '3.3.90.39.00.00.00.00', '3.3.90.39.00.00.00.00', '3.3.90.39.00.00.00.00', '3.3.90.39.00.00.00.00', '3.3.90.39.00.00.00.00', '3.3.90.39.00.00.00.00', '3.3.90.39.00.00.00.00', '3.3.90.39.00.00.00.00', '3.3.90.39.00.00.00.00', '3.3.90.39.00.00.00.00', '3.3.90.39.00.00.00.00', '3.3.90.39.00.00.00.00', '3.3.90.39.00.00.00.00', '3.3.90.39.00.00.00.00', '3.3.90.39.00.00.00.00', '3.3.90.39.00.00.00.00', '3.3.90.39.00.00.00.00', '3.3.90.39.00.00.00.00', '3.3.90.39.00.00.00.00', '3.3.90.39.00.00.00.00', '3.3.90.39.00.00.00.00', '3.3.90.39.00.00.00.00', '3.3.90.39.00.00.00.00', '3.3.90.39.00.00.00.00', '3.3.90.39.00.00.00.00', '3.3.90.40.00.00.00.00', '3.3.90.40.00.00.00.00', '3.3.90.40.00.00.00.00', '3.3.90.40.00.00.00.00', '3.3.90.40.00.00.00.00', '3.3.90.40.00.00.00.00', '3.3.90.40.00.00.00.00', '3.3.90.40.00.00.00.00', '3.3.90.40.00.00.00.00', '3.3.90.40.00.00.00.00', '3.3.90.40.00.00.00.00', '3.3.90.40.00.00.00.00', '3.3.90.40.00.00.00.00', '3.3.90.40.00.00.00.00', '3.3.90.40.00.00.00.00', '3.3.90.40.00.00.00.00', '3.3.90.40.00.00.00.00', '3.3.90.40.00.00.00.00', '3.3.90.40.00.00.00.00', '3.3.90.40.00.00.00.00', '3.3.90.40.00.00.00.00', '3.3.90.40.00.00.00.00', '3.3.90.40.00.00.00.00', '3.3.90.40.00.00.00.00', '3.3.90.40.00.00.00.00', '3.3.90.40.00.00.00.00', '3.3.90.46.00.00.00.00', '3.3.90.46.00.00.00.00', '3.3.90.46.00.00.00.00', '3.3.90.46.00.00.00.00', '3.3.90.46.00.00.00.00', '3.3.90.46.00.00.00.00', '3.3.90.46.00.00.00.00', '3.3.90.46.00.00.00.00', '3.3.90.46.00.00.00.00', '3.3.90.46.00.00.00.00', '3.3.90.46.00.00.00.00', '3.3.90.46.00.00.00.00', '3.3.90.46.00.00.00.00', '3.3.90.46.00.00.00.00', '3.3.90.46.00.00.00.00', '3.3.90.46.00.00.00.00', '3.3.90.46.00.00.00.00', '3.3.90.46.00.00.00.00', '3.3.90.46.00.00.00.00', '3.3.90.46.00.00.00.00', '3.3.90.46.00.00.00.00', '3.3.90.46.00.00.00.00', '3.3.90.46.00.00.00.00', '3.3.90.46.00.00.00.00', '3.3.90.46.00.00.00.00', '3.3.90.46.00.00.00.00', '3.3.90.47.00.00.00.00', '3.3.90.47.00.00.00.00', '3.3.90.47.00.00.00.00', '3.3.90.48.00.00.00.00', '3.3.90.48.00.00.00.00', '3.3.90.48.00.00.00.00', '3.3.90.48.00.00.00.00', '3.3.90.49.00.00.00.00', '3.3.90.49.00.00.00.00', '3.3.90.49.00.00.00.00', '3.3.90.49.00.00.00.00', '3.3.90.49.00.00.00.00', '3.3.90.49.00.00.00.00', '3.3.90.49.00.00.00.00', '3.3.90.49.00.00.00.00', '3.3.90.49.00.00.00.00', '3.3.90.49.00.00.00.00', '3.3.90.49.00.00.00.00', '3.3.90.49.00.00.00.00', '3.3.90.49.00.00.00.00', '3.3.90.49.00.00.00.00', '3.3.90.49.00.00.00.00', '3.3.90.49.00.00.00.00', '3.3.90.49.00.00.00.00', '3.3.90.49.00.00.00.00', '3.3.90.49.00.00.00.00', '3.3.90.49.00.00.00.00', '3.3.90.49.00.00.00.00', '3.3.90.49.00.00.00.00', '3.3.90.49.00.00.00.00', '3.3.90.49.00.00.00.00', '3.3.90.49.00.00.00.00', '3.3.90.49.00.00.00.00', '3.3.90.91.00.00.00.00', '3.3.90.91.00.00.00.00', '3.3.90.91.00.00.00.00', '3.3.90.91.00.00.00.00', '3.3.90.92.00.00.00.00', '3.3.90.92.00.00.00.00', '3.3.90.92.00.00.00.00', '3.3.90.92.00.00.00.00', '3.3.90.92.00.00.00.00', '3.3.90.93.00.00.00.00', '3.3.90.93.00.00.00.00', '3.3.90.93.00.00.00.00', '3.3.90.93.00.00.00.00', '3.3.90.93.00.00.00.00', '3.3.90.93.00.00.00.00', '3.3.90.93.00.00.00.00', '3.3.90.93.00.00.00.00', '3.3.90.93.00.00.00.00', '3.3.90.93.00.00.00.00', '3.3.90.93.00.00.00.00', '3.3.90.93.00.00.00.00', '3.3.90.93.00.00.00.00', '3.3.90.93.00.00.00.00', '3.3.90.93.00.00.00.00', '3.3.90.93.00.00.00.00', '3.3.90.93.00.00.00.00', '3.3.90.93.00.00.00.00', '3.3.90.93.00.00.00.00', '3.3.90.93.00.00.00.00', '3.3.90.93.00.00.00.00', '3.3.90.93.00.00.00.00', '3.3.90.93.00.00.00.00', '3.3.90.93.00.00.00.00', '3.3.90.93.00.00.00.00', '3.3.90.93.00.00.00.00', '3.3.90.93.00.00.00.00', '3.3.91.34.00.00.00.00', '3.3.91.97.00.00.00.00', '3.3.91.97.00.00.00.00', '3.3.91.97.00.00.00.00', '3.3.91.97.00.00.00.00', '3.3.91.97.00.00.00.00', '3.3.91.97.00.00.00.00', '3.3.95.30.00.00.00.00', '3.3.95.39.00.00.00.00', '4.4.67.83.00.00.00.00', '4.4.90.30.00.00.00.00', '4.4.90.30.00.00.00.00', '4.4.90.39.00.00.00.00', '4.4.90.39.00.00.00.00', '4.4.90.51.00.00.00.00', '4.4.90.51.00.00.00.00', '4.4.90.51.00.00.00.00', '4.4.90.51.00.00.00.00', '4.4.90.51.00.00.00.00', '4.4.90.51.00.00.00.00', '4.4.90.51.00.00.00.00', '4.4.90.51.00.00.00.00', '4.4.90.51.00.00.00.00', '4.4.90.51.00.00.00.00', '4.4.90.51.00.00.00.00', '4.4.90.51.00.00.00.00', '4.4.90.51.00.00.00.00', '4.4.90.51.00.00.00.00', '4.4.90.51.00.00.00.00', '4.4.90.52.00.00.00.00', '4.4.90.52.00.00.00.00', '4.4.90.52.00.00.00.00', '4.4.90.52.00.00.00.00', '4.4.90.52.00.00.00.00', '4.4.90.52.00.00.00.00', '4.4.90.52.00.00.00.00', '4.4.90.52.00.00.00.00', '4.4.90.52.00.00.00.00', '4.4.90.52.00.00.00.00', '4.4.90.52.00.00.00.00', '4.4.90.52.00.00.00.00', '4.4.90.52.00.00.00.00', '4.4.90.52.00.00.00.00', '4.4.90.52.00.00.00.00', '4.4.90.52.00.00.00.00', '4.4.90.52.00.00.00.00', '4.4.90.52.00.00.00.00', '4.4.90.52.00.00.00.00', '4.4.90.52.00.00.00.00', '4.4.90.52.00.00.00.00', '4.4.90.52.00.00.00.00', '4.4.90.52.00.00.00.00', '4.4.90.52.00.00.00.00', '4.4.90.52.00.00.00.00', '4.4.90.52.00.00.00.00', '4.4.90.52.00.00.00.00', '4.4.90.52.00.00.00.00', '4.4.90.52.00.00.00.00', '4.4.90.52.00.00.00.00', '4.4.90.52.00.00.00.00', '4.4.90.52.00.00.00.00', '4.4.90.61.00.00.00.00', '4.4.90.61.00.00.00.00', '4.4.90.61.00.00.00.00', '4.4.90.61.00.00.00.00', '4.4.90.91.00.00.00.00', '4.6.90.71.00.00.00.00', '4.6.90.71.00.00.00.00', '4.6.90.71.00.00.00.00', '9.9.99.00.00.00.00.00', '', '']\n"
          ]
        }
      ]
    },
    {
      "cell_type": "code",
      "source": [
        "print(df.isnull().sum())"
      ],
      "metadata": {
        "id": "4aYXLU5rF-FG",
        "colab": {
          "base_uri": "https://localhost:8080/"
        },
        "outputId": "df67afe8-d9a9-4880-d851-130587dd1345"
      },
      "execution_count": 61,
      "outputs": [
        {
          "output_type": "stream",
          "name": "stdout",
          "text": [
            "CODIGO        0\n",
            "Unnamed: 1    0\n",
            "VALORES       0\n",
            "ATUALIZADO    0\n",
            "dtype: int64\n"
          ]
        }
      ]
    },
    {
      "cell_type": "code",
      "source": [
        "print(df.columns)"
      ],
      "metadata": {
        "id": "Fn-7pYySIVgz",
        "colab": {
          "base_uri": "https://localhost:8080/"
        },
        "outputId": "37e66efa-d4a1-4704-d704-867b3df84434"
      },
      "execution_count": 62,
      "outputs": [
        {
          "output_type": "stream",
          "name": "stdout",
          "text": [
            "Index(['CODIGO', 'Unnamed: 1', 'VALORES', 'ATUALIZADO'], dtype='object')\n"
          ]
        }
      ]
    },
    {
      "cell_type": "code",
      "source": [
        "import pandas as pd\n",
        "\n",
        "# Supondo que você já tenha um DataFrame chamado df\n",
        "# Solicitar ao usuário que insira um código\n",
        "codigo = input(\"Insira o código que deseja pesquisar: \")\n",
        "# Verificar quantas vezes o código aparece na coluna 'CODIGO'\n",
        "count = df['CODIGO'].value_counts()[codigo] if codigo in df['CODIGO'].value_counts().index else 0\n",
        "\n",
        "# Imprimir o resultado\n",
        "print(f\"O código '{codigo}' aparece {count} vez(es) na coluna 'CODIGO'.\")\n",
        "# Filtrar a tabela para obter apenas as linhas com o código inserido\n",
        "df_filtered = df[df['CODIGO'] == codigo]\n",
        "\n",
        "\n",
        "# Verificar se o código não está vazio\n",
        "if codigo == \"\":\n",
        "    print(\"O código inserido está vazio. Não foi possível criar o novo DataFrame.\")\n",
        "else:\n",
        "    # Filtrar a tabela para obter apenas as linhas com o código inserido\n",
        "    df_filtered = df[df['CODIGO'] == codigo]\n",
        "\n",
        "    # Verificar se o código ocorre pelo menos uma vez no DataFrame\n",
        "    if not df_filtered.empty:\n",
        "        # Criar um novo DataFrame com os códigos e os valores correspondentes da coluna 'INICIAL'\n",
        "        novo_df = df_filtered[['CODIGO', 'VALORES']].copy()\n",
        "\n",
        "        # Imprimir o novo DataFrame\n",
        "        print(\"Novo DataFrame com os códigos e valores correspondentes:\")\n",
        "        print(novo_df)\n",
        "    else:\n",
        "        print(f\"O código '{codigo}' não ocorre no DataFrame. Não foi possível criar o novo DataFrame.\")\n"
      ],
      "metadata": {
        "id": "PVJH0BGhLcy2",
        "colab": {
          "base_uri": "https://localhost:8080/"
        },
        "outputId": "2e1beb34-a592-4752-c889-069e6c557343"
      },
      "execution_count": 63,
      "outputs": [
        {
          "output_type": "stream",
          "name": "stdout",
          "text": [
            "Insira o código que deseja pesquisar: 3.1.90.11.00.00.00.00\n",
            "O código '3.1.90.11.00.00.00.00' aparece 25 vez(es) na coluna 'CODIGO'.\n",
            "Novo DataFrame com os códigos e valores correspondentes:\n",
            "                   CODIGO        VALORES\n",
            "5   3.1.90.11.00.00.00.00   7.483.558,37\n",
            "6   3.1.90.11.00.00.00.00     553.710,59\n",
            "7   3.1.90.11.00.00.00.00   7.414.253,75\n",
            "8   3.1.90.11.00.00.00.00   3.592.154,24\n",
            "9   3.1.90.11.00.00.00.00     630.790,02\n",
            "10  3.1.90.11.00.00.00.00   1.777.324,92\n",
            "11  3.1.90.11.00.00.00.00   4.654.352,12\n",
            "12  3.1.90.11.00.00.00.00   2.939.972,37\n",
            "13  3.1.90.11.00.00.00.00   1.158.459,31\n",
            "14  3.1.90.11.00.00.00.00   4.702.978,34\n",
            "15  3.1.90.11.00.00.00.00  48.716.838,14\n",
            "16  3.1.90.11.00.00.00.00  91.937.712,10\n",
            "17  3.1.90.11.00.00.00.00   6.690.689,62\n",
            "18  3.1.90.11.00.00.00.00   1.470.717,87\n",
            "19  3.1.90.11.00.00.00.00   7.588.901,95\n",
            "20  3.1.90.11.00.00.00.00   3.234.432,72\n",
            "21  3.1.90.11.00.00.00.00   2.564.523,65\n",
            "22  3.1.90.11.00.00.00.00   1.017.589,17\n",
            "23  3.1.90.11.00.00.00.00   1.924.330,32\n",
            "24  3.1.90.11.00.00.00.00   1.956.575,10\n",
            "25  3.1.90.11.00.00.00.00   1.192.789,68\n",
            "26  3.1.90.11.00.00.00.00     851.687,31\n",
            "27  3.1.90.11.00.00.00.00     989.688,03\n",
            "28  3.1.90.11.00.00.00.00     974.790,28\n",
            "29  3.1.90.11.00.00.00.00   1.320.463,33\n"
          ]
        }
      ]
    },
    {
      "cell_type": "code",
      "source": [
        "df =novo_df"
      ],
      "metadata": {
        "id": "Gxe7kFu-L2zJ"
      },
      "execution_count": 73,
      "outputs": []
    },
    {
      "cell_type": "code",
      "source": [
        "# Função para formatar os números na coluna 'VALORES'\n",
        "def formatar_numero(valor):\n",
        "    # Converta para string, se já não for\n",
        "    valor = str(valor)\n",
        "    # Substitua vírgulas por pontos\n",
        "    valor = valor.replace(',', '.')\n",
        "    # Remova pontos\n",
        "    valor = valor.replace('.', '')\n",
        "    # Converta para float\n",
        "    return float(valor)\n",
        "\n",
        "# Aplique a função à coluna 'VALORES'\n",
        "df['VALORES'] = df['VALORES'].apply(formatar_numero)\n",
        "\n",
        "# Exiba o DataFrame resultante\n",
        "print(df)\n"
      ],
      "metadata": {
        "colab": {
          "base_uri": "https://localhost:8080/"
        },
        "id": "A7x0JbJNO3sn",
        "outputId": "a0b9bb61-b244-4e2f-a4a4-93a1dcc3e871"
      },
      "execution_count": 74,
      "outputs": [
        {
          "output_type": "stream",
          "name": "stdout",
          "text": [
            "                   CODIGO       VALORES\n",
            "5   3.1.90.11.00.00.00.00  7.483558e+09\n",
            "6   3.1.90.11.00.00.00.00  5.537106e+08\n",
            "7   3.1.90.11.00.00.00.00  7.414254e+09\n",
            "8   3.1.90.11.00.00.00.00  3.592154e+09\n",
            "9   3.1.90.11.00.00.00.00  6.307900e+08\n",
            "10  3.1.90.11.00.00.00.00  1.777325e+09\n",
            "11  3.1.90.11.00.00.00.00  4.654352e+09\n",
            "12  3.1.90.11.00.00.00.00  2.939972e+09\n",
            "13  3.1.90.11.00.00.00.00  1.158459e+09\n",
            "14  3.1.90.11.00.00.00.00  4.702978e+09\n",
            "15  3.1.90.11.00.00.00.00  4.871684e+10\n",
            "16  3.1.90.11.00.00.00.00  9.193771e+10\n",
            "17  3.1.90.11.00.00.00.00  6.690690e+09\n",
            "18  3.1.90.11.00.00.00.00  1.470718e+09\n",
            "19  3.1.90.11.00.00.00.00  7.588902e+09\n",
            "20  3.1.90.11.00.00.00.00  3.234433e+09\n",
            "21  3.1.90.11.00.00.00.00  2.564524e+09\n",
            "22  3.1.90.11.00.00.00.00  1.017589e+09\n",
            "23  3.1.90.11.00.00.00.00  1.924330e+09\n",
            "24  3.1.90.11.00.00.00.00  1.956575e+09\n",
            "25  3.1.90.11.00.00.00.00  1.192790e+09\n",
            "26  3.1.90.11.00.00.00.00  8.516873e+08\n",
            "27  3.1.90.11.00.00.00.00  9.896880e+08\n",
            "28  3.1.90.11.00.00.00.00  9.747903e+08\n",
            "29  3.1.90.11.00.00.00.00  1.320463e+09\n"
          ]
        }
      ]
    },
    {
      "cell_type": "code",
      "source": [
        "soma_valores = novo_df['VALORES'].sum()\n",
        "print(\"A soma dos valores na coluna 'valores' é:\", soma_valores)"
      ],
      "metadata": {
        "colab": {
          "base_uri": "https://localhost:8080/"
        },
        "id": "rPItGQVMNrWy",
        "outputId": "89efc220-ba06-445c-8419-15e1590b8519"
      },
      "execution_count": 75,
      "outputs": [
        {
          "output_type": "stream",
          "name": "stdout",
          "text": [
            "A soma dos valores na coluna 'valores' é: 207339283300.0\n"
          ]
        }
      ]
    },
    {
      "cell_type": "code",
      "source": [
        "soma_valores\n"
      ],
      "metadata": {
        "colab": {
          "base_uri": "https://localhost:8080/"
        },
        "id": "P6XElsOtPOVB",
        "outputId": "3a91ab4d-5f29-42b9-937d-19f8014c8189"
      },
      "execution_count": 76,
      "outputs": [
        {
          "output_type": "execute_result",
          "data": {
            "text/plain": [
              "207339283300.0"
            ]
          },
          "metadata": {},
          "execution_count": 76
        }
      ]
    },
    {
      "cell_type": "code",
      "source": [
        "# Converta para string e remova o ponto decimal\n",
        "valor_formatado = str(int(soma_valores))\n",
        "\n",
        "# Remova o último zero, se existir\n",
        "valor_formatado = valor_formatado.rstrip('0')\n",
        "\n",
        "# Exiba o resultado\n",
        "print(valor_formatado)"
      ],
      "metadata": {
        "colab": {
          "base_uri": "https://localhost:8080/"
        },
        "id": "FysnW-rRcpk3",
        "outputId": "90f5f91e-e89a-40ce-86a7-67c3d16c5c09"
      },
      "execution_count": 77,
      "outputs": [
        {
          "output_type": "stream",
          "name": "stdout",
          "text": [
            "2073392833\n"
          ]
        }
      ]
    },
    {
      "cell_type": "code",
      "source": [
        "numero = valor_formatado\n",
        "valor_int = \"{}\".format(numero)\n",
        "\n",
        "print(valor_formatado)\n",
        "print(type(valor_formatado))\n",
        "\n"
      ],
      "metadata": {
        "colab": {
          "base_uri": "https://localhost:8080/"
        },
        "id": "7gGvCHH2CC_b",
        "outputId": "6ce86060-b39f-462b-bb59-f8dbc643f7ca"
      },
      "execution_count": 78,
      "outputs": [
        {
          "output_type": "stream",
          "name": "stdout",
          "text": [
            "2073392833\n",
            "<class 'str'>\n"
          ]
        }
      ]
    },
    {
      "cell_type": "code",
      "source": [
        "valor_formatado = valor_formatado\n",
        "numero_inteiro = int(valor_formatado)\n",
        "\n",
        "print(numero_inteiro)\n",
        "print(type(numero_inteiro))\n"
      ],
      "metadata": {
        "colab": {
          "base_uri": "https://localhost:8080/"
        },
        "id": "ZCkhJVZYEhRH",
        "outputId": "cc9b523f-6cdf-475a-a71f-b1139f2eb724"
      },
      "execution_count": 79,
      "outputs": [
        {
          "output_type": "stream",
          "name": "stdout",
          "text": [
            "2073392833\n",
            "<class 'int'>\n"
          ]
        }
      ]
    },
    {
      "cell_type": "code",
      "source": [
        "# Formatando o número como reais manualmente\n",
        "numero_inteiro = \"{:,.0f}\".format(numero)"
      ],
      "metadata": {
        "id": "TFci2BJZOHmO"
      },
      "execution_count": 85,
      "outputs": []
    },
    {
      "cell_type": "code",
      "source": [
        "numero_inteiro"
      ],
      "metadata": {
        "colab": {
          "base_uri": "https://localhost:8080/",
          "height": 35
        },
        "id": "ZcKutggmOe9l",
        "outputId": "51ddfd77-43cd-4fa2-d036-bf9b7b61f96e"
      },
      "execution_count": 86,
      "outputs": [
        {
          "output_type": "execute_result",
          "data": {
            "text/plain": [
              "'2,073,392,833'"
            ],
            "application/vnd.google.colaboratory.intrinsic+json": {
              "type": "string"
            }
          },
          "metadata": {},
          "execution_count": 86
        }
      ]
    },
    {
      "cell_type": "code",
      "source": [],
      "metadata": {
        "id": "IgEJOBemKei_"
      },
      "execution_count": 72,
      "outputs": []
    },
    {
      "cell_type": "code",
      "source": [
        "\n"
      ],
      "metadata": {
        "id": "kf5nLsX3Kgfp"
      },
      "execution_count": 72,
      "outputs": []
    },
    {
      "cell_type": "markdown",
      "source": [
        "# Interface\n"
      ],
      "metadata": {
        "id": "krNLZ-JyKfGB"
      }
    }
  ]
}