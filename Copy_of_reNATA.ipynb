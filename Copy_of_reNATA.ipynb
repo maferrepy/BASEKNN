{
  "nbformat": 4,
  "nbformat_minor": 0,
  "metadata": {
    "colab": {
      "provenance": [],
      "authorship_tag": "ABX9TyM1nktjlyejRFUXUvAKuAhU",
      "include_colab_link": true
    },
    "kernelspec": {
      "name": "python3",
      "display_name": "Python 3"
    },
    "language_info": {
      "name": "python"
    }
  },
  "cells": [
    {
      "cell_type": "markdown",
      "metadata": {
        "id": "view-in-github",
        "colab_type": "text"
      },
      "source": [
        "<a href=\"https://colab.research.google.com/github/maferrepy/BASEKNN/blob/main/Copy_of_reNATA.ipynb\" target=\"_parent\"><img src=\"https://colab.research.google.com/assets/colab-badge.svg\" alt=\"Open In Colab\"/></a>"
      ]
    },
    {
      "cell_type": "code",
      "source": [
        "!pip install inflect\n"
      ],
      "metadata": {
        "colab": {
          "base_uri": "https://localhost:8080/"
        },
        "id": "VTRoxyq0FMp1",
        "outputId": "7608f42e-404a-4545-da0a-14639a90faa6"
      },
      "execution_count": 24,
      "outputs": [
        {
          "output_type": "stream",
          "name": "stdout",
          "text": [
            "Requirement already satisfied: inflect in /usr/local/lib/python3.10/dist-packages (7.0.0)\n",
            "Requirement already satisfied: pydantic>=1.9.1 in /usr/local/lib/python3.10/dist-packages (from inflect) (1.10.13)\n",
            "Requirement already satisfied: typing-extensions in /usr/local/lib/python3.10/dist-packages (from inflect) (4.5.0)\n"
          ]
        }
      ]
    },
    {
      "cell_type": "code",
      "source": [
        "import pandas as pd\n"
      ],
      "metadata": {
        "id": "rE5YEhBuMMlB"
      },
      "execution_count": 2,
      "outputs": []
    },
    {
      "cell_type": "code",
      "source": [
        "df_excel =pd.read_excel('/content/Balancete por Secretaria e consolidado 2023 e 2024 MARCOS.xls',sheet_name=\"Balancete por secretaria 2024\")"
      ],
      "metadata": {
        "id": "1-NvMdDkMQZ8"
      },
      "execution_count": 3,
      "outputs": []
    },
    {
      "cell_type": "code",
      "source": [
        "df_excel.to_csv('/content/balancete.csv', index=False)"
      ],
      "metadata": {
        "id": "iSv8g4rV-yYx"
      },
      "execution_count": 4,
      "outputs": []
    },
    {
      "cell_type": "code",
      "source": [
        "df =pd.read_csv(\"/content/balancete.csv\")"
      ],
      "metadata": {
        "id": "QEePMz0pEw2r"
      },
      "execution_count": 5,
      "outputs": []
    },
    {
      "cell_type": "code",
      "source": [
        "df.rename(columns={'Unnamed: 0': 'CODIGO'}, inplace=True)\n",
        "df.rename(columns={'Unnamed: 3': 'ATUALIZADO'}, inplace=True)\n",
        "df.rename(columns={'DOTAÇÃO ': 'VALORES'}, inplace=True)\n",
        "df.drop(df.columns[3:7], axis=1, inplace=True)"
      ],
      "metadata": {
        "id": "mXeodI9DGuQ5"
      },
      "execution_count": 6,
      "outputs": []
    },
    {
      "cell_type": "code",
      "source": [
        "df.head()"
      ],
      "metadata": {
        "id": "13eb3eEsFMKm",
        "colab": {
          "base_uri": "https://localhost:8080/",
          "height": 206
        },
        "outputId": "319781d2-e721-4283-8745-3e9ada05e45b"
      },
      "execution_count": 7,
      "outputs": [
        {
          "output_type": "execute_result",
          "data": {
            "text/plain": [
              "                  CODIGO         02 - SECRETARIA M. DE ADMINISTRAÇÃO   \\\n",
              "0                    NaN                                          NaN   \n",
              "1  3.1.90.11.00.00.00.00  VENCIMENTOS E VANTAGENS FIXAS-PESSOAL CIVIL   \n",
              "2  3.1.90.13.00.00.00.00                      CONTRIBUIÇÕES PATRONAIS   \n",
              "3  3.1.90.16.00.00.00.00      OUTRAS DESPESAS VARIÁVEIS-PESSOAL CIVIL   \n",
              "4  3.1.90.91.00.00.00.00                          SENTENÇAS JUDICIAIS   \n",
              "\n",
              "        VALORES Unnamed: 7  \n",
              "0       INICIAL        ANO  \n",
              "1  7.483.558,37       0,00  \n",
              "2    383.321,64       0,00  \n",
              "3     19.479,28       0,00  \n",
              "4    100.000,00       0,00  "
            ],
            "text/html": [
              "\n",
              "  <div id=\"df-e1fe0490-99bd-411a-9677-942ff267ca78\" class=\"colab-df-container\">\n",
              "    <div>\n",
              "<style scoped>\n",
              "    .dataframe tbody tr th:only-of-type {\n",
              "        vertical-align: middle;\n",
              "    }\n",
              "\n",
              "    .dataframe tbody tr th {\n",
              "        vertical-align: top;\n",
              "    }\n",
              "\n",
              "    .dataframe thead th {\n",
              "        text-align: right;\n",
              "    }\n",
              "</style>\n",
              "<table border=\"1\" class=\"dataframe\">\n",
              "  <thead>\n",
              "    <tr style=\"text-align: right;\">\n",
              "      <th></th>\n",
              "      <th>CODIGO</th>\n",
              "      <th>02 - SECRETARIA M. DE ADMINISTRAÇÃO</th>\n",
              "      <th>VALORES</th>\n",
              "      <th>Unnamed: 7</th>\n",
              "    </tr>\n",
              "  </thead>\n",
              "  <tbody>\n",
              "    <tr>\n",
              "      <th>0</th>\n",
              "      <td>NaN</td>\n",
              "      <td>NaN</td>\n",
              "      <td>INICIAL</td>\n",
              "      <td>ANO</td>\n",
              "    </tr>\n",
              "    <tr>\n",
              "      <th>1</th>\n",
              "      <td>3.1.90.11.00.00.00.00</td>\n",
              "      <td>VENCIMENTOS E VANTAGENS FIXAS-PESSOAL CIVIL</td>\n",
              "      <td>7.483.558,37</td>\n",
              "      <td>0,00</td>\n",
              "    </tr>\n",
              "    <tr>\n",
              "      <th>2</th>\n",
              "      <td>3.1.90.13.00.00.00.00</td>\n",
              "      <td>CONTRIBUIÇÕES PATRONAIS</td>\n",
              "      <td>383.321,64</td>\n",
              "      <td>0,00</td>\n",
              "    </tr>\n",
              "    <tr>\n",
              "      <th>3</th>\n",
              "      <td>3.1.90.16.00.00.00.00</td>\n",
              "      <td>OUTRAS DESPESAS VARIÁVEIS-PESSOAL CIVIL</td>\n",
              "      <td>19.479,28</td>\n",
              "      <td>0,00</td>\n",
              "    </tr>\n",
              "    <tr>\n",
              "      <th>4</th>\n",
              "      <td>3.1.90.91.00.00.00.00</td>\n",
              "      <td>SENTENÇAS JUDICIAIS</td>\n",
              "      <td>100.000,00</td>\n",
              "      <td>0,00</td>\n",
              "    </tr>\n",
              "  </tbody>\n",
              "</table>\n",
              "</div>\n",
              "    <div class=\"colab-df-buttons\">\n",
              "\n",
              "  <div class=\"colab-df-container\">\n",
              "    <button class=\"colab-df-convert\" onclick=\"convertToInteractive('df-e1fe0490-99bd-411a-9677-942ff267ca78')\"\n",
              "            title=\"Convert this dataframe to an interactive table.\"\n",
              "            style=\"display:none;\">\n",
              "\n",
              "  <svg xmlns=\"http://www.w3.org/2000/svg\" height=\"24px\" viewBox=\"0 -960 960 960\">\n",
              "    <path d=\"M120-120v-720h720v720H120Zm60-500h600v-160H180v160Zm220 220h160v-160H400v160Zm0 220h160v-160H400v160ZM180-400h160v-160H180v160Zm440 0h160v-160H620v160ZM180-180h160v-160H180v160Zm440 0h160v-160H620v160Z\"/>\n",
              "  </svg>\n",
              "    </button>\n",
              "\n",
              "  <style>\n",
              "    .colab-df-container {\n",
              "      display:flex;\n",
              "      gap: 12px;\n",
              "    }\n",
              "\n",
              "    .colab-df-convert {\n",
              "      background-color: #E8F0FE;\n",
              "      border: none;\n",
              "      border-radius: 50%;\n",
              "      cursor: pointer;\n",
              "      display: none;\n",
              "      fill: #1967D2;\n",
              "      height: 32px;\n",
              "      padding: 0 0 0 0;\n",
              "      width: 32px;\n",
              "    }\n",
              "\n",
              "    .colab-df-convert:hover {\n",
              "      background-color: #E2EBFA;\n",
              "      box-shadow: 0px 1px 2px rgba(60, 64, 67, 0.3), 0px 1px 3px 1px rgba(60, 64, 67, 0.15);\n",
              "      fill: #174EA6;\n",
              "    }\n",
              "\n",
              "    .colab-df-buttons div {\n",
              "      margin-bottom: 4px;\n",
              "    }\n",
              "\n",
              "    [theme=dark] .colab-df-convert {\n",
              "      background-color: #3B4455;\n",
              "      fill: #D2E3FC;\n",
              "    }\n",
              "\n",
              "    [theme=dark] .colab-df-convert:hover {\n",
              "      background-color: #434B5C;\n",
              "      box-shadow: 0px 1px 3px 1px rgba(0, 0, 0, 0.15);\n",
              "      filter: drop-shadow(0px 1px 2px rgba(0, 0, 0, 0.3));\n",
              "      fill: #FFFFFF;\n",
              "    }\n",
              "  </style>\n",
              "\n",
              "    <script>\n",
              "      const buttonEl =\n",
              "        document.querySelector('#df-e1fe0490-99bd-411a-9677-942ff267ca78 button.colab-df-convert');\n",
              "      buttonEl.style.display =\n",
              "        google.colab.kernel.accessAllowed ? 'block' : 'none';\n",
              "\n",
              "      async function convertToInteractive(key) {\n",
              "        const element = document.querySelector('#df-e1fe0490-99bd-411a-9677-942ff267ca78');\n",
              "        const dataTable =\n",
              "          await google.colab.kernel.invokeFunction('convertToInteractive',\n",
              "                                                    [key], {});\n",
              "        if (!dataTable) return;\n",
              "\n",
              "        const docLinkHtml = 'Like what you see? Visit the ' +\n",
              "          '<a target=\"_blank\" href=https://colab.research.google.com/notebooks/data_table.ipynb>data table notebook</a>'\n",
              "          + ' to learn more about interactive tables.';\n",
              "        element.innerHTML = '';\n",
              "        dataTable['output_type'] = 'display_data';\n",
              "        await google.colab.output.renderOutput(dataTable, element);\n",
              "        const docLink = document.createElement('div');\n",
              "        docLink.innerHTML = docLinkHtml;\n",
              "        element.appendChild(docLink);\n",
              "      }\n",
              "    </script>\n",
              "  </div>\n",
              "\n",
              "\n",
              "<div id=\"df-d790c116-4c5b-41d8-b6a2-5cfbfab81c3c\">\n",
              "  <button class=\"colab-df-quickchart\" onclick=\"quickchart('df-d790c116-4c5b-41d8-b6a2-5cfbfab81c3c')\"\n",
              "            title=\"Suggest charts\"\n",
              "            style=\"display:none;\">\n",
              "\n",
              "<svg xmlns=\"http://www.w3.org/2000/svg\" height=\"24px\"viewBox=\"0 0 24 24\"\n",
              "     width=\"24px\">\n",
              "    <g>\n",
              "        <path d=\"M19 3H5c-1.1 0-2 .9-2 2v14c0 1.1.9 2 2 2h14c1.1 0 2-.9 2-2V5c0-1.1-.9-2-2-2zM9 17H7v-7h2v7zm4 0h-2V7h2v10zm4 0h-2v-4h2v4z\"/>\n",
              "    </g>\n",
              "</svg>\n",
              "  </button>\n",
              "\n",
              "<style>\n",
              "  .colab-df-quickchart {\n",
              "      --bg-color: #E8F0FE;\n",
              "      --fill-color: #1967D2;\n",
              "      --hover-bg-color: #E2EBFA;\n",
              "      --hover-fill-color: #174EA6;\n",
              "      --disabled-fill-color: #AAA;\n",
              "      --disabled-bg-color: #DDD;\n",
              "  }\n",
              "\n",
              "  [theme=dark] .colab-df-quickchart {\n",
              "      --bg-color: #3B4455;\n",
              "      --fill-color: #D2E3FC;\n",
              "      --hover-bg-color: #434B5C;\n",
              "      --hover-fill-color: #FFFFFF;\n",
              "      --disabled-bg-color: #3B4455;\n",
              "      --disabled-fill-color: #666;\n",
              "  }\n",
              "\n",
              "  .colab-df-quickchart {\n",
              "    background-color: var(--bg-color);\n",
              "    border: none;\n",
              "    border-radius: 50%;\n",
              "    cursor: pointer;\n",
              "    display: none;\n",
              "    fill: var(--fill-color);\n",
              "    height: 32px;\n",
              "    padding: 0;\n",
              "    width: 32px;\n",
              "  }\n",
              "\n",
              "  .colab-df-quickchart:hover {\n",
              "    background-color: var(--hover-bg-color);\n",
              "    box-shadow: 0 1px 2px rgba(60, 64, 67, 0.3), 0 1px 3px 1px rgba(60, 64, 67, 0.15);\n",
              "    fill: var(--button-hover-fill-color);\n",
              "  }\n",
              "\n",
              "  .colab-df-quickchart-complete:disabled,\n",
              "  .colab-df-quickchart-complete:disabled:hover {\n",
              "    background-color: var(--disabled-bg-color);\n",
              "    fill: var(--disabled-fill-color);\n",
              "    box-shadow: none;\n",
              "  }\n",
              "\n",
              "  .colab-df-spinner {\n",
              "    border: 2px solid var(--fill-color);\n",
              "    border-color: transparent;\n",
              "    border-bottom-color: var(--fill-color);\n",
              "    animation:\n",
              "      spin 1s steps(1) infinite;\n",
              "  }\n",
              "\n",
              "  @keyframes spin {\n",
              "    0% {\n",
              "      border-color: transparent;\n",
              "      border-bottom-color: var(--fill-color);\n",
              "      border-left-color: var(--fill-color);\n",
              "    }\n",
              "    20% {\n",
              "      border-color: transparent;\n",
              "      border-left-color: var(--fill-color);\n",
              "      border-top-color: var(--fill-color);\n",
              "    }\n",
              "    30% {\n",
              "      border-color: transparent;\n",
              "      border-left-color: var(--fill-color);\n",
              "      border-top-color: var(--fill-color);\n",
              "      border-right-color: var(--fill-color);\n",
              "    }\n",
              "    40% {\n",
              "      border-color: transparent;\n",
              "      border-right-color: var(--fill-color);\n",
              "      border-top-color: var(--fill-color);\n",
              "    }\n",
              "    60% {\n",
              "      border-color: transparent;\n",
              "      border-right-color: var(--fill-color);\n",
              "    }\n",
              "    80% {\n",
              "      border-color: transparent;\n",
              "      border-right-color: var(--fill-color);\n",
              "      border-bottom-color: var(--fill-color);\n",
              "    }\n",
              "    90% {\n",
              "      border-color: transparent;\n",
              "      border-bottom-color: var(--fill-color);\n",
              "    }\n",
              "  }\n",
              "</style>\n",
              "\n",
              "  <script>\n",
              "    async function quickchart(key) {\n",
              "      const quickchartButtonEl =\n",
              "        document.querySelector('#' + key + ' button');\n",
              "      quickchartButtonEl.disabled = true;  // To prevent multiple clicks.\n",
              "      quickchartButtonEl.classList.add('colab-df-spinner');\n",
              "      try {\n",
              "        const charts = await google.colab.kernel.invokeFunction(\n",
              "            'suggestCharts', [key], {});\n",
              "      } catch (error) {\n",
              "        console.error('Error during call to suggestCharts:', error);\n",
              "      }\n",
              "      quickchartButtonEl.classList.remove('colab-df-spinner');\n",
              "      quickchartButtonEl.classList.add('colab-df-quickchart-complete');\n",
              "    }\n",
              "    (() => {\n",
              "      let quickchartButtonEl =\n",
              "        document.querySelector('#df-d790c116-4c5b-41d8-b6a2-5cfbfab81c3c button');\n",
              "      quickchartButtonEl.style.display =\n",
              "        google.colab.kernel.accessAllowed ? 'block' : 'none';\n",
              "    })();\n",
              "  </script>\n",
              "</div>\n",
              "\n",
              "    </div>\n",
              "  </div>\n"
            ]
          },
          "metadata": {},
          "execution_count": 7
        }
      ]
    },
    {
      "cell_type": "code",
      "source": [
        "df = df.drop(0)"
      ],
      "metadata": {
        "id": "EVZLRElIFObC"
      },
      "execution_count": 8,
      "outputs": []
    },
    {
      "cell_type": "code",
      "source": [
        "# Substituir os valores faltantes (NaN) por None\n",
        "df = df.where((pd.notnull(df)), None)\n",
        "\n",
        "# Converter os valores faltantes (None) por um espaço vazio\n",
        "df = df.fillna('')"
      ],
      "metadata": {
        "id": "f0kb07uzGvHu"
      },
      "execution_count": 9,
      "outputs": []
    },
    {
      "cell_type": "code",
      "source": [
        "df.head(25)\n"
      ],
      "metadata": {
        "id": "yNTE3TqnFk3V",
        "colab": {
          "base_uri": "https://localhost:8080/",
          "height": 833
        },
        "outputId": "0e9e6ee5-38d1-43b8-c4f7-095782e1776c"
      },
      "execution_count": 10,
      "outputs": [
        {
          "output_type": "execute_result",
          "data": {
            "text/plain": [
              "                   CODIGO               02 - SECRETARIA M. DE ADMINISTRAÇÃO   \\\n",
              "1   3.1.90.11.00.00.00.00        VENCIMENTOS E VANTAGENS FIXAS-PESSOAL CIVIL   \n",
              "2   3.1.90.13.00.00.00.00                            CONTRIBUIÇÕES PATRONAIS   \n",
              "3   3.1.90.16.00.00.00.00            OUTRAS DESPESAS VARIÁVEIS-PESSOAL CIVIL   \n",
              "4   3.1.90.91.00.00.00.00                                SENTENÇAS JUDICIAIS   \n",
              "5   3.1.90.94.00.00.00.00           INDENIZAÇÕES E RESTITUIÇÕES TRABALHISTAS   \n",
              "6   3.1.91.13.00.00.00.00                            CONTRIBUIÇÕES PATRONAIS   \n",
              "7   3.3.30.93.00.00.00.00                        INDENIZAÇÕES E RESTITUIÇÕES   \n",
              "8   3.3.50.41.00.00.00.00                                      CONTRIBUIÇÕES   \n",
              "9   3.3.50.43.00.00.00.00                                 SUBVENÇÕES SOCIAIS   \n",
              "10  3.3.90.14.00.00.00.00                                      DIÁRIAS-CIVIL   \n",
              "11  3.3.90.30.00.00.00.00                                MATERIAL DE CONSUMO   \n",
              "12  3.3.90.31.00.00.00.00  PREMIAÇÕES CULTURAIS, ARTÍSTICAS, CIENTÍFICAS,...   \n",
              "13  3.3.90.32.00.00.00.00  MATERIAL, BEM OU SERVIÇO PARA DISTRIBUIÇÃO GRA...   \n",
              "14  3.3.90.33.00.00.00.00                 PASSAGENS E DESPESAS COM LOCOMOÇÃO   \n",
              "15  3.3.90.35.00.00.00.00                            SERVIÇOS DE CONSULTORIA   \n",
              "16  3.3.90.36.00.00.00.00         OUTROS SERVIÇOS DE TERCEIROS-PESSOA FÍSICA   \n",
              "17  3.3.90.39.00.00.00.00       OUTROS SERVIÇOS DE TERCEIROS-PESSOA JURÍDICA   \n",
              "18  3.3.90.40.00.00.00.00  SERVIÇOS DE TECNOLOGIA DA INFORMAÇÃO E COMUNIC...   \n",
              "19  3.3.90.46.00.00.00.00                                AUXÍLIO-ALIMENTAÇÃO   \n",
              "20  3.3.90.47.00.00.00.00             OBRIGAÇÕES TRIBUTÁRIAS E CONTRIBUTIVAS   \n",
              "21  3.3.90.49.00.00.00.00                                 AUXÍLIO-TRANSPORTE   \n",
              "22  3.3.90.92.00.00.00.00                  DESPESAS DE EXERCÍCIOS ANTERIORES   \n",
              "23  3.3.90.93.00.00.00.00                        INDENIZAÇÕES E RESTITUIÇÕES   \n",
              "24  3.3.91.97.00.00.00.00  APORTE PARA COBERTURA DO DÉFICIT ATUARIAL DO RPPS   \n",
              "25  4.4.90.52.00.00.00.00                 EQUIPAMENTOS E MATERIAL PERMANENTE   \n",
              "\n",
              "         VALORES Unnamed: 7  \n",
              "1   7.483.558,37       0,00  \n",
              "2     383.321,64       0,00  \n",
              "3      19.479,28       0,00  \n",
              "4     100.000,00       0,00  \n",
              "5     290.000,00       0,00  \n",
              "6   2.681.165,31       0,00  \n",
              "7      12.000,00       0,00  \n",
              "8         500,00       0,00  \n",
              "9         500,00       0,00  \n",
              "10     30.000,00       0,00  \n",
              "11    355.000,00       0,00  \n",
              "12      1.000,00       0,00  \n",
              "13     10.000,00       0,00  \n",
              "14     30.000,00       0,00  \n",
              "15     10.000,00       0,00  \n",
              "16    775.202,24       0,00  \n",
              "17  2.147.075,00       0,00  \n",
              "18  1.500.250,00       0,00  \n",
              "19    634.695,87       0,00  \n",
              "20      5.000,00       0,00  \n",
              "21    177.724,94       0,00  \n",
              "22     20.000,00       0,00  \n",
              "23     50.000,00       0,00  \n",
              "24    851.915,91       0,00  \n",
              "25    712.000,00       0,00  "
            ],
            "text/html": [
              "\n",
              "  <div id=\"df-62ea413c-d737-4627-ae22-275854ace706\" class=\"colab-df-container\">\n",
              "    <div>\n",
              "<style scoped>\n",
              "    .dataframe tbody tr th:only-of-type {\n",
              "        vertical-align: middle;\n",
              "    }\n",
              "\n",
              "    .dataframe tbody tr th {\n",
              "        vertical-align: top;\n",
              "    }\n",
              "\n",
              "    .dataframe thead th {\n",
              "        text-align: right;\n",
              "    }\n",
              "</style>\n",
              "<table border=\"1\" class=\"dataframe\">\n",
              "  <thead>\n",
              "    <tr style=\"text-align: right;\">\n",
              "      <th></th>\n",
              "      <th>CODIGO</th>\n",
              "      <th>02 - SECRETARIA M. DE ADMINISTRAÇÃO</th>\n",
              "      <th>VALORES</th>\n",
              "      <th>Unnamed: 7</th>\n",
              "    </tr>\n",
              "  </thead>\n",
              "  <tbody>\n",
              "    <tr>\n",
              "      <th>1</th>\n",
              "      <td>3.1.90.11.00.00.00.00</td>\n",
              "      <td>VENCIMENTOS E VANTAGENS FIXAS-PESSOAL CIVIL</td>\n",
              "      <td>7.483.558,37</td>\n",
              "      <td>0,00</td>\n",
              "    </tr>\n",
              "    <tr>\n",
              "      <th>2</th>\n",
              "      <td>3.1.90.13.00.00.00.00</td>\n",
              "      <td>CONTRIBUIÇÕES PATRONAIS</td>\n",
              "      <td>383.321,64</td>\n",
              "      <td>0,00</td>\n",
              "    </tr>\n",
              "    <tr>\n",
              "      <th>3</th>\n",
              "      <td>3.1.90.16.00.00.00.00</td>\n",
              "      <td>OUTRAS DESPESAS VARIÁVEIS-PESSOAL CIVIL</td>\n",
              "      <td>19.479,28</td>\n",
              "      <td>0,00</td>\n",
              "    </tr>\n",
              "    <tr>\n",
              "      <th>4</th>\n",
              "      <td>3.1.90.91.00.00.00.00</td>\n",
              "      <td>SENTENÇAS JUDICIAIS</td>\n",
              "      <td>100.000,00</td>\n",
              "      <td>0,00</td>\n",
              "    </tr>\n",
              "    <tr>\n",
              "      <th>5</th>\n",
              "      <td>3.1.90.94.00.00.00.00</td>\n",
              "      <td>INDENIZAÇÕES E RESTITUIÇÕES TRABALHISTAS</td>\n",
              "      <td>290.000,00</td>\n",
              "      <td>0,00</td>\n",
              "    </tr>\n",
              "    <tr>\n",
              "      <th>6</th>\n",
              "      <td>3.1.91.13.00.00.00.00</td>\n",
              "      <td>CONTRIBUIÇÕES PATRONAIS</td>\n",
              "      <td>2.681.165,31</td>\n",
              "      <td>0,00</td>\n",
              "    </tr>\n",
              "    <tr>\n",
              "      <th>7</th>\n",
              "      <td>3.3.30.93.00.00.00.00</td>\n",
              "      <td>INDENIZAÇÕES E RESTITUIÇÕES</td>\n",
              "      <td>12.000,00</td>\n",
              "      <td>0,00</td>\n",
              "    </tr>\n",
              "    <tr>\n",
              "      <th>8</th>\n",
              "      <td>3.3.50.41.00.00.00.00</td>\n",
              "      <td>CONTRIBUIÇÕES</td>\n",
              "      <td>500,00</td>\n",
              "      <td>0,00</td>\n",
              "    </tr>\n",
              "    <tr>\n",
              "      <th>9</th>\n",
              "      <td>3.3.50.43.00.00.00.00</td>\n",
              "      <td>SUBVENÇÕES SOCIAIS</td>\n",
              "      <td>500,00</td>\n",
              "      <td>0,00</td>\n",
              "    </tr>\n",
              "    <tr>\n",
              "      <th>10</th>\n",
              "      <td>3.3.90.14.00.00.00.00</td>\n",
              "      <td>DIÁRIAS-CIVIL</td>\n",
              "      <td>30.000,00</td>\n",
              "      <td>0,00</td>\n",
              "    </tr>\n",
              "    <tr>\n",
              "      <th>11</th>\n",
              "      <td>3.3.90.30.00.00.00.00</td>\n",
              "      <td>MATERIAL DE CONSUMO</td>\n",
              "      <td>355.000,00</td>\n",
              "      <td>0,00</td>\n",
              "    </tr>\n",
              "    <tr>\n",
              "      <th>12</th>\n",
              "      <td>3.3.90.31.00.00.00.00</td>\n",
              "      <td>PREMIAÇÕES CULTURAIS, ARTÍSTICAS, CIENTÍFICAS,...</td>\n",
              "      <td>1.000,00</td>\n",
              "      <td>0,00</td>\n",
              "    </tr>\n",
              "    <tr>\n",
              "      <th>13</th>\n",
              "      <td>3.3.90.32.00.00.00.00</td>\n",
              "      <td>MATERIAL, BEM OU SERVIÇO PARA DISTRIBUIÇÃO GRA...</td>\n",
              "      <td>10.000,00</td>\n",
              "      <td>0,00</td>\n",
              "    </tr>\n",
              "    <tr>\n",
              "      <th>14</th>\n",
              "      <td>3.3.90.33.00.00.00.00</td>\n",
              "      <td>PASSAGENS E DESPESAS COM LOCOMOÇÃO</td>\n",
              "      <td>30.000,00</td>\n",
              "      <td>0,00</td>\n",
              "    </tr>\n",
              "    <tr>\n",
              "      <th>15</th>\n",
              "      <td>3.3.90.35.00.00.00.00</td>\n",
              "      <td>SERVIÇOS DE CONSULTORIA</td>\n",
              "      <td>10.000,00</td>\n",
              "      <td>0,00</td>\n",
              "    </tr>\n",
              "    <tr>\n",
              "      <th>16</th>\n",
              "      <td>3.3.90.36.00.00.00.00</td>\n",
              "      <td>OUTROS SERVIÇOS DE TERCEIROS-PESSOA FÍSICA</td>\n",
              "      <td>775.202,24</td>\n",
              "      <td>0,00</td>\n",
              "    </tr>\n",
              "    <tr>\n",
              "      <th>17</th>\n",
              "      <td>3.3.90.39.00.00.00.00</td>\n",
              "      <td>OUTROS SERVIÇOS DE TERCEIROS-PESSOA JURÍDICA</td>\n",
              "      <td>2.147.075,00</td>\n",
              "      <td>0,00</td>\n",
              "    </tr>\n",
              "    <tr>\n",
              "      <th>18</th>\n",
              "      <td>3.3.90.40.00.00.00.00</td>\n",
              "      <td>SERVIÇOS DE TECNOLOGIA DA INFORMAÇÃO E COMUNIC...</td>\n",
              "      <td>1.500.250,00</td>\n",
              "      <td>0,00</td>\n",
              "    </tr>\n",
              "    <tr>\n",
              "      <th>19</th>\n",
              "      <td>3.3.90.46.00.00.00.00</td>\n",
              "      <td>AUXÍLIO-ALIMENTAÇÃO</td>\n",
              "      <td>634.695,87</td>\n",
              "      <td>0,00</td>\n",
              "    </tr>\n",
              "    <tr>\n",
              "      <th>20</th>\n",
              "      <td>3.3.90.47.00.00.00.00</td>\n",
              "      <td>OBRIGAÇÕES TRIBUTÁRIAS E CONTRIBUTIVAS</td>\n",
              "      <td>5.000,00</td>\n",
              "      <td>0,00</td>\n",
              "    </tr>\n",
              "    <tr>\n",
              "      <th>21</th>\n",
              "      <td>3.3.90.49.00.00.00.00</td>\n",
              "      <td>AUXÍLIO-TRANSPORTE</td>\n",
              "      <td>177.724,94</td>\n",
              "      <td>0,00</td>\n",
              "    </tr>\n",
              "    <tr>\n",
              "      <th>22</th>\n",
              "      <td>3.3.90.92.00.00.00.00</td>\n",
              "      <td>DESPESAS DE EXERCÍCIOS ANTERIORES</td>\n",
              "      <td>20.000,00</td>\n",
              "      <td>0,00</td>\n",
              "    </tr>\n",
              "    <tr>\n",
              "      <th>23</th>\n",
              "      <td>3.3.90.93.00.00.00.00</td>\n",
              "      <td>INDENIZAÇÕES E RESTITUIÇÕES</td>\n",
              "      <td>50.000,00</td>\n",
              "      <td>0,00</td>\n",
              "    </tr>\n",
              "    <tr>\n",
              "      <th>24</th>\n",
              "      <td>3.3.91.97.00.00.00.00</td>\n",
              "      <td>APORTE PARA COBERTURA DO DÉFICIT ATUARIAL DO RPPS</td>\n",
              "      <td>851.915,91</td>\n",
              "      <td>0,00</td>\n",
              "    </tr>\n",
              "    <tr>\n",
              "      <th>25</th>\n",
              "      <td>4.4.90.52.00.00.00.00</td>\n",
              "      <td>EQUIPAMENTOS E MATERIAL PERMANENTE</td>\n",
              "      <td>712.000,00</td>\n",
              "      <td>0,00</td>\n",
              "    </tr>\n",
              "  </tbody>\n",
              "</table>\n",
              "</div>\n",
              "    <div class=\"colab-df-buttons\">\n",
              "\n",
              "  <div class=\"colab-df-container\">\n",
              "    <button class=\"colab-df-convert\" onclick=\"convertToInteractive('df-62ea413c-d737-4627-ae22-275854ace706')\"\n",
              "            title=\"Convert this dataframe to an interactive table.\"\n",
              "            style=\"display:none;\">\n",
              "\n",
              "  <svg xmlns=\"http://www.w3.org/2000/svg\" height=\"24px\" viewBox=\"0 -960 960 960\">\n",
              "    <path d=\"M120-120v-720h720v720H120Zm60-500h600v-160H180v160Zm220 220h160v-160H400v160Zm0 220h160v-160H400v160ZM180-400h160v-160H180v160Zm440 0h160v-160H620v160ZM180-180h160v-160H180v160Zm440 0h160v-160H620v160Z\"/>\n",
              "  </svg>\n",
              "    </button>\n",
              "\n",
              "  <style>\n",
              "    .colab-df-container {\n",
              "      display:flex;\n",
              "      gap: 12px;\n",
              "    }\n",
              "\n",
              "    .colab-df-convert {\n",
              "      background-color: #E8F0FE;\n",
              "      border: none;\n",
              "      border-radius: 50%;\n",
              "      cursor: pointer;\n",
              "      display: none;\n",
              "      fill: #1967D2;\n",
              "      height: 32px;\n",
              "      padding: 0 0 0 0;\n",
              "      width: 32px;\n",
              "    }\n",
              "\n",
              "    .colab-df-convert:hover {\n",
              "      background-color: #E2EBFA;\n",
              "      box-shadow: 0px 1px 2px rgba(60, 64, 67, 0.3), 0px 1px 3px 1px rgba(60, 64, 67, 0.15);\n",
              "      fill: #174EA6;\n",
              "    }\n",
              "\n",
              "    .colab-df-buttons div {\n",
              "      margin-bottom: 4px;\n",
              "    }\n",
              "\n",
              "    [theme=dark] .colab-df-convert {\n",
              "      background-color: #3B4455;\n",
              "      fill: #D2E3FC;\n",
              "    }\n",
              "\n",
              "    [theme=dark] .colab-df-convert:hover {\n",
              "      background-color: #434B5C;\n",
              "      box-shadow: 0px 1px 3px 1px rgba(0, 0, 0, 0.15);\n",
              "      filter: drop-shadow(0px 1px 2px rgba(0, 0, 0, 0.3));\n",
              "      fill: #FFFFFF;\n",
              "    }\n",
              "  </style>\n",
              "\n",
              "    <script>\n",
              "      const buttonEl =\n",
              "        document.querySelector('#df-62ea413c-d737-4627-ae22-275854ace706 button.colab-df-convert');\n",
              "      buttonEl.style.display =\n",
              "        google.colab.kernel.accessAllowed ? 'block' : 'none';\n",
              "\n",
              "      async function convertToInteractive(key) {\n",
              "        const element = document.querySelector('#df-62ea413c-d737-4627-ae22-275854ace706');\n",
              "        const dataTable =\n",
              "          await google.colab.kernel.invokeFunction('convertToInteractive',\n",
              "                                                    [key], {});\n",
              "        if (!dataTable) return;\n",
              "\n",
              "        const docLinkHtml = 'Like what you see? Visit the ' +\n",
              "          '<a target=\"_blank\" href=https://colab.research.google.com/notebooks/data_table.ipynb>data table notebook</a>'\n",
              "          + ' to learn more about interactive tables.';\n",
              "        element.innerHTML = '';\n",
              "        dataTable['output_type'] = 'display_data';\n",
              "        await google.colab.output.renderOutput(dataTable, element);\n",
              "        const docLink = document.createElement('div');\n",
              "        docLink.innerHTML = docLinkHtml;\n",
              "        element.appendChild(docLink);\n",
              "      }\n",
              "    </script>\n",
              "  </div>\n",
              "\n",
              "\n",
              "<div id=\"df-560bb2cf-f1fe-48dd-b417-90d1aa0daac4\">\n",
              "  <button class=\"colab-df-quickchart\" onclick=\"quickchart('df-560bb2cf-f1fe-48dd-b417-90d1aa0daac4')\"\n",
              "            title=\"Suggest charts\"\n",
              "            style=\"display:none;\">\n",
              "\n",
              "<svg xmlns=\"http://www.w3.org/2000/svg\" height=\"24px\"viewBox=\"0 0 24 24\"\n",
              "     width=\"24px\">\n",
              "    <g>\n",
              "        <path d=\"M19 3H5c-1.1 0-2 .9-2 2v14c0 1.1.9 2 2 2h14c1.1 0 2-.9 2-2V5c0-1.1-.9-2-2-2zM9 17H7v-7h2v7zm4 0h-2V7h2v10zm4 0h-2v-4h2v4z\"/>\n",
              "    </g>\n",
              "</svg>\n",
              "  </button>\n",
              "\n",
              "<style>\n",
              "  .colab-df-quickchart {\n",
              "      --bg-color: #E8F0FE;\n",
              "      --fill-color: #1967D2;\n",
              "      --hover-bg-color: #E2EBFA;\n",
              "      --hover-fill-color: #174EA6;\n",
              "      --disabled-fill-color: #AAA;\n",
              "      --disabled-bg-color: #DDD;\n",
              "  }\n",
              "\n",
              "  [theme=dark] .colab-df-quickchart {\n",
              "      --bg-color: #3B4455;\n",
              "      --fill-color: #D2E3FC;\n",
              "      --hover-bg-color: #434B5C;\n",
              "      --hover-fill-color: #FFFFFF;\n",
              "      --disabled-bg-color: #3B4455;\n",
              "      --disabled-fill-color: #666;\n",
              "  }\n",
              "\n",
              "  .colab-df-quickchart {\n",
              "    background-color: var(--bg-color);\n",
              "    border: none;\n",
              "    border-radius: 50%;\n",
              "    cursor: pointer;\n",
              "    display: none;\n",
              "    fill: var(--fill-color);\n",
              "    height: 32px;\n",
              "    padding: 0;\n",
              "    width: 32px;\n",
              "  }\n",
              "\n",
              "  .colab-df-quickchart:hover {\n",
              "    background-color: var(--hover-bg-color);\n",
              "    box-shadow: 0 1px 2px rgba(60, 64, 67, 0.3), 0 1px 3px 1px rgba(60, 64, 67, 0.15);\n",
              "    fill: var(--button-hover-fill-color);\n",
              "  }\n",
              "\n",
              "  .colab-df-quickchart-complete:disabled,\n",
              "  .colab-df-quickchart-complete:disabled:hover {\n",
              "    background-color: var(--disabled-bg-color);\n",
              "    fill: var(--disabled-fill-color);\n",
              "    box-shadow: none;\n",
              "  }\n",
              "\n",
              "  .colab-df-spinner {\n",
              "    border: 2px solid var(--fill-color);\n",
              "    border-color: transparent;\n",
              "    border-bottom-color: var(--fill-color);\n",
              "    animation:\n",
              "      spin 1s steps(1) infinite;\n",
              "  }\n",
              "\n",
              "  @keyframes spin {\n",
              "    0% {\n",
              "      border-color: transparent;\n",
              "      border-bottom-color: var(--fill-color);\n",
              "      border-left-color: var(--fill-color);\n",
              "    }\n",
              "    20% {\n",
              "      border-color: transparent;\n",
              "      border-left-color: var(--fill-color);\n",
              "      border-top-color: var(--fill-color);\n",
              "    }\n",
              "    30% {\n",
              "      border-color: transparent;\n",
              "      border-left-color: var(--fill-color);\n",
              "      border-top-color: var(--fill-color);\n",
              "      border-right-color: var(--fill-color);\n",
              "    }\n",
              "    40% {\n",
              "      border-color: transparent;\n",
              "      border-right-color: var(--fill-color);\n",
              "      border-top-color: var(--fill-color);\n",
              "    }\n",
              "    60% {\n",
              "      border-color: transparent;\n",
              "      border-right-color: var(--fill-color);\n",
              "    }\n",
              "    80% {\n",
              "      border-color: transparent;\n",
              "      border-right-color: var(--fill-color);\n",
              "      border-bottom-color: var(--fill-color);\n",
              "    }\n",
              "    90% {\n",
              "      border-color: transparent;\n",
              "      border-bottom-color: var(--fill-color);\n",
              "    }\n",
              "  }\n",
              "</style>\n",
              "\n",
              "  <script>\n",
              "    async function quickchart(key) {\n",
              "      const quickchartButtonEl =\n",
              "        document.querySelector('#' + key + ' button');\n",
              "      quickchartButtonEl.disabled = true;  // To prevent multiple clicks.\n",
              "      quickchartButtonEl.classList.add('colab-df-spinner');\n",
              "      try {\n",
              "        const charts = await google.colab.kernel.invokeFunction(\n",
              "            'suggestCharts', [key], {});\n",
              "      } catch (error) {\n",
              "        console.error('Error during call to suggestCharts:', error);\n",
              "      }\n",
              "      quickchartButtonEl.classList.remove('colab-df-spinner');\n",
              "      quickchartButtonEl.classList.add('colab-df-quickchart-complete');\n",
              "    }\n",
              "    (() => {\n",
              "      let quickchartButtonEl =\n",
              "        document.querySelector('#df-560bb2cf-f1fe-48dd-b417-90d1aa0daac4 button');\n",
              "      quickchartButtonEl.style.display =\n",
              "        google.colab.kernel.accessAllowed ? 'block' : 'none';\n",
              "    })();\n",
              "  </script>\n",
              "</div>\n",
              "\n",
              "    </div>\n",
              "  </div>\n"
            ]
          },
          "metadata": {},
          "execution_count": 10
        }
      ]
    },
    {
      "cell_type": "code",
      "source": [
        "\n",
        "lista_codigo = df['CODIGO'].tolist()\n",
        "\n",
        "print(lista_codigo)"
      ],
      "metadata": {
        "colab": {
          "base_uri": "https://localhost:8080/"
        },
        "id": "9LSggfUfHyvZ",
        "outputId": "94e2d656-d0ba-47c4-a71b-0b670443fb68"
      },
      "execution_count": 11,
      "outputs": [
        {
          "output_type": "stream",
          "name": "stdout",
          "text": [
            "['3.1.90.11.00.00.00.00', '3.1.90.13.00.00.00.00', '3.1.90.16.00.00.00.00', '3.1.90.91.00.00.00.00', '3.1.90.94.00.00.00.00', '3.1.91.13.00.00.00.00', '3.3.30.93.00.00.00.00', '3.3.50.41.00.00.00.00', '3.3.50.43.00.00.00.00', '3.3.90.14.00.00.00.00', '3.3.90.30.00.00.00.00', '3.3.90.31.00.00.00.00', '3.3.90.32.00.00.00.00', '3.3.90.33.00.00.00.00', '3.3.90.35.00.00.00.00', '3.3.90.36.00.00.00.00', '3.3.90.39.00.00.00.00', '3.3.90.40.00.00.00.00', '3.3.90.46.00.00.00.00', '3.3.90.47.00.00.00.00', '3.3.90.49.00.00.00.00', '3.3.90.92.00.00.00.00', '3.3.90.93.00.00.00.00', '3.3.91.97.00.00.00.00', '4.4.90.52.00.00.00.00', '', '', '', '', '3.1.90.11.00.00.00.00', '3.1.90.13.00.00.00.00', '3.1.90.16.00.00.00.00', '3.1.90.94.00.00.00.00', '3.1.91.13.00.00.00.00', '3.3.30.93.00.00.00.00', '3.3.90.14.00.00.00.00', '3.3.90.30.00.00.00.00', '3.3.90.33.00.00.00.00', '3.3.90.36.00.00.00.00', '3.3.90.46.00.00.00.00', '3.3.90.49.00.00.00.00', '3.3.90.93.00.00.00.00', '4.4.90.52.00.00.00.00', '', '', '', '', '3.1.90.11.00.00.00.00', '3.1.90.13.00.00.00.00', '3.1.90.16.00.00.00.00', '3.1.90.94.00.00.00.00', '3.1.91.13.00.00.00.00', '3.3.30.93.00.00.00.00', '3.3.90.14.00.00.00.00', '3.3.90.30.00.00.00.00', '3.3.90.31.00.00.00.00', '3.3.90.32.00.00.00.00', '3.3.90.33.00.00.00.00', '3.3.90.36.00.00.00.00', '3.3.90.39.00.00.00.00', '3.3.90.40.00.00.00.00', '3.3.90.46.00.00.00.00', '3.3.90.49.00.00.00.00', '3.3.90.91.00.00.00.00', '3.3.90.92.00.00.00.00', '3.3.90.93.00.00.00.00', '4.4.90.51.00.00.00.00', '4.4.90.52.00.00.00.00', '', '', '', '', '3.1.90.11.00.00.00.00', '3.1.90.13.00.00.00.00', '3.1.90.16.00.00.00.00', '3.1.90.94.00.00.00.00', '3.1.91.13.00.00.00.00', '3.3.90.14.00.00.00.00', '3.3.90.30.00.00.00.00', '3.3.90.33.00.00.00.00', '3.3.90.35.00.00.00.00', '3.3.90.36.00.00.00.00', '3.3.90.39.00.00.00.00', '3.3.90.40.00.00.00.00', '3.3.90.46.00.00.00.00', '3.3.90.49.00.00.00.00', '3.3.90.93.00.00.00.00', '4.4.90.52.00.00.00.00', '', '', '', '', '3.1.90.11.00.00.00.00', '3.1.90.13.00.00.00.00', '3.1.90.16.00.00.00.00', '3.1.90.94.00.00.00.00', '3.1.91.13.00.00.00.00', '3.3.90.14.00.00.00.00', '3.3.90.30.00.00.00.00', '3.3.90.32.00.00.00.00', '3.3.90.33.00.00.00.00', '3.3.90.36.00.00.00.00', '3.3.90.39.00.00.00.00', '3.3.90.40.00.00.00.00', '3.3.90.46.00.00.00.00', '3.3.90.49.00.00.00.00', '3.3.90.93.00.00.00.00', '4.4.90.52.00.00.00.00', '', '', '', '', '3.1.90.11.00.00.00.00', '3.1.90.13.00.00.00.00', '3.1.90.16.00.00.00.00', '3.1.90.94.00.00.00.00', '3.1.91.13.00.00.00.00', '3.3.30.93.00.00.00.00', '3.3.50.41.00.00.00.00', '3.3.50.43.00.00.00.00', '3.3.90.14.00.00.00.00', '3.3.90.30.00.00.00.00', '3.3.90.31.00.00.00.00', '3.3.90.32.00.00.00.00', '3.3.90.33.00.00.00.00', '3.3.90.36.00.00.00.00', '3.3.90.39.00.00.00.00', '3.3.90.40.00.00.00.00', '3.3.90.46.00.00.00.00', '3.3.90.49.00.00.00.00', '3.3.90.93.00.00.00.00', '4.4.90.51.00.00.00.00', '4.4.90.52.00.00.00.00', '3.1.90.11.00.00.00.00', '', '', '', '', '3.1.90.13.00.00.00.00', '3.1.90.16.00.00.00.00', '3.1.91.13.00.00.00.00', '3.1.91.94.00.00.00.00', '3.3.30.93.00.00.00.00', '3.3.90.14.00.00.00.00', '3.3.90.30.00.00.00.00', '3.3.90.32.00.00.00.00', '3.3.90.33.00.00.00.00', '3.3.90.36.00.00.00.00', '3.3.90.39.00.00.00.00', '3.3.90.40.00.00.00.00', '3.3.90.46.00.00.00.00', '3.3.90.47.00.00.00.00', '3.3.90.49.00.00.00.00', '3.3.90.93.00.00.00.00', '4.4.90.51.00.00.00.00', '4.4.90.52.00.00.00.00', '', '', '', '', '3.1.90.11.00.00.00.00', '3.1.90.13.00.00.00.00', '3.1.90.16.00.00.00.00', '3.1.90.94.00.00.00.00', '3.1.91.13.00.00.00.00', '3.3.90.14.00.00.00.00', '3.3.90.30.00.00.00.00', '3.3.90.32.00.00.00.00', '3.3.90.33.00.00.00.00', '3.3.90.36.00.00.00.00', '3.3.90.39.00.00.00.00', '3.3.90.40.00.00.00.00', '3.3.90.46.00.00.00.00', '3.3.90.49.00.00.00.00', '3.3.90.93.00.00.00.00', '4.4.90.51.00.00.00.00', '4.4.90.52.00.00.00.00', '', '', '', '', '3.1.90.11.00.00.00.00', '3.1.90.13.00.00.00.00', '3.1.90.16.00.00.00.00', '3.1.90.94.00.00.00.00', '3.1.91.13.00.00.00.00', '3.3.90.36.00.00.00.00', '3.3.90.46.00.00.00.00', '3.3.90.49.00.00.00.00', '', '', '', '', '3.3.90.30.00.00.00.00', '3.3.90.36.00.00.00.00', '3.3.90.39.00.00.00.00', '3.3.90.46.00.00.00.00', '3.3.90.49.00.00.00.00', '4.4.90.52.00.00.00.00', '', '', '', '', '3.1.90.11.00.00.00.00', '3.1.90.13.00.00.00.00', '3.1.90.16.00.00.00.00', '3.1.90.94.00.00.00.00', '3.1.91.13.00.00.00.00', '3.2.90.21.00.00.00.00', '3.3.90.14.00.00.00.00', '3.3.90.30.00.00.00.00', '3.3.90.31.00.00.00.00', '3.3.90.32.00.00.00.00', '3.3.90.33.00.00.00.00', '3.3.90.36.00.00.00.00', '3.3.90.37.00.00.00.00', '3.3.90.39.00.00.00.00', '3.3.90.40.00.00.00.00', '3.3.90.46.00.00.00.00', '3.3.90.47.00.00.00.00', '3.3.90.49.00.00.00.00', '3.3.90.91.00.00.00.00', '3.3.90.93.00.00.00.00', '4.4.90.52.00.00.00.00', '4.4.90.91.00.00.00.00', '4.6.90.71.00.00.00.00', '', '', '', '', '3.1.50.43.00.00.00.00', '3.1.90.04.00.00.00.00', '3.1.90.11.00.00.00.00', '3.1.90.13.00.00.00.00', '3.1.90.16.00.00.00.00', '3.1.90.94.00.00.00.00', '3.1.91.13.00.00.00.00', '3.3.50.43.00.00.00.00', '3.3.71.70.00.00.00.00', '3.3.72.30.00.00.00.00', '3.3.90.14.00.00.00.00', '3.3.90.30.00.00.00.00', '3.3.90.32.00.00.00.00', '3.3.90.33.00.00.00.00', '3.3.90.36.00.00.00.00', '3.3.90.37.00.00.00.00', '3.3.90.39.00.00.00.00', '3.3.90.40.00.00.00.00', '3.3.90.46.00.00.00.00', '3.3.90.49.00.00.00.00', '3.3.90.91.00.00.00.00', '3.3.90.92.00.00.00.00', '3.3.90.93.00.00.00.00', '3.3.91.97.00.00.00.00', '3.3.95.30.00.00.00.00', '3.3.95.39.00.00.00.00', '4.4.90.51.00.00.00.00', '4.4.90.52.00.00.00.00', '4.4.90.61.00.00.00.00', '', '', '', '', '3.1.90.04.00.00.00.00', '3.1.90.11.00.00.00.00', '3.1.90.13.00.00.00.00', '3.1.90.16.00.00.00.00', '3.1.90.94.00.00.00.00', '3.1.91.13.00.00.00.00', '3.3.50.41.00.00.00.00', '3.3.50.43.00.00.00.00', '3.3.90.30.00.00.00.00', '3.3.90.32.00.00.00.00', '3.3.90.33.00.00.00.00', '3.3.90.36.00.00.00.00', '3.3.90.39.00.00.00.00', '3.3.90.40.00.00.00.00', '3.3.90.46.00.00.00.00', '3.3.90.49.00.00.00.00', '3.3.91.34.00.00.00.00', '3.3.91.97.00.00.00.00', '4.4.90.51.00.00.00.00', '4.4.90.52.00.00.00.00', '', '', '', '', '3.1.90.04.00.00.00.00', '3.1.90.11.00.00.00.00', '3.1.90.13.00.00.00.00', '3.1.90.16.00.00.00.00', '3.1.90.94.00.00.00.00', '3.1.91.13.00.00.00.00', '3.3.30.93.00.00.00.00', '3.3.50.41.00.00.00.00', '3.3.50.43.00.00.00.00', '3.3.71.70.00.00.00.00', '3.3.90.14.00.00.00.00', '3.3.90.30.00.00.00.00', '3.3.90.31.00.00.00.00', '3.3.90.32.00.00.00.00', '3.3.90.33.00.00.00.00', '3.3.90.36.00.00.00.00', '3.3.90.37.00.00.00.00', '3.3.90.39.00.00.00.00', '3.3.90.40.00.00.00.00', '3.3.90.46.00.00.00.00', '3.3.90.48.00.00.00.00', '3.3.90.49.00.00.00.00', '3.3.90.93.00.00.00.00', '3.3.91.97.00.00.00.00', '4.4.90.51.00.00.00.00', '4.4.90.52.00.00.00.00', '', '', '', '', '3.1.90.11.00.00.00.00', '3.1.90.13.00.00.00.00', '3.1.90.16.00.00.00.00', '3.1.90.94.00.00.00.00', '3.1.91.13.00.00.00.00', '3.3.90.14.00.00.00.00', '3.3.90.30.00.00.00.00', '3.3.90.33.00.00.00.00', '3.3.90.36.00.00.00.00', '3.3.90.39.00.00.00.00', '3.3.90.40.00.00.00.00', '3.3.90.46.00.00.00.00', '3.3.90.49.00.00.00.00', '3.3.90.92.00.00.00.00', '3.3.90.93.00.00.00.00', '4.4.90.51.00.00.00.00', '4.4.90.52.00.00.00.00', '4.6.90.71.00.00.00.00', '', '', '', '', '3.3.90.14.00.00.00.00', '3.3.90.30.00.00.00.00', '3.3.90.32.00.00.00.00', '3.3.90.33.00.00.00.00', '3.3.90.36.00.00.00.00', '3.3.90.39.00.00.00.00', '3.3.90.40.00.00.00.00', '3.3.90.48.00.00.00.00', '3.3.90.91.00.00.00.00', '3.3.90.93.00.00.00.00', '4.4.90.52.00.00.00.00', '4.4.90.61.00.00.00.00', '', '', '', '', '3.1.90.11.00.00.00.00', '3.1.90.13.00.00.00.00', '3.1.90.16.00.00.00.00', '3.1.90.94.00.00.00.00', '3.1.91.13.00.00.00.00', '3.3.71.70.00.00.00.00', '3.3.90.14.00.00.00.00', '3.3.90.30.00.00.00.00', '3.3.90.31.00.00.00.00', '3.3.90.32.00.00.00.00', '3.3.90.33.00.00.00.00', '3.3.90.36.00.00.00.00', '3.3.90.39.00.00.00.00', '3.3.90.40.00.00.00.00', '3.3.90.46.00.00.00.00', '3.3.90.49.00.00.00.00', '3.3.90.93.00.00.00.00', '3.3.91.97.00.00.00.00', '4.4.90.52.00.00.00.00', '4.6.90.71.00.00.00.00', '', '', '', '', '3.1.90.11.00.00.00.00', '3.1.90.13.00.00.00.00', '3.1.90.16.00.00.00.00', '3.1.90.94.00.00.00.00', '3.1.91.13.00.00.00.00', '3.3.90.14.00.00.00.00', '3.3.90.30.00.00.00.00', '3.3.90.32.00.00.00.00', '3.3.90.33.00.00.00.00', '3.3.90.36.00.00.00.00', '3.3.90.39.00.00.00.00', '3.3.90.40.00.00.00.00', '3.3.90.46.00.00.00.00', '3.3.90.49.00.00.00.00', '3.3.90.93.00.00.00.00', '4.4.90.51.00.00.00.00', '4.4.90.52.00.00.00.00', '', '', '', '', '3.1.90.11.00.00.00.00', '3.1.90.13.00.00.00.00', '3.1.90.16.00.00.00.00', '3.1.90.94.00.00.00.00', '3.1.91.13.00.00.00.00', '3.3.90.14.00.00.00.00', '3.3.90.30.00.00.00.00', '3.3.90.33.00.00.00.00', '3.3.90.36.00.00.00.00', '3.3.90.39.00.00.00.00', '3.3.90.40.00.00.00.00', '3.3.90.46.00.00.00.00', '3.3.90.49.00.00.00.00', '3.3.90.92.00.00.00.00', '3.3.90.93.00.00.00.00', '3.3.91.97.00.00.00.00', '4.4.90.52.00.00.00.00', '', '', '', '', '', '3.1.90.11.00.00.00.00', '3.1.90.13.00.00.00.00', '3.1.90.16.00.00.00.00', '3.1.90.94.00.00.00.00', '3.1.91.13.00.00.00.00', '3.3.90.14.00.00.00.00', '3.3.90.30.00.00.00.00', '3.3.90.33.00.00.00.00', '3.3.90.36.00.00.00.00', '3.3.90.39.00.00.00.00', '3.3.90.40.00.00.00.00', '3.3.90.46.00.00.00.00', '3.3.90.49.00.00.00.00', '3.3.90.93.00.00.00.00', '4.4.90.52.00.00.00.00', '', '', '', '', '3.3.50.41.00.00.00.00', '3.3.50.43.00.00.00.00', '3.3.90.14.00.00.00.00', '3.3.90.30.00.00.00.00', '3.3.90.33.00.00.00.00', '3.3.90.36.00.00.00.00', '3.3.90.39.00.00.00.00', '4.4.90.52.00.00.00.00', '', '', '', '', '3.3.50.41.00.00.00.00', '3.3.50.43.00.00.00.00', '3.3.90.14.00.00.00.00', '3.3.90.30.00.00.00.00', '3.3.90.33.00.00.00.00', '3.3.90.36.00.00.00.00', '3.3.90.39.00.00.00.00', '3.3.90.93.00.00.00.00', '4.4.90.52.00.00.00.00', '', '', '', '', '3.3.90.14.00.00.00.00', '3.3.90.30.00.00.00.00', '3.3.90.33.00.00.00.00', '3.3.90.36.00.00.00.00', '3.3.90.39.00.00.00.00', '3.3.90.40.00.00.00.00', '3.3.90.93.00.00.00.00', '', '', '', '', '3.1.90.11.00.00.00.00', '3.1.90.13.00.00.00.00', '3.1.90.16.00.00.00.00', '3.1.90.94.00.00.00.00', '3.1.91.13.00.00.00.00', '3.3.67.82.00.00.00.00', '3.3.90.14.00.00.00.00', '3.3.90.30.00.00.00.00', '3.3.90.33.00.00.00.00', '3.3.90.35.00.00.00.00', '3.3.90.36.00.00.00.00', '3.3.90.39.00.00.00.00', '3.3.90.40.00.00.00.00', '3.3.90.46.00.00.00.00', '3.3.90.49.00.00.00.00', '3.3.90.93.00.00.00.00', '4.4.67.83.00.00.00.00', '4.4.90.30.00.00.00.00', '4.4.90.39.00.00.00.00', '4.4.90.51.00.00.00.00', '4.4.90.52.00.00.00.00', '4.4.90.61.00.00.00.00', '', '', '', '', '3.1.90.16.00.00.00.00', '3.3.90.14.00.00.00.00', '3.3.90.30.00.00.00.00', '3.3.90.33.00.00.00.00', '3.3.90.39.00.00.00.00', '3.3.90.93.00.00.00.00', '4.4.90.52.00.00.00.00', '', '', '', '', '3.3.90.30.00.00.00.00', '3.3.90.32.00.00.00.00', '3.3.90.39.00.00.00.00', '4.4.90.51.00.00.00.00', '4.4.90.52.00.00.00.00', '', '', '', '', '3.1.90.11.00.00.00.00', '3.1.90.13.00.00.00.00', '3.1.90.16.00.00.00.00', '3.1.90.94.00.00.00.00', '3.1.91.13.00.00.00.00', '3.3.90.14.00.00.00.00', '3.3.90.30.00.00.00.00', '3.3.90.31.00.00.00.00', '3.3.90.32.00.00.00.00', '3.3.90.33.00.00.00.00', '3.3.90.36.00.00.00.00', '3.3.90.39.00.00.00.00', '3.3.90.40.00.00.00.00', '3.3.90.46.00.00.00.00', '3.3.90.48.00.00.00.00', '3.3.90.49.00.00.00.00', '3.3.90.93.00.00.00.00', '4.4.90.51.00.00.00.00', '4.4.90.52.00.00.00.00', '', '', '', '', '3.1.90.11.00.00.00.00', '3.1.90.13.00.00.00.00', '3.1.90.16.00.00.00.00', '3.1.90.94.00.00.00.00', '3.1.91.13.00.00.00.00', '3.3.90.14.00.00.00.00', '3.3.90.30.00.00.00.00', '3.3.90.32.00.00.00.00', '3.3.90.33.00.00.00.00', '3.3.90.36.00.00.00.00', '3.3.90.39.00.00.00.00', '3.3.90.40.00.00.00.00', '3.3.90.46.00.00.00.00', '3.3.90.49.00.00.00.00', '3.3.90.93.00.00.00.00', '4.4.90.51.00.00.00.00', '4.4.90.52.00.00.00.00', '', '', '', '', '3.1.90.11.00.00.00.00', '3.1.90.13.00.00.00.00', '3.1.90.16.00.00.00.00', '3.1.90.94.00.00.00.00', '3.1.91.13.00.00.00.00', '3.3.90.14.00.00.00.00', '3.3.90.30.00.00.00.00', '3.3.90.33.00.00.00.00', '3.3.90.36.00.00.00.00', '3.3.90.39.00.00.00.00', '3.3.90.40.00.00.00.00', '3.3.90.46.00.00.00.00', '3.3.90.49.00.00.00.00', '3.3.90.93.00.00.00.00', '4.4.90.52.00.00.00.00', '', '', '', '', '3.1.90.11.00.00.00.00', '3.1.90.13.00.00.00.00', '3.1.90.16.00.00.00.00', '3.1.90.94.00.00.00.00', '3.1.91.13.00.00.00.00', '3.3.90.14.00.00.00.00', '3.3.90.30.00.00.00.00', '3.3.90.32.00.00.00.00', '3.3.90.33.00.00.00.00', '3.3.90.36.00.00.00.00', '3.3.90.39.00.00.00.00', '3.3.90.40.00.00.00.00', '3.3.90.46.00.00.00.00', '3.3.90.49.00.00.00.00', '3.3.90.93.00.00.00.00', '4.4.90.52.00.00.00.00', '', '', '', '', '3.1.90.11.00.00.00.00', '3.1.90.13.00.00.00.00', '3.1.90.16.00.00.00.00', '3.1.90.94.00.00.00.00', '3.1.91.13.00.00.00.00', '3.3.90.14.00.00.00.00', '3.3.90.30.00.00.00.00', '3.3.90.31.00.00.00.00', '3.3.90.32.00.00.00.00', '3.3.90.33.00.00.00.00', '3.3.90.36.00.00.00.00', '3.3.90.39.00.00.00.00', '3.3.90.40.00.00.00.00', '3.3.90.46.00.00.00.00', '3.3.90.49.00.00.00.00', '3.3.90.93.00.00.00.00', '4.4.90.51.00.00.00.00', '4.4.90.52.00.00.00.00', '', '', '', '', '3.3.50.43.00.00.00.00', '3.3.60.45.00.00.00.00', '3.3.90.14.00.00.00.00', '3.3.90.30.00.00.00.00', '3.3.90.31.00.00.00.00', '3.3.90.33.00.00.00.00', '3.3.90.36.00.00.00.00', '3.3.90.39.00.00.00.00', '3.3.90.40.00.00.00.00', '3.3.90.48.00.00.00.00', '4.4.90.52.00.00.00.00', '', '', '', '', '3.1.90.11.00.00.00.00', '3.1.90.13.00.00.00.00', '3.1.90.16.00.00.00.00', '3.1.90.94.00.00.00.00', '3.1.91.13.00.00.00.00', '3.3.90.14.00.00.00.00', '3.3.90.30.00.00.00.00', '3.3.90.33.00.00.00.00', '3.3.90.35.00.00.00.00', '3.3.90.36.00.00.00.00', '3.3.90.39.00.00.00.00', '3.3.90.40.00.00.00.00', '3.3.90.46.00.00.00.00', '3.3.90.49.00.00.00.00', '3.3.90.93.00.00.00.00', '4.4.90.52.00.00.00.00', '', '', '', '', '4.4.90.30.00.00.00.00', '4.4.90.39.00.00.00.00', '4.4.90.51.00.00.00.00', '4.4.90.52.00.00.00.00', '4.4.90.61.00.00.00.00', '', '', '', '', '3.3.90.39.00.00.00.00', '9.9.99.00.00.00.00.00', '']\n"
          ]
        }
      ]
    },
    {
      "cell_type": "code",
      "source": [
        "print(df.isnull().sum())"
      ],
      "metadata": {
        "id": "4aYXLU5rF-FG",
        "colab": {
          "base_uri": "https://localhost:8080/"
        },
        "outputId": "10d5eea8-bb73-4e3d-b988-a3ef958a0479"
      },
      "execution_count": 12,
      "outputs": [
        {
          "output_type": "stream",
          "name": "stdout",
          "text": [
            "CODIGO                                  0\n",
            "02 - SECRETARIA M. DE ADMINISTRAÇÃO     0\n",
            "VALORES                                 0\n",
            "Unnamed: 7                              0\n",
            "dtype: int64\n"
          ]
        }
      ]
    },
    {
      "cell_type": "code",
      "source": [
        "print(df.columns)"
      ],
      "metadata": {
        "id": "Fn-7pYySIVgz",
        "colab": {
          "base_uri": "https://localhost:8080/"
        },
        "outputId": "f1d6395a-e0c0-49d2-e05b-68529a9eaaba"
      },
      "execution_count": 13,
      "outputs": [
        {
          "output_type": "stream",
          "name": "stdout",
          "text": [
            "Index(['CODIGO', '02 - SECRETARIA M. DE ADMINISTRAÇÃO ', 'VALORES',\n",
            "       'Unnamed: 7'],\n",
            "      dtype='object')\n"
          ]
        }
      ]
    },
    {
      "cell_type": "code",
      "source": [
        "import pandas as pd\n",
        "\n",
        "# Supondo que você já tenha um DataFrame chamado df\n",
        "# Solicitar ao usuário que insira um código\n",
        "codigo = input(\"Insira o código que deseja pesquisar: \")\n",
        "# Verificar quantas vezes o código aparece na coluna 'CODIGO'\n",
        "count = df['CODIGO'].value_counts()[codigo] if codigo in df['CODIGO'].value_counts().index else 0\n",
        "\n",
        "# Imprimir o resultado\n",
        "print(f\"O código '{codigo}' aparece {count} vez(es) na coluna 'CODIGO'.\")\n",
        "# Filtrar a tabela para obter apenas as linhas com o código inserido\n",
        "df_filtered = df[df['CODIGO'] == codigo]\n",
        "\n",
        "\n",
        "# Verificar se o código não está vazio\n",
        "if codigo == \"\":\n",
        "    print(\"O código inserido está vazio. Não foi possível criar o novo DataFrame.\")\n",
        "else:\n",
        "    # Filtrar a tabela para obter apenas as linhas com o código inserido\n",
        "    df_filtered = df[df['CODIGO'] == codigo]\n",
        "\n",
        "    # Verificar se o código ocorre pelo menos uma vez no DataFrame\n",
        "    if not df_filtered.empty:\n",
        "        # Criar um novo DataFrame com os códigos e os valores correspondentes da coluna 'INICIAL'\n",
        "        novo_df = df_filtered[['CODIGO', 'VALORES']].copy()\n",
        "\n",
        "        # Imprimir o novo DataFrame\n",
        "        print(\"Novo DataFrame com os códigos e valores correspondentes:\")\n",
        "        print(novo_df)\n",
        "    else:\n",
        "        print(f\"O código '{codigo}' não ocorre no DataFrame. Não foi possível criar o novo DataFrame.\")\n"
      ],
      "metadata": {
        "id": "PVJH0BGhLcy2",
        "colab": {
          "base_uri": "https://localhost:8080/"
        },
        "outputId": "e9d6d081-9931-4adf-88d7-1c78b0b3588e"
      },
      "execution_count": 14,
      "outputs": [
        {
          "output_type": "stream",
          "name": "stdout",
          "text": [
            "Insira o código que deseja pesquisar: 3.1.90.11.00.00.00.00\n",
            "O código '3.1.90.11.00.00.00.00' aparece 25 vez(es) na coluna 'CODIGO'.\n",
            "Novo DataFrame com os códigos e valores correspondentes:\n",
            "                    CODIGO        VALORES\n",
            "1    3.1.90.11.00.00.00.00   7.483.558,37\n",
            "30   3.1.90.11.00.00.00.00     553.710,59\n",
            "48   3.1.90.11.00.00.00.00   7.414.253,75\n",
            "73   3.1.90.11.00.00.00.00   3.592.154,24\n",
            "93   3.1.90.11.00.00.00.00     630.790,02\n",
            "113  3.1.90.11.00.00.00.00   1.777.324,92\n",
            "134  3.1.90.11.00.00.00.00   4.654.352,12\n",
            "161  3.1.90.11.00.00.00.00   2.939.972,37\n",
            "182  3.1.90.11.00.00.00.00   1.158.459,31\n",
            "204  3.1.90.11.00.00.00.00   4.702.978,34\n",
            "233  3.1.90.11.00.00.00.00  48.716.838,14\n",
            "265  3.1.90.11.00.00.00.00  91.937.712,10\n",
            "289  3.1.90.11.00.00.00.00   6.690.689,62\n",
            "318  3.1.90.11.00.00.00.00   1.470.717,87\n",
            "356  3.1.90.11.00.00.00.00   7.588.901,95\n",
            "380  3.1.90.11.00.00.00.00   3.234.432,72\n",
            "401  3.1.90.11.00.00.00.00   2.564.523,65\n",
            "423  3.1.90.11.00.00.00.00   1.017.589,17\n",
            "478  3.1.90.11.00.00.00.00   1.924.330,32\n",
            "524  3.1.90.11.00.00.00.00   1.956.575,10\n",
            "547  3.1.90.11.00.00.00.00   1.192.789,68\n",
            "568  3.1.90.11.00.00.00.00     851.687,31\n",
            "587  3.1.90.11.00.00.00.00     989.688,03\n",
            "607  3.1.90.11.00.00.00.00     974.790,28\n",
            "644  3.1.90.11.00.00.00.00   1.320.463,33\n"
          ]
        }
      ]
    },
    {
      "cell_type": "code",
      "source": [
        "df =novo_df"
      ],
      "metadata": {
        "id": "Gxe7kFu-L2zJ"
      },
      "execution_count": 15,
      "outputs": []
    },
    {
      "cell_type": "code",
      "source": [
        "# Função para formatar os números na coluna 'VALORES'\n",
        "def formatar_numero(valor):\n",
        "    # Converta para string, se já não for\n",
        "    valor = str(valor)\n",
        "    # Substitua vírgulas por pontos\n",
        "    valor = valor.replace(',', '.')\n",
        "    # Remova pontos\n",
        "    valor = valor.replace('.', '')\n",
        "    # Converta para float\n",
        "    return float(valor)\n",
        "\n",
        "# Aplique a função à coluna 'VALORES'\n",
        "df['VALORES'] = df['VALORES'].apply(formatar_numero)\n",
        "\n",
        "# Exiba o DataFrame resultante\n",
        "print(df)\n"
      ],
      "metadata": {
        "colab": {
          "base_uri": "https://localhost:8080/"
        },
        "id": "A7x0JbJNO3sn",
        "outputId": "a8c8ad7d-cbf1-4821-b605-ee5c82bc62a1"
      },
      "execution_count": 16,
      "outputs": [
        {
          "output_type": "stream",
          "name": "stdout",
          "text": [
            "                    CODIGO       VALORES\n",
            "1    3.1.90.11.00.00.00.00  7.483558e+08\n",
            "30   3.1.90.11.00.00.00.00  5.537106e+07\n",
            "48   3.1.90.11.00.00.00.00  7.414254e+08\n",
            "73   3.1.90.11.00.00.00.00  3.592154e+08\n",
            "93   3.1.90.11.00.00.00.00  6.307900e+07\n",
            "113  3.1.90.11.00.00.00.00  1.777325e+08\n",
            "134  3.1.90.11.00.00.00.00  4.654352e+08\n",
            "161  3.1.90.11.00.00.00.00  2.939972e+08\n",
            "182  3.1.90.11.00.00.00.00  1.158459e+08\n",
            "204  3.1.90.11.00.00.00.00  4.702978e+08\n",
            "233  3.1.90.11.00.00.00.00  4.871684e+09\n",
            "265  3.1.90.11.00.00.00.00  9.193771e+09\n",
            "289  3.1.90.11.00.00.00.00  6.690690e+08\n",
            "318  3.1.90.11.00.00.00.00  1.470718e+08\n",
            "356  3.1.90.11.00.00.00.00  7.588902e+08\n",
            "380  3.1.90.11.00.00.00.00  3.234433e+08\n",
            "401  3.1.90.11.00.00.00.00  2.564524e+08\n",
            "423  3.1.90.11.00.00.00.00  1.017589e+08\n",
            "478  3.1.90.11.00.00.00.00  1.924330e+08\n",
            "524  3.1.90.11.00.00.00.00  1.956575e+08\n",
            "547  3.1.90.11.00.00.00.00  1.192790e+08\n",
            "568  3.1.90.11.00.00.00.00  8.516873e+07\n",
            "587  3.1.90.11.00.00.00.00  9.896880e+07\n",
            "607  3.1.90.11.00.00.00.00  9.747903e+07\n",
            "644  3.1.90.11.00.00.00.00  1.320463e+08\n"
          ]
        }
      ]
    },
    {
      "cell_type": "code",
      "source": [
        "soma_valores = novo_df['VALORES'].sum()\n",
        "print(\"A soma dos valores na coluna 'valores' é:\", soma_valores)"
      ],
      "metadata": {
        "colab": {
          "base_uri": "https://localhost:8080/"
        },
        "id": "rPItGQVMNrWy",
        "outputId": "304f21db-0879-47b5-9501-1c722d23f2f0"
      },
      "execution_count": 17,
      "outputs": [
        {
          "output_type": "stream",
          "name": "stdout",
          "text": [
            "A soma dos valores na coluna 'valores' é: 20733928330.0\n"
          ]
        }
      ]
    },
    {
      "cell_type": "code",
      "source": [
        "soma_valores\n"
      ],
      "metadata": {
        "colab": {
          "base_uri": "https://localhost:8080/"
        },
        "id": "P6XElsOtPOVB",
        "outputId": "7052cc1e-9d51-41b8-97aa-88c04818ae3b"
      },
      "execution_count": 18,
      "outputs": [
        {
          "output_type": "execute_result",
          "data": {
            "text/plain": [
              "20733928330.0"
            ]
          },
          "metadata": {},
          "execution_count": 18
        }
      ]
    },
    {
      "cell_type": "code",
      "source": [
        "# Converta para string e remova o ponto decimal\n",
        "valor_formatado = str(int(soma_valores))\n",
        "\n",
        "# Remova o último zero, se existir\n",
        "valor_formatado = valor_formatado.rstrip('0')\n",
        "\n",
        "# Exiba o resultado\n",
        "print(valor_formatado)"
      ],
      "metadata": {
        "colab": {
          "base_uri": "https://localhost:8080/"
        },
        "id": "FysnW-rRcpk3",
        "outputId": "c33d2aa0-2d81-4dcb-8b8a-a162e1d39280"
      },
      "execution_count": 19,
      "outputs": [
        {
          "output_type": "stream",
          "name": "stdout",
          "text": [
            "2073392833\n"
          ]
        }
      ]
    },
    {
      "cell_type": "code",
      "source": [
        "numero = valor_formatado\n",
        "valor_int = \"{}\".format(numero)\n",
        "\n",
        "print(valor_formatado)\n",
        "print(type(valor_formatado))\n",
        "\n"
      ],
      "metadata": {
        "colab": {
          "base_uri": "https://localhost:8080/"
        },
        "id": "7gGvCHH2CC_b",
        "outputId": "0b05ad87-3902-49e0-a909-16d6e4e761c4"
      },
      "execution_count": 20,
      "outputs": [
        {
          "output_type": "stream",
          "name": "stdout",
          "text": [
            "2073392833\n",
            "<class 'str'>\n"
          ]
        }
      ]
    },
    {
      "cell_type": "code",
      "source": [
        "valor_formatado = valor_formatado\n",
        "numero_inteiro = int(valor_formatado)\n",
        "\n",
        "print(numero_inteiro)\n",
        "print(type(numero_inteiro))\n"
      ],
      "metadata": {
        "colab": {
          "base_uri": "https://localhost:8080/"
        },
        "id": "ZCkhJVZYEhRH",
        "outputId": "2a0a2265-e50a-4119-98a7-b1371715c22f"
      },
      "execution_count": 21,
      "outputs": [
        {
          "output_type": "stream",
          "name": "stdout",
          "text": [
            "2073392833\n",
            "<class 'int'>\n"
          ]
        }
      ]
    },
    {
      "cell_type": "code",
      "source": [
        "import inflect\n",
        "\n",
        "\n",
        "\n",
        "\n",
        "# Use a biblioteca inflect para converter o número em palavras\n",
        "p = inflect.engine()\n",
        "numero_em_palavras = p.number_to_words(numero_inteiro, andword='e', zero='zero')\n",
        "\n",
        "# Formatando como moeda em reais\n",
        "texto_formatado = f'R$ {numero_em_palavras}'\n",
        "\n",
        "print(f'O número formatado em texto é: {texto_formatado}')\n",
        "\n",
        "# Formate o número como moeda em real\n",
        "numero_formatado = f'R$ {numero_inteiro/1000000:,.2f} milhões'\n",
        "\n",
        "print(f'O número formatado em moeda é: {numero_formatado}')\n"
      ],
      "metadata": {
        "colab": {
          "base_uri": "https://localhost:8080/"
        },
        "id": "yA4cElEgFssX",
        "outputId": "481e4108-8785-4295-a16e-a1ac2ea4aec1"
      },
      "execution_count": 26,
      "outputs": [
        {
          "output_type": "stream",
          "name": "stdout",
          "text": [
            "O número formatado em texto é: R$ two billion, seventy-three million, three hundred e ninety-two thousand, eight hundred e thirty-three\n",
            "O número formatado em moeda é: R$ 2,073.39 milhões\n"
          ]
        }
      ]
    },
    {
      "cell_type": "code",
      "source": [
        "import inflect\n",
        "\n",
        "\n",
        "\n",
        "# Use a biblioteca inflect para converter o número em palavras\n",
        "p = inflect.engine()\n",
        "numero_em_palavras = p.number_to_words(numero_inteiro, andword='e', zero='zero')\n",
        "\n",
        "# Formatando como moeda em reais\n",
        "texto_formatado = f'R$ {numero_em_palavras}'\n",
        "\n",
        "print(f'O número formatado em texto é: {texto_formatado}')\n",
        "\n",
        "# Formate o número como moeda em real\n",
        "numero_formatado = f'R$ {numero_inteiro/1000000:,.5f} milhões'\n",
        "\n",
        "print(f'O número formatado em moeda é: {numero_formatado}')\n"
      ],
      "metadata": {
        "colab": {
          "base_uri": "https://localhost:8080/"
        },
        "id": "B1dxJkGuHFVM",
        "outputId": "2c57c07c-bd03-457a-9d76-94d930a6a25e"
      },
      "execution_count": 27,
      "outputs": [
        {
          "output_type": "stream",
          "name": "stdout",
          "text": [
            "O número formatado em texto é: R$ two billion, seventy-three million, three hundred e ninety-two thousand, eight hundred e thirty-three\n",
            "O número formatado em moeda é: R$ 2,073.39283 milhões\n"
          ]
        }
      ]
    },
    {
      "cell_type": "code",
      "source": [],
      "metadata": {
        "id": "IgEJOBemKei_"
      },
      "execution_count": 27,
      "outputs": []
    },
    {
      "cell_type": "code",
      "source": [
        "\n"
      ],
      "metadata": {
        "id": "kf5nLsX3Kgfp"
      },
      "execution_count": 27,
      "outputs": []
    },
    {
      "cell_type": "markdown",
      "source": [
        "# Interface\n"
      ],
      "metadata": {
        "id": "krNLZ-JyKfGB"
      }
    }
  ]
}