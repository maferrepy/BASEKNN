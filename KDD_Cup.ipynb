{
  "nbformat": 4,
  "nbformat_minor": 0,
  "metadata": {
    "colab": {
      "name": "KDD Cup.ipynb",
      "provenance": [],
      "mount_file_id": "18zw4g89HrW18vDlY6coVxfMgvjiixaUw",
      "authorship_tag": "ABX9TyMOJgvRZDxQMeeFuZj8nYTb",
      "include_colab_link": true
    },
    "kernelspec": {
      "name": "python3",
      "display_name": "Python 3"
    },
    "language_info": {
      "name": "python"
    }
  },
  "cells": [
    {
      "cell_type": "markdown",
      "metadata": {
        "id": "view-in-github",
        "colab_type": "text"
      },
      "source": [
        "<a href=\"https://colab.research.google.com/github/maferrepy/BASEKNN/blob/main/KDD_Cup.ipynb\" target=\"_parent\"><img src=\"https://colab.research.google.com/assets/colab-badge.svg\" alt=\"Open In Colab\"/></a>"
      ]
    },
    {
      "cell_type": "markdown",
      "source": [
        "# Modelagem(Cancelamento)"
      ],
      "metadata": {
        "id": "fJsyIxC_cCeG"
      }
    },
    {
      "cell_type": "code",
      "source": [
        "import pandas as pd\n",
        "import numpy as np\n",
        "from sklearn.ensemble import ExtraTreesClassifier, RandomForestClassifier, GradientBoostingClassifier\n",
        "from matplotlib import pyplot as plt\n",
        "from sklearn.metrics import roc_auc_score\n",
        "from sklearn.model_selection import train_test_split, cross_val_score, GridSearchCV\n"
      ],
      "metadata": {
        "id": "hUss4YSzcHFO"
      },
      "execution_count": 1,
      "outputs": []
    },
    {
      "cell_type": "code",
      "source": [
        "#Dados"
      ],
      "metadata": {
        "id": "LPRN12sNcqp-"
      },
      "execution_count": 2,
      "outputs": []
    },
    {
      "cell_type": "code",
      "source": [
        "treino = pd.read_csv('/content/drive/MyDrive/Machine Learning para Competições Kaggle Curso 1.zip (Unzipped Files)/Machine Learning para Competições Kaggle Curso 1/kdd/orange_small_train.data',sep='\\t')"
      ],
      "metadata": {
        "id": "eDgd_P7icyfZ"
      },
      "execution_count": 3,
      "outputs": []
    },
    {
      "cell_type": "code",
      "source": [
        "outcome = pd.read_csv('/content/drive/MyDrive/Machine Learning para Competições Kaggle Curso 1.zip (Unzipped Files)/Machine Learning para Competições Kaggle Curso 1/kdd/orange_small_train_churn.labels',header=None)"
      ],
      "metadata": {
        "id": "g37we-J0ezvA"
      },
      "execution_count": 4,
      "outputs": []
    },
    {
      "cell_type": "code",
      "source": [
        "treino.head()\n"
      ],
      "metadata": {
        "colab": {
          "base_uri": "https://localhost:8080/",
          "height": 299
        },
        "id": "8-6pbHZFdbJe",
        "outputId": "77103a95-cba7-4d65-ff9a-cfd674bda35d"
      },
      "execution_count": 5,
      "outputs": [
        {
          "output_type": "execute_result",
          "data": {
            "text/plain": [
              "   Var1  Var2  Var3  Var4  Var5    Var6  Var7  Var8  Var9  Var10  ...  \\\n",
              "0   NaN   NaN   NaN   NaN   NaN  1526.0   7.0   NaN   NaN    NaN  ...   \n",
              "1   NaN   NaN   NaN   NaN   NaN   525.0   0.0   NaN   NaN    NaN  ...   \n",
              "2   NaN   NaN   NaN   NaN   NaN  5236.0   7.0   NaN   NaN    NaN  ...   \n",
              "3   NaN   NaN   NaN   NaN   NaN     NaN   0.0   NaN   NaN    NaN  ...   \n",
              "4   NaN   NaN   NaN   NaN   NaN  1029.0   7.0   NaN   NaN    NaN  ...   \n",
              "\n",
              "    Var221   Var222      Var223  Var224  Var225  Var226   Var227  \\\n",
              "0     oslk  fXVEsaq  jySVZNlOJy     NaN     NaN    xb3V     RAYp   \n",
              "1     oslk  2Kb5FSF  LM8l689qOp     NaN     NaN    fKCe     RAYp   \n",
              "2  Al6ZaUT  NKv4yOc  jySVZNlOJy     NaN    kG3k    Qu4f  02N6s8f   \n",
              "3     oslk  CE7uk3u  LM8l689qOp     NaN     NaN    FSa2     RAYp   \n",
              "4     oslk  1J2cvxe  LM8l689qOp     NaN    kG3k    FSa2     RAYp   \n",
              "\n",
              "          Var228  Var229  Var230  \n",
              "0  F2FyR07IdsN7I     NaN     NaN  \n",
              "1  F2FyR07IdsN7I     NaN     NaN  \n",
              "2  ib5G6X1eUxUn6    am7c     NaN  \n",
              "3  F2FyR07IdsN7I     NaN     NaN  \n",
              "4  F2FyR07IdsN7I    mj86     NaN  \n",
              "\n",
              "[5 rows x 230 columns]"
            ],
            "text/html": [
              "\n",
              "  <div id=\"df-10b85f79-b829-42e2-aabb-46660801919c\">\n",
              "    <div class=\"colab-df-container\">\n",
              "      <div>\n",
              "<style scoped>\n",
              "    .dataframe tbody tr th:only-of-type {\n",
              "        vertical-align: middle;\n",
              "    }\n",
              "\n",
              "    .dataframe tbody tr th {\n",
              "        vertical-align: top;\n",
              "    }\n",
              "\n",
              "    .dataframe thead th {\n",
              "        text-align: right;\n",
              "    }\n",
              "</style>\n",
              "<table border=\"1\" class=\"dataframe\">\n",
              "  <thead>\n",
              "    <tr style=\"text-align: right;\">\n",
              "      <th></th>\n",
              "      <th>Var1</th>\n",
              "      <th>Var2</th>\n",
              "      <th>Var3</th>\n",
              "      <th>Var4</th>\n",
              "      <th>Var5</th>\n",
              "      <th>Var6</th>\n",
              "      <th>Var7</th>\n",
              "      <th>Var8</th>\n",
              "      <th>Var9</th>\n",
              "      <th>Var10</th>\n",
              "      <th>...</th>\n",
              "      <th>Var221</th>\n",
              "      <th>Var222</th>\n",
              "      <th>Var223</th>\n",
              "      <th>Var224</th>\n",
              "      <th>Var225</th>\n",
              "      <th>Var226</th>\n",
              "      <th>Var227</th>\n",
              "      <th>Var228</th>\n",
              "      <th>Var229</th>\n",
              "      <th>Var230</th>\n",
              "    </tr>\n",
              "  </thead>\n",
              "  <tbody>\n",
              "    <tr>\n",
              "      <th>0</th>\n",
              "      <td>NaN</td>\n",
              "      <td>NaN</td>\n",
              "      <td>NaN</td>\n",
              "      <td>NaN</td>\n",
              "      <td>NaN</td>\n",
              "      <td>1526.0</td>\n",
              "      <td>7.0</td>\n",
              "      <td>NaN</td>\n",
              "      <td>NaN</td>\n",
              "      <td>NaN</td>\n",
              "      <td>...</td>\n",
              "      <td>oslk</td>\n",
              "      <td>fXVEsaq</td>\n",
              "      <td>jySVZNlOJy</td>\n",
              "      <td>NaN</td>\n",
              "      <td>NaN</td>\n",
              "      <td>xb3V</td>\n",
              "      <td>RAYp</td>\n",
              "      <td>F2FyR07IdsN7I</td>\n",
              "      <td>NaN</td>\n",
              "      <td>NaN</td>\n",
              "    </tr>\n",
              "    <tr>\n",
              "      <th>1</th>\n",
              "      <td>NaN</td>\n",
              "      <td>NaN</td>\n",
              "      <td>NaN</td>\n",
              "      <td>NaN</td>\n",
              "      <td>NaN</td>\n",
              "      <td>525.0</td>\n",
              "      <td>0.0</td>\n",
              "      <td>NaN</td>\n",
              "      <td>NaN</td>\n",
              "      <td>NaN</td>\n",
              "      <td>...</td>\n",
              "      <td>oslk</td>\n",
              "      <td>2Kb5FSF</td>\n",
              "      <td>LM8l689qOp</td>\n",
              "      <td>NaN</td>\n",
              "      <td>NaN</td>\n",
              "      <td>fKCe</td>\n",
              "      <td>RAYp</td>\n",
              "      <td>F2FyR07IdsN7I</td>\n",
              "      <td>NaN</td>\n",
              "      <td>NaN</td>\n",
              "    </tr>\n",
              "    <tr>\n",
              "      <th>2</th>\n",
              "      <td>NaN</td>\n",
              "      <td>NaN</td>\n",
              "      <td>NaN</td>\n",
              "      <td>NaN</td>\n",
              "      <td>NaN</td>\n",
              "      <td>5236.0</td>\n",
              "      <td>7.0</td>\n",
              "      <td>NaN</td>\n",
              "      <td>NaN</td>\n",
              "      <td>NaN</td>\n",
              "      <td>...</td>\n",
              "      <td>Al6ZaUT</td>\n",
              "      <td>NKv4yOc</td>\n",
              "      <td>jySVZNlOJy</td>\n",
              "      <td>NaN</td>\n",
              "      <td>kG3k</td>\n",
              "      <td>Qu4f</td>\n",
              "      <td>02N6s8f</td>\n",
              "      <td>ib5G6X1eUxUn6</td>\n",
              "      <td>am7c</td>\n",
              "      <td>NaN</td>\n",
              "    </tr>\n",
              "    <tr>\n",
              "      <th>3</th>\n",
              "      <td>NaN</td>\n",
              "      <td>NaN</td>\n",
              "      <td>NaN</td>\n",
              "      <td>NaN</td>\n",
              "      <td>NaN</td>\n",
              "      <td>NaN</td>\n",
              "      <td>0.0</td>\n",
              "      <td>NaN</td>\n",
              "      <td>NaN</td>\n",
              "      <td>NaN</td>\n",
              "      <td>...</td>\n",
              "      <td>oslk</td>\n",
              "      <td>CE7uk3u</td>\n",
              "      <td>LM8l689qOp</td>\n",
              "      <td>NaN</td>\n",
              "      <td>NaN</td>\n",
              "      <td>FSa2</td>\n",
              "      <td>RAYp</td>\n",
              "      <td>F2FyR07IdsN7I</td>\n",
              "      <td>NaN</td>\n",
              "      <td>NaN</td>\n",
              "    </tr>\n",
              "    <tr>\n",
              "      <th>4</th>\n",
              "      <td>NaN</td>\n",
              "      <td>NaN</td>\n",
              "      <td>NaN</td>\n",
              "      <td>NaN</td>\n",
              "      <td>NaN</td>\n",
              "      <td>1029.0</td>\n",
              "      <td>7.0</td>\n",
              "      <td>NaN</td>\n",
              "      <td>NaN</td>\n",
              "      <td>NaN</td>\n",
              "      <td>...</td>\n",
              "      <td>oslk</td>\n",
              "      <td>1J2cvxe</td>\n",
              "      <td>LM8l689qOp</td>\n",
              "      <td>NaN</td>\n",
              "      <td>kG3k</td>\n",
              "      <td>FSa2</td>\n",
              "      <td>RAYp</td>\n",
              "      <td>F2FyR07IdsN7I</td>\n",
              "      <td>mj86</td>\n",
              "      <td>NaN</td>\n",
              "    </tr>\n",
              "  </tbody>\n",
              "</table>\n",
              "<p>5 rows × 230 columns</p>\n",
              "</div>\n",
              "      <button class=\"colab-df-convert\" onclick=\"convertToInteractive('df-10b85f79-b829-42e2-aabb-46660801919c')\"\n",
              "              title=\"Convert this dataframe to an interactive table.\"\n",
              "              style=\"display:none;\">\n",
              "        \n",
              "  <svg xmlns=\"http://www.w3.org/2000/svg\" height=\"24px\"viewBox=\"0 0 24 24\"\n",
              "       width=\"24px\">\n",
              "    <path d=\"M0 0h24v24H0V0z\" fill=\"none\"/>\n",
              "    <path d=\"M18.56 5.44l.94 2.06.94-2.06 2.06-.94-2.06-.94-.94-2.06-.94 2.06-2.06.94zm-11 1L8.5 8.5l.94-2.06 2.06-.94-2.06-.94L8.5 2.5l-.94 2.06-2.06.94zm10 10l.94 2.06.94-2.06 2.06-.94-2.06-.94-.94-2.06-.94 2.06-2.06.94z\"/><path d=\"M17.41 7.96l-1.37-1.37c-.4-.4-.92-.59-1.43-.59-.52 0-1.04.2-1.43.59L10.3 9.45l-7.72 7.72c-.78.78-.78 2.05 0 2.83L4 21.41c.39.39.9.59 1.41.59.51 0 1.02-.2 1.41-.59l7.78-7.78 2.81-2.81c.8-.78.8-2.07 0-2.86zM5.41 20L4 18.59l7.72-7.72 1.47 1.35L5.41 20z\"/>\n",
              "  </svg>\n",
              "      </button>\n",
              "      \n",
              "  <style>\n",
              "    .colab-df-container {\n",
              "      display:flex;\n",
              "      flex-wrap:wrap;\n",
              "      gap: 12px;\n",
              "    }\n",
              "\n",
              "    .colab-df-convert {\n",
              "      background-color: #E8F0FE;\n",
              "      border: none;\n",
              "      border-radius: 50%;\n",
              "      cursor: pointer;\n",
              "      display: none;\n",
              "      fill: #1967D2;\n",
              "      height: 32px;\n",
              "      padding: 0 0 0 0;\n",
              "      width: 32px;\n",
              "    }\n",
              "\n",
              "    .colab-df-convert:hover {\n",
              "      background-color: #E2EBFA;\n",
              "      box-shadow: 0px 1px 2px rgba(60, 64, 67, 0.3), 0px 1px 3px 1px rgba(60, 64, 67, 0.15);\n",
              "      fill: #174EA6;\n",
              "    }\n",
              "\n",
              "    [theme=dark] .colab-df-convert {\n",
              "      background-color: #3B4455;\n",
              "      fill: #D2E3FC;\n",
              "    }\n",
              "\n",
              "    [theme=dark] .colab-df-convert:hover {\n",
              "      background-color: #434B5C;\n",
              "      box-shadow: 0px 1px 3px 1px rgba(0, 0, 0, 0.15);\n",
              "      filter: drop-shadow(0px 1px 2px rgba(0, 0, 0, 0.3));\n",
              "      fill: #FFFFFF;\n",
              "    }\n",
              "  </style>\n",
              "\n",
              "      <script>\n",
              "        const buttonEl =\n",
              "          document.querySelector('#df-10b85f79-b829-42e2-aabb-46660801919c button.colab-df-convert');\n",
              "        buttonEl.style.display =\n",
              "          google.colab.kernel.accessAllowed ? 'block' : 'none';\n",
              "\n",
              "        async function convertToInteractive(key) {\n",
              "          const element = document.querySelector('#df-10b85f79-b829-42e2-aabb-46660801919c');\n",
              "          const dataTable =\n",
              "            await google.colab.kernel.invokeFunction('convertToInteractive',\n",
              "                                                     [key], {});\n",
              "          if (!dataTable) return;\n",
              "\n",
              "          const docLinkHtml = 'Like what you see? Visit the ' +\n",
              "            '<a target=\"_blank\" href=https://colab.research.google.com/notebooks/data_table.ipynb>data table notebook</a>'\n",
              "            + ' to learn more about interactive tables.';\n",
              "          element.innerHTML = '';\n",
              "          dataTable['output_type'] = 'display_data';\n",
              "          await google.colab.output.renderOutput(dataTable, element);\n",
              "          const docLink = document.createElement('div');\n",
              "          docLink.innerHTML = docLinkHtml;\n",
              "          element.appendChild(docLink);\n",
              "        }\n",
              "      </script>\n",
              "    </div>\n",
              "  </div>\n",
              "  "
            ]
          },
          "metadata": {},
          "execution_count": 5
        }
      ]
    },
    {
      "cell_type": "code",
      "source": [
        "treino .shape"
      ],
      "metadata": {
        "colab": {
          "base_uri": "https://localhost:8080/"
        },
        "id": "oruyyvaodcII",
        "outputId": "110cd409-3939-4477-f79c-8a978fc6aba4"
      },
      "execution_count": 6,
      "outputs": [
        {
          "output_type": "execute_result",
          "data": {
            "text/plain": [
              "(50000, 230)"
            ]
          },
          "metadata": {},
          "execution_count": 6
        }
      ]
    },
    {
      "cell_type": "code",
      "source": [
        "outcome.head()"
      ],
      "metadata": {
        "colab": {
          "base_uri": "https://localhost:8080/",
          "height": 206
        },
        "id": "OEKRmU3teRZ6",
        "outputId": "f07d8d7c-587b-4ccd-f6f0-0a70e14c3667"
      },
      "execution_count": 7,
      "outputs": [
        {
          "output_type": "execute_result",
          "data": {
            "text/plain": [
              "   0\n",
              "0 -1\n",
              "1  1\n",
              "2 -1\n",
              "3 -1\n",
              "4 -1"
            ],
            "text/html": [
              "\n",
              "  <div id=\"df-1ce9c23e-53b9-47de-91c7-90cbad9ef410\">\n",
              "    <div class=\"colab-df-container\">\n",
              "      <div>\n",
              "<style scoped>\n",
              "    .dataframe tbody tr th:only-of-type {\n",
              "        vertical-align: middle;\n",
              "    }\n",
              "\n",
              "    .dataframe tbody tr th {\n",
              "        vertical-align: top;\n",
              "    }\n",
              "\n",
              "    .dataframe thead th {\n",
              "        text-align: right;\n",
              "    }\n",
              "</style>\n",
              "<table border=\"1\" class=\"dataframe\">\n",
              "  <thead>\n",
              "    <tr style=\"text-align: right;\">\n",
              "      <th></th>\n",
              "      <th>0</th>\n",
              "    </tr>\n",
              "  </thead>\n",
              "  <tbody>\n",
              "    <tr>\n",
              "      <th>0</th>\n",
              "      <td>-1</td>\n",
              "    </tr>\n",
              "    <tr>\n",
              "      <th>1</th>\n",
              "      <td>1</td>\n",
              "    </tr>\n",
              "    <tr>\n",
              "      <th>2</th>\n",
              "      <td>-1</td>\n",
              "    </tr>\n",
              "    <tr>\n",
              "      <th>3</th>\n",
              "      <td>-1</td>\n",
              "    </tr>\n",
              "    <tr>\n",
              "      <th>4</th>\n",
              "      <td>-1</td>\n",
              "    </tr>\n",
              "  </tbody>\n",
              "</table>\n",
              "</div>\n",
              "      <button class=\"colab-df-convert\" onclick=\"convertToInteractive('df-1ce9c23e-53b9-47de-91c7-90cbad9ef410')\"\n",
              "              title=\"Convert this dataframe to an interactive table.\"\n",
              "              style=\"display:none;\">\n",
              "        \n",
              "  <svg xmlns=\"http://www.w3.org/2000/svg\" height=\"24px\"viewBox=\"0 0 24 24\"\n",
              "       width=\"24px\">\n",
              "    <path d=\"M0 0h24v24H0V0z\" fill=\"none\"/>\n",
              "    <path d=\"M18.56 5.44l.94 2.06.94-2.06 2.06-.94-2.06-.94-.94-2.06-.94 2.06-2.06.94zm-11 1L8.5 8.5l.94-2.06 2.06-.94-2.06-.94L8.5 2.5l-.94 2.06-2.06.94zm10 10l.94 2.06.94-2.06 2.06-.94-2.06-.94-.94-2.06-.94 2.06-2.06.94z\"/><path d=\"M17.41 7.96l-1.37-1.37c-.4-.4-.92-.59-1.43-.59-.52 0-1.04.2-1.43.59L10.3 9.45l-7.72 7.72c-.78.78-.78 2.05 0 2.83L4 21.41c.39.39.9.59 1.41.59.51 0 1.02-.2 1.41-.59l7.78-7.78 2.81-2.81c.8-.78.8-2.07 0-2.86zM5.41 20L4 18.59l7.72-7.72 1.47 1.35L5.41 20z\"/>\n",
              "  </svg>\n",
              "      </button>\n",
              "      \n",
              "  <style>\n",
              "    .colab-df-container {\n",
              "      display:flex;\n",
              "      flex-wrap:wrap;\n",
              "      gap: 12px;\n",
              "    }\n",
              "\n",
              "    .colab-df-convert {\n",
              "      background-color: #E8F0FE;\n",
              "      border: none;\n",
              "      border-radius: 50%;\n",
              "      cursor: pointer;\n",
              "      display: none;\n",
              "      fill: #1967D2;\n",
              "      height: 32px;\n",
              "      padding: 0 0 0 0;\n",
              "      width: 32px;\n",
              "    }\n",
              "\n",
              "    .colab-df-convert:hover {\n",
              "      background-color: #E2EBFA;\n",
              "      box-shadow: 0px 1px 2px rgba(60, 64, 67, 0.3), 0px 1px 3px 1px rgba(60, 64, 67, 0.15);\n",
              "      fill: #174EA6;\n",
              "    }\n",
              "\n",
              "    [theme=dark] .colab-df-convert {\n",
              "      background-color: #3B4455;\n",
              "      fill: #D2E3FC;\n",
              "    }\n",
              "\n",
              "    [theme=dark] .colab-df-convert:hover {\n",
              "      background-color: #434B5C;\n",
              "      box-shadow: 0px 1px 3px 1px rgba(0, 0, 0, 0.15);\n",
              "      filter: drop-shadow(0px 1px 2px rgba(0, 0, 0, 0.3));\n",
              "      fill: #FFFFFF;\n",
              "    }\n",
              "  </style>\n",
              "\n",
              "      <script>\n",
              "        const buttonEl =\n",
              "          document.querySelector('#df-1ce9c23e-53b9-47de-91c7-90cbad9ef410 button.colab-df-convert');\n",
              "        buttonEl.style.display =\n",
              "          google.colab.kernel.accessAllowed ? 'block' : 'none';\n",
              "\n",
              "        async function convertToInteractive(key) {\n",
              "          const element = document.querySelector('#df-1ce9c23e-53b9-47de-91c7-90cbad9ef410');\n",
              "          const dataTable =\n",
              "            await google.colab.kernel.invokeFunction('convertToInteractive',\n",
              "                                                     [key], {});\n",
              "          if (!dataTable) return;\n",
              "\n",
              "          const docLinkHtml = 'Like what you see? Visit the ' +\n",
              "            '<a target=\"_blank\" href=https://colab.research.google.com/notebooks/data_table.ipynb>data table notebook</a>'\n",
              "            + ' to learn more about interactive tables.';\n",
              "          element.innerHTML = '';\n",
              "          dataTable['output_type'] = 'display_data';\n",
              "          await google.colab.output.renderOutput(dataTable, element);\n",
              "          const docLink = document.createElement('div');\n",
              "          docLink.innerHTML = docLinkHtml;\n",
              "          element.appendChild(docLink);\n",
              "        }\n",
              "      </script>\n",
              "    </div>\n",
              "  </div>\n",
              "  "
            ]
          },
          "metadata": {},
          "execution_count": 7
        }
      ]
    },
    {
      "cell_type": "code",
      "source": [
        "np.unique(outcome)"
      ],
      "metadata": {
        "colab": {
          "base_uri": "https://localhost:8080/"
        },
        "id": "k5P3C4uDfPJU",
        "outputId": "a9eaf3d0-9fff-4978-9e13-ae44f7daadbf"
      },
      "execution_count": 8,
      "outputs": [
        {
          "output_type": "execute_result",
          "data": {
            "text/plain": [
              "array([-1,  1])"
            ]
          },
          "metadata": {},
          "execution_count": 8
        }
      ]
    },
    {
      "cell_type": "code",
      "source": [
        "all_vars = np.array(treino.columns)"
      ],
      "metadata": {
        "id": "ipcxOLMcfWkn"
      },
      "execution_count": 11,
      "outputs": []
    },
    {
      "cell_type": "code",
      "source": [
        "all_vars"
      ],
      "metadata": {
        "colab": {
          "base_uri": "https://localhost:8080/"
        },
        "id": "4DIzNsKDeTmd",
        "outputId": "ee8bccc8-589d-4c8d-f3fa-9f27037ed7d7"
      },
      "execution_count": 12,
      "outputs": [
        {
          "output_type": "execute_result",
          "data": {
            "text/plain": [
              "array(['Var1', 'Var2', 'Var3', 'Var4', 'Var5', 'Var6', 'Var7', 'Var8',\n",
              "       'Var9', 'Var10', 'Var11', 'Var12', 'Var13', 'Var14', 'Var15',\n",
              "       'Var16', 'Var17', 'Var18', 'Var19', 'Var20', 'Var21', 'Var22',\n",
              "       'Var23', 'Var24', 'Var25', 'Var26', 'Var27', 'Var28', 'Var29',\n",
              "       'Var30', 'Var31', 'Var32', 'Var33', 'Var34', 'Var35', 'Var36',\n",
              "       'Var37', 'Var38', 'Var39', 'Var40', 'Var41', 'Var42', 'Var43',\n",
              "       'Var44', 'Var45', 'Var46', 'Var47', 'Var48', 'Var49', 'Var50',\n",
              "       'Var51', 'Var52', 'Var53', 'Var54', 'Var55', 'Var56', 'Var57',\n",
              "       'Var58', 'Var59', 'Var60', 'Var61', 'Var62', 'Var63', 'Var64',\n",
              "       'Var65', 'Var66', 'Var67', 'Var68', 'Var69', 'Var70', 'Var71',\n",
              "       'Var72', 'Var73', 'Var74', 'Var75', 'Var76', 'Var77', 'Var78',\n",
              "       'Var79', 'Var80', 'Var81', 'Var82', 'Var83', 'Var84', 'Var85',\n",
              "       'Var86', 'Var87', 'Var88', 'Var89', 'Var90', 'Var91', 'Var92',\n",
              "       'Var93', 'Var94', 'Var95', 'Var96', 'Var97', 'Var98', 'Var99',\n",
              "       'Var100', 'Var101', 'Var102', 'Var103', 'Var104', 'Var105',\n",
              "       'Var106', 'Var107', 'Var108', 'Var109', 'Var110', 'Var111',\n",
              "       'Var112', 'Var113', 'Var114', 'Var115', 'Var116', 'Var117',\n",
              "       'Var118', 'Var119', 'Var120', 'Var121', 'Var122', 'Var123',\n",
              "       'Var124', 'Var125', 'Var126', 'Var127', 'Var128', 'Var129',\n",
              "       'Var130', 'Var131', 'Var132', 'Var133', 'Var134', 'Var135',\n",
              "       'Var136', 'Var137', 'Var138', 'Var139', 'Var140', 'Var141',\n",
              "       'Var142', 'Var143', 'Var144', 'Var145', 'Var146', 'Var147',\n",
              "       'Var148', 'Var149', 'Var150', 'Var151', 'Var152', 'Var153',\n",
              "       'Var154', 'Var155', 'Var156', 'Var157', 'Var158', 'Var159',\n",
              "       'Var160', 'Var161', 'Var162', 'Var163', 'Var164', 'Var165',\n",
              "       'Var166', 'Var167', 'Var168', 'Var169', 'Var170', 'Var171',\n",
              "       'Var172', 'Var173', 'Var174', 'Var175', 'Var176', 'Var177',\n",
              "       'Var178', 'Var179', 'Var180', 'Var181', 'Var182', 'Var183',\n",
              "       'Var184', 'Var185', 'Var186', 'Var187', 'Var188', 'Var189',\n",
              "       'Var190', 'Var191', 'Var192', 'Var193', 'Var194', 'Var195',\n",
              "       'Var196', 'Var197', 'Var198', 'Var199', 'Var200', 'Var201',\n",
              "       'Var202', 'Var203', 'Var204', 'Var205', 'Var206', 'Var207',\n",
              "       'Var208', 'Var209', 'Var210', 'Var211', 'Var212', 'Var213',\n",
              "       'Var214', 'Var215', 'Var216', 'Var217', 'Var218', 'Var219',\n",
              "       'Var220', 'Var221', 'Var222', 'Var223', 'Var224', 'Var225',\n",
              "       'Var226', 'Var227', 'Var228', 'Var229', 'Var230'], dtype=object)"
            ]
          },
          "metadata": {},
          "execution_count": 12
        }
      ]
    },
    {
      "cell_type": "code",
      "source": [
        "num_vall = np.array(all_vars[:190])\n",
        "num_vall"
      ],
      "metadata": {
        "colab": {
          "base_uri": "https://localhost:8080/"
        },
        "id": "cs0SUcB3ekG7",
        "outputId": "190eed20-c2da-48b9-9360-2599106abaef"
      },
      "execution_count": 14,
      "outputs": [
        {
          "output_type": "execute_result",
          "data": {
            "text/plain": [
              "array(['Var1', 'Var2', 'Var3', 'Var4', 'Var5', 'Var6', 'Var7', 'Var8',\n",
              "       'Var9', 'Var10', 'Var11', 'Var12', 'Var13', 'Var14', 'Var15',\n",
              "       'Var16', 'Var17', 'Var18', 'Var19', 'Var20', 'Var21', 'Var22',\n",
              "       'Var23', 'Var24', 'Var25', 'Var26', 'Var27', 'Var28', 'Var29',\n",
              "       'Var30', 'Var31', 'Var32', 'Var33', 'Var34', 'Var35', 'Var36',\n",
              "       'Var37', 'Var38', 'Var39', 'Var40', 'Var41', 'Var42', 'Var43',\n",
              "       'Var44', 'Var45', 'Var46', 'Var47', 'Var48', 'Var49', 'Var50',\n",
              "       'Var51', 'Var52', 'Var53', 'Var54', 'Var55', 'Var56', 'Var57',\n",
              "       'Var58', 'Var59', 'Var60', 'Var61', 'Var62', 'Var63', 'Var64',\n",
              "       'Var65', 'Var66', 'Var67', 'Var68', 'Var69', 'Var70', 'Var71',\n",
              "       'Var72', 'Var73', 'Var74', 'Var75', 'Var76', 'Var77', 'Var78',\n",
              "       'Var79', 'Var80', 'Var81', 'Var82', 'Var83', 'Var84', 'Var85',\n",
              "       'Var86', 'Var87', 'Var88', 'Var89', 'Var90', 'Var91', 'Var92',\n",
              "       'Var93', 'Var94', 'Var95', 'Var96', 'Var97', 'Var98', 'Var99',\n",
              "       'Var100', 'Var101', 'Var102', 'Var103', 'Var104', 'Var105',\n",
              "       'Var106', 'Var107', 'Var108', 'Var109', 'Var110', 'Var111',\n",
              "       'Var112', 'Var113', 'Var114', 'Var115', 'Var116', 'Var117',\n",
              "       'Var118', 'Var119', 'Var120', 'Var121', 'Var122', 'Var123',\n",
              "       'Var124', 'Var125', 'Var126', 'Var127', 'Var128', 'Var129',\n",
              "       'Var130', 'Var131', 'Var132', 'Var133', 'Var134', 'Var135',\n",
              "       'Var136', 'Var137', 'Var138', 'Var139', 'Var140', 'Var141',\n",
              "       'Var142', 'Var143', 'Var144', 'Var145', 'Var146', 'Var147',\n",
              "       'Var148', 'Var149', 'Var150', 'Var151', 'Var152', 'Var153',\n",
              "       'Var154', 'Var155', 'Var156', 'Var157', 'Var158', 'Var159',\n",
              "       'Var160', 'Var161', 'Var162', 'Var163', 'Var164', 'Var165',\n",
              "       'Var166', 'Var167', 'Var168', 'Var169', 'Var170', 'Var171',\n",
              "       'Var172', 'Var173', 'Var174', 'Var175', 'Var176', 'Var177',\n",
              "       'Var178', 'Var179', 'Var180', 'Var181', 'Var182', 'Var183',\n",
              "       'Var184', 'Var185', 'Var186', 'Var187', 'Var188', 'Var189',\n",
              "       'Var190'], dtype=object)"
            ]
          },
          "metadata": {},
          "execution_count": 14
        }
      ]
    },
    {
      "cell_type": "code",
      "source": [
        "cat_vars = np.array(all_vars[190:])\n",
        "cat_vars"
      ],
      "metadata": {
        "colab": {
          "base_uri": "https://localhost:8080/"
        },
        "id": "9vwt3eLfe736",
        "outputId": "d8eed535-8857-45be-d4bf-0d5ea1e4bc0a"
      },
      "execution_count": 16,
      "outputs": [
        {
          "output_type": "execute_result",
          "data": {
            "text/plain": [
              "array(['Var191', 'Var192', 'Var193', 'Var194', 'Var195', 'Var196',\n",
              "       'Var197', 'Var198', 'Var199', 'Var200', 'Var201', 'Var202',\n",
              "       'Var203', 'Var204', 'Var205', 'Var206', 'Var207', 'Var208',\n",
              "       'Var209', 'Var210', 'Var211', 'Var212', 'Var213', 'Var214',\n",
              "       'Var215', 'Var216', 'Var217', 'Var218', 'Var219', 'Var220',\n",
              "       'Var221', 'Var222', 'Var223', 'Var224', 'Var225', 'Var226',\n",
              "       'Var227', 'Var228', 'Var229', 'Var230'], dtype=object)"
            ]
          },
          "metadata": {},
          "execution_count": 16
        }
      ]
    },
    {
      "cell_type": "code",
      "source": [
        "# variaveis\n"
      ],
      "metadata": {
        "id": "9MprFBfvgLfg"
      },
      "execution_count": 17,
      "outputs": []
    },
    {
      "cell_type": "code",
      "source": [
        "treino.dtypes"
      ],
      "metadata": {
        "colab": {
          "base_uri": "https://localhost:8080/"
        },
        "id": "11bZQvJCgPtj",
        "outputId": "7b0b64b9-d165-4da1-b569-384601c10aad"
      },
      "execution_count": 18,
      "outputs": [
        {
          "output_type": "execute_result",
          "data": {
            "text/plain": [
              "Var1      float64\n",
              "Var2      float64\n",
              "Var3      float64\n",
              "Var4      float64\n",
              "Var5      float64\n",
              "           ...   \n",
              "Var226     object\n",
              "Var227     object\n",
              "Var228     object\n",
              "Var229     object\n",
              "Var230    float64\n",
              "Length: 230, dtype: object"
            ]
          },
          "metadata": {},
          "execution_count": 18
        }
      ]
    },
    {
      "cell_type": "code",
      "source": [
        "var =treino.groupby('Var1').size()\n",
        "var"
      ],
      "metadata": {
        "colab": {
          "base_uri": "https://localhost:8080/"
        },
        "id": "RFc--1tagb6S",
        "outputId": "faff3aea-1a7a-4bd6-9c22-c8a8d0d760bd"
      },
      "execution_count": 21,
      "outputs": [
        {
          "output_type": "execute_result",
          "data": {
            "text/plain": [
              "Var1\n",
              "0.0      380\n",
              "8.0      138\n",
              "16.0      81\n",
              "24.0      46\n",
              "32.0      23\n",
              "40.0      10\n",
              "48.0       6\n",
              "56.0       5\n",
              "64.0       1\n",
              "72.0       3\n",
              "80.0       1\n",
              "120.0      1\n",
              "128.0      2\n",
              "152.0      1\n",
              "360.0      1\n",
              "392.0      1\n",
              "536.0      1\n",
              "680.0      1\n",
              "dtype: int64"
            ]
          },
          "metadata": {},
          "execution_count": 21
        }
      ]
    },
    {
      "cell_type": "code",
      "source": [
        "count_por_column = pd.DataFrame()\n",
        "for col in  num_vall:\n",
        "  col_counts = treino.groupby(col).size()\n",
        "  count_por_column = count_por_column.append(col_counts, ignore_index=True)\n",
        "\n",
        "\n"
      ],
      "metadata": {
        "id": "z2U7kjRAhfow"
      },
      "execution_count": 23,
      "outputs": []
    },
    {
      "cell_type": "code",
      "source": [
        "count_por_column.shape"
      ],
      "metadata": {
        "colab": {
          "base_uri": "https://localhost:8080/"
        },
        "id": "1gdDuUQDi1UR",
        "outputId": "a205a2af-edba-4af3-e4db-a5a897f3a77d"
      },
      "execution_count": 24,
      "outputs": [
        {
          "output_type": "execute_result",
          "data": {
            "text/plain": [
              "(190, 349155)"
            ]
          },
          "metadata": {},
          "execution_count": 24
        }
      ]
    },
    {
      "cell_type": "code",
      "source": [
        "count_por_column.T.shape\n"
      ],
      "metadata": {
        "colab": {
          "base_uri": "https://localhost:8080/"
        },
        "id": "kNo7UQjJjCLO",
        "outputId": "713e4c6b-9415-4638-a463-c236aa614f54"
      },
      "execution_count": 26,
      "outputs": [
        {
          "output_type": "execute_result",
          "data": {
            "text/plain": [
              "(349155, 190)"
            ]
          },
          "metadata": {},
          "execution_count": 26
        }
      ]
    },
    {
      "cell_type": "code",
      "source": [
        "count_por_column = count_por_column.T\n",
        "count_por_column.index = count_por_column.index.astype('str')\n",
        "count_por_column.sort_index(inplace=True)\n",
        "print('primeira 10 Categorias: ',count_por_column.index[:10])\n",
        "print('ultimas 10 categoreias: ',count_por_column.index[(len(count_por_column.index)-10):])\n",
        " "
      ],
      "metadata": {
        "colab": {
          "base_uri": "https://localhost:8080/"
        },
        "id": "5etKuHGJjL0c",
        "outputId": "56fa1335-dae7-4e21-a292-d06bac5e66a5"
      },
      "execution_count": 31,
      "outputs": [
        {
          "output_type": "stream",
          "name": "stdout",
          "text": [
            "primeira 10 Categorias:  Index(['-10.0', '-1000060.0', '-10002.16', '-100034.8', '-1000420.0',\n",
            "       '-1000468.0', '-1000496.0', '-1000516.0', '-1000548.0', '-1000648.0'],\n",
            "      dtype='object')\n",
            "ultimas 10 categoreias:  Index(['9999040.0', '999920.0', '9999240.0', '99993.0', '9999400.0',\n",
            "       '9999440.0', '9999480.0', '99995.0', '99996.0', '999971.0'],\n",
            "      dtype='object')\n"
          ]
        }
      ]
    },
    {
      "cell_type": "code",
      "source": [
        ""
      ],
      "metadata": {
        "id": "8Bf5Zea5lT6U"
      },
      "execution_count": null,
      "outputs": []
    }
  ]
}