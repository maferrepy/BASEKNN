{
  "nbformat": 4,
  "nbformat_minor": 0,
  "metadata": {
    "colab": {
      "provenance": [],
      "authorship_tag": "ABX9TyO6bPz8WDry298RmyF70aQ9",
      "include_colab_link": true
    },
    "kernelspec": {
      "name": "python3",
      "display_name": "Python 3"
    },
    "language_info": {
      "name": "python"
    }
  },
  "cells": [
    {
      "cell_type": "markdown",
      "metadata": {
        "id": "view-in-github",
        "colab_type": "text"
      },
      "source": [
        "<a href=\"https://colab.research.google.com/github/maferrepy/BASEKNN/blob/main/reNATA.ipynb\" target=\"_parent\"><img src=\"https://colab.research.google.com/assets/colab-badge.svg\" alt=\"Open In Colab\"/></a>"
      ]
    },
    {
      "cell_type": "code",
      "source": [
        "import pandas as pd\n"
      ],
      "metadata": {
        "id": "rE5YEhBuMMlB"
      },
      "execution_count": 552,
      "outputs": []
    },
    {
      "cell_type": "code",
      "source": [
        "df_excel =pd.read_excel('/content/Balancete por Secretaria e consolidado 2023 e 2024 MARCOS.xls',sheet_name=\"Balancete por secretaria 2024\")"
      ],
      "metadata": {
        "id": "1-NvMdDkMQZ8"
      },
      "execution_count": 553,
      "outputs": []
    },
    {
      "cell_type": "code",
      "source": [
        "df_excel.to_csv('/content/balancete.csv', index=False)"
      ],
      "metadata": {
        "id": "iSv8g4rV-yYx"
      },
      "execution_count": 554,
      "outputs": []
    },
    {
      "cell_type": "code",
      "source": [
        "df =pd.read_csv(\"/content/balancete.csv\")"
      ],
      "metadata": {
        "id": "QEePMz0pEw2r"
      },
      "execution_count": 555,
      "outputs": []
    },
    {
      "cell_type": "code",
      "source": [
        "df.rename(columns={'Unnamed: 0': 'CODIGO'}, inplace=True)\n",
        "df.rename(columns={'Unnamed: 3': 'ATUALIZADO'}, inplace=True)\n",
        "df.rename(columns={'DOTAÇÃO ': 'VALORES'}, inplace=True)\n",
        "df.drop(df.columns[3:7], axis=1, inplace=True)"
      ],
      "metadata": {
        "id": "mXeodI9DGuQ5"
      },
      "execution_count": 556,
      "outputs": []
    },
    {
      "cell_type": "code",
      "source": [
        "df.head()"
      ],
      "metadata": {
        "id": "13eb3eEsFMKm",
        "outputId": "a4becaaa-9444-4d98-9282-1b59788984aa",
        "colab": {
          "base_uri": "https://localhost:8080/",
          "height": 258
        }
      },
      "execution_count": 557,
      "outputs": [
        {
          "output_type": "execute_result",
          "data": {
            "text/plain": [
              "                  CODIGO         02 - SECRETARIA M. DE ADMINISTRAÇÃO   \\\n",
              "0                    NaN                                          NaN   \n",
              "1  3.1.90.11.00.00.00.00  VENCIMENTOS E VANTAGENS FIXAS-PESSOAL CIVIL   \n",
              "2  3.1.90.13.00.00.00.00                      CONTRIBUIÇÕES PATRONAIS   \n",
              "3  3.1.90.16.00.00.00.00      OUTRAS DESPESAS VARIÁVEIS-PESSOAL CIVIL   \n",
              "4  3.1.90.91.00.00.00.00                          SENTENÇAS JUDICIAIS   \n",
              "\n",
              "        VALORES Unnamed: 7  \n",
              "0       INICIAL        ANO  \n",
              "1  7.483.558,37       0,00  \n",
              "2    383.321,64       0,00  \n",
              "3     19.479,28       0,00  \n",
              "4    100.000,00       0,00  "
            ],
            "text/html": [
              "\n",
              "  <div id=\"df-f6fea2bd-2f98-4f9d-9f75-c7187dd2cf65\" class=\"colab-df-container\">\n",
              "    <div>\n",
              "<style scoped>\n",
              "    .dataframe tbody tr th:only-of-type {\n",
              "        vertical-align: middle;\n",
              "    }\n",
              "\n",
              "    .dataframe tbody tr th {\n",
              "        vertical-align: top;\n",
              "    }\n",
              "\n",
              "    .dataframe thead th {\n",
              "        text-align: right;\n",
              "    }\n",
              "</style>\n",
              "<table border=\"1\" class=\"dataframe\">\n",
              "  <thead>\n",
              "    <tr style=\"text-align: right;\">\n",
              "      <th></th>\n",
              "      <th>CODIGO</th>\n",
              "      <th>02 - SECRETARIA M. DE ADMINISTRAÇÃO</th>\n",
              "      <th>VALORES</th>\n",
              "      <th>Unnamed: 7</th>\n",
              "    </tr>\n",
              "  </thead>\n",
              "  <tbody>\n",
              "    <tr>\n",
              "      <th>0</th>\n",
              "      <td>NaN</td>\n",
              "      <td>NaN</td>\n",
              "      <td>INICIAL</td>\n",
              "      <td>ANO</td>\n",
              "    </tr>\n",
              "    <tr>\n",
              "      <th>1</th>\n",
              "      <td>3.1.90.11.00.00.00.00</td>\n",
              "      <td>VENCIMENTOS E VANTAGENS FIXAS-PESSOAL CIVIL</td>\n",
              "      <td>7.483.558,37</td>\n",
              "      <td>0,00</td>\n",
              "    </tr>\n",
              "    <tr>\n",
              "      <th>2</th>\n",
              "      <td>3.1.90.13.00.00.00.00</td>\n",
              "      <td>CONTRIBUIÇÕES PATRONAIS</td>\n",
              "      <td>383.321,64</td>\n",
              "      <td>0,00</td>\n",
              "    </tr>\n",
              "    <tr>\n",
              "      <th>3</th>\n",
              "      <td>3.1.90.16.00.00.00.00</td>\n",
              "      <td>OUTRAS DESPESAS VARIÁVEIS-PESSOAL CIVIL</td>\n",
              "      <td>19.479,28</td>\n",
              "      <td>0,00</td>\n",
              "    </tr>\n",
              "    <tr>\n",
              "      <th>4</th>\n",
              "      <td>3.1.90.91.00.00.00.00</td>\n",
              "      <td>SENTENÇAS JUDICIAIS</td>\n",
              "      <td>100.000,00</td>\n",
              "      <td>0,00</td>\n",
              "    </tr>\n",
              "  </tbody>\n",
              "</table>\n",
              "</div>\n",
              "    <div class=\"colab-df-buttons\">\n",
              "\n",
              "  <div class=\"colab-df-container\">\n",
              "    <button class=\"colab-df-convert\" onclick=\"convertToInteractive('df-f6fea2bd-2f98-4f9d-9f75-c7187dd2cf65')\"\n",
              "            title=\"Convert this dataframe to an interactive table.\"\n",
              "            style=\"display:none;\">\n",
              "\n",
              "  <svg xmlns=\"http://www.w3.org/2000/svg\" height=\"24px\" viewBox=\"0 -960 960 960\">\n",
              "    <path d=\"M120-120v-720h720v720H120Zm60-500h600v-160H180v160Zm220 220h160v-160H400v160Zm0 220h160v-160H400v160ZM180-400h160v-160H180v160Zm440 0h160v-160H620v160ZM180-180h160v-160H180v160Zm440 0h160v-160H620v160Z\"/>\n",
              "  </svg>\n",
              "    </button>\n",
              "\n",
              "  <style>\n",
              "    .colab-df-container {\n",
              "      display:flex;\n",
              "      gap: 12px;\n",
              "    }\n",
              "\n",
              "    .colab-df-convert {\n",
              "      background-color: #E8F0FE;\n",
              "      border: none;\n",
              "      border-radius: 50%;\n",
              "      cursor: pointer;\n",
              "      display: none;\n",
              "      fill: #1967D2;\n",
              "      height: 32px;\n",
              "      padding: 0 0 0 0;\n",
              "      width: 32px;\n",
              "    }\n",
              "\n",
              "    .colab-df-convert:hover {\n",
              "      background-color: #E2EBFA;\n",
              "      box-shadow: 0px 1px 2px rgba(60, 64, 67, 0.3), 0px 1px 3px 1px rgba(60, 64, 67, 0.15);\n",
              "      fill: #174EA6;\n",
              "    }\n",
              "\n",
              "    .colab-df-buttons div {\n",
              "      margin-bottom: 4px;\n",
              "    }\n",
              "\n",
              "    [theme=dark] .colab-df-convert {\n",
              "      background-color: #3B4455;\n",
              "      fill: #D2E3FC;\n",
              "    }\n",
              "\n",
              "    [theme=dark] .colab-df-convert:hover {\n",
              "      background-color: #434B5C;\n",
              "      box-shadow: 0px 1px 3px 1px rgba(0, 0, 0, 0.15);\n",
              "      filter: drop-shadow(0px 1px 2px rgba(0, 0, 0, 0.3));\n",
              "      fill: #FFFFFF;\n",
              "    }\n",
              "  </style>\n",
              "\n",
              "    <script>\n",
              "      const buttonEl =\n",
              "        document.querySelector('#df-f6fea2bd-2f98-4f9d-9f75-c7187dd2cf65 button.colab-df-convert');\n",
              "      buttonEl.style.display =\n",
              "        google.colab.kernel.accessAllowed ? 'block' : 'none';\n",
              "\n",
              "      async function convertToInteractive(key) {\n",
              "        const element = document.querySelector('#df-f6fea2bd-2f98-4f9d-9f75-c7187dd2cf65');\n",
              "        const dataTable =\n",
              "          await google.colab.kernel.invokeFunction('convertToInteractive',\n",
              "                                                    [key], {});\n",
              "        if (!dataTable) return;\n",
              "\n",
              "        const docLinkHtml = 'Like what you see? Visit the ' +\n",
              "          '<a target=\"_blank\" href=https://colab.research.google.com/notebooks/data_table.ipynb>data table notebook</a>'\n",
              "          + ' to learn more about interactive tables.';\n",
              "        element.innerHTML = '';\n",
              "        dataTable['output_type'] = 'display_data';\n",
              "        await google.colab.output.renderOutput(dataTable, element);\n",
              "        const docLink = document.createElement('div');\n",
              "        docLink.innerHTML = docLinkHtml;\n",
              "        element.appendChild(docLink);\n",
              "      }\n",
              "    </script>\n",
              "  </div>\n",
              "\n",
              "\n",
              "<div id=\"df-db4737ff-fdee-422b-b2f9-a728e1aea7b0\">\n",
              "  <button class=\"colab-df-quickchart\" onclick=\"quickchart('df-db4737ff-fdee-422b-b2f9-a728e1aea7b0')\"\n",
              "            title=\"Suggest charts\"\n",
              "            style=\"display:none;\">\n",
              "\n",
              "<svg xmlns=\"http://www.w3.org/2000/svg\" height=\"24px\"viewBox=\"0 0 24 24\"\n",
              "     width=\"24px\">\n",
              "    <g>\n",
              "        <path d=\"M19 3H5c-1.1 0-2 .9-2 2v14c0 1.1.9 2 2 2h14c1.1 0 2-.9 2-2V5c0-1.1-.9-2-2-2zM9 17H7v-7h2v7zm4 0h-2V7h2v10zm4 0h-2v-4h2v4z\"/>\n",
              "    </g>\n",
              "</svg>\n",
              "  </button>\n",
              "\n",
              "<style>\n",
              "  .colab-df-quickchart {\n",
              "      --bg-color: #E8F0FE;\n",
              "      --fill-color: #1967D2;\n",
              "      --hover-bg-color: #E2EBFA;\n",
              "      --hover-fill-color: #174EA6;\n",
              "      --disabled-fill-color: #AAA;\n",
              "      --disabled-bg-color: #DDD;\n",
              "  }\n",
              "\n",
              "  [theme=dark] .colab-df-quickchart {\n",
              "      --bg-color: #3B4455;\n",
              "      --fill-color: #D2E3FC;\n",
              "      --hover-bg-color: #434B5C;\n",
              "      --hover-fill-color: #FFFFFF;\n",
              "      --disabled-bg-color: #3B4455;\n",
              "      --disabled-fill-color: #666;\n",
              "  }\n",
              "\n",
              "  .colab-df-quickchart {\n",
              "    background-color: var(--bg-color);\n",
              "    border: none;\n",
              "    border-radius: 50%;\n",
              "    cursor: pointer;\n",
              "    display: none;\n",
              "    fill: var(--fill-color);\n",
              "    height: 32px;\n",
              "    padding: 0;\n",
              "    width: 32px;\n",
              "  }\n",
              "\n",
              "  .colab-df-quickchart:hover {\n",
              "    background-color: var(--hover-bg-color);\n",
              "    box-shadow: 0 1px 2px rgba(60, 64, 67, 0.3), 0 1px 3px 1px rgba(60, 64, 67, 0.15);\n",
              "    fill: var(--button-hover-fill-color);\n",
              "  }\n",
              "\n",
              "  .colab-df-quickchart-complete:disabled,\n",
              "  .colab-df-quickchart-complete:disabled:hover {\n",
              "    background-color: var(--disabled-bg-color);\n",
              "    fill: var(--disabled-fill-color);\n",
              "    box-shadow: none;\n",
              "  }\n",
              "\n",
              "  .colab-df-spinner {\n",
              "    border: 2px solid var(--fill-color);\n",
              "    border-color: transparent;\n",
              "    border-bottom-color: var(--fill-color);\n",
              "    animation:\n",
              "      spin 1s steps(1) infinite;\n",
              "  }\n",
              "\n",
              "  @keyframes spin {\n",
              "    0% {\n",
              "      border-color: transparent;\n",
              "      border-bottom-color: var(--fill-color);\n",
              "      border-left-color: var(--fill-color);\n",
              "    }\n",
              "    20% {\n",
              "      border-color: transparent;\n",
              "      border-left-color: var(--fill-color);\n",
              "      border-top-color: var(--fill-color);\n",
              "    }\n",
              "    30% {\n",
              "      border-color: transparent;\n",
              "      border-left-color: var(--fill-color);\n",
              "      border-top-color: var(--fill-color);\n",
              "      border-right-color: var(--fill-color);\n",
              "    }\n",
              "    40% {\n",
              "      border-color: transparent;\n",
              "      border-right-color: var(--fill-color);\n",
              "      border-top-color: var(--fill-color);\n",
              "    }\n",
              "    60% {\n",
              "      border-color: transparent;\n",
              "      border-right-color: var(--fill-color);\n",
              "    }\n",
              "    80% {\n",
              "      border-color: transparent;\n",
              "      border-right-color: var(--fill-color);\n",
              "      border-bottom-color: var(--fill-color);\n",
              "    }\n",
              "    90% {\n",
              "      border-color: transparent;\n",
              "      border-bottom-color: var(--fill-color);\n",
              "    }\n",
              "  }\n",
              "</style>\n",
              "\n",
              "  <script>\n",
              "    async function quickchart(key) {\n",
              "      const quickchartButtonEl =\n",
              "        document.querySelector('#' + key + ' button');\n",
              "      quickchartButtonEl.disabled = true;  // To prevent multiple clicks.\n",
              "      quickchartButtonEl.classList.add('colab-df-spinner');\n",
              "      try {\n",
              "        const charts = await google.colab.kernel.invokeFunction(\n",
              "            'suggestCharts', [key], {});\n",
              "      } catch (error) {\n",
              "        console.error('Error during call to suggestCharts:', error);\n",
              "      }\n",
              "      quickchartButtonEl.classList.remove('colab-df-spinner');\n",
              "      quickchartButtonEl.classList.add('colab-df-quickchart-complete');\n",
              "    }\n",
              "    (() => {\n",
              "      let quickchartButtonEl =\n",
              "        document.querySelector('#df-db4737ff-fdee-422b-b2f9-a728e1aea7b0 button');\n",
              "      quickchartButtonEl.style.display =\n",
              "        google.colab.kernel.accessAllowed ? 'block' : 'none';\n",
              "    })();\n",
              "  </script>\n",
              "</div>\n",
              "\n",
              "    </div>\n",
              "  </div>\n"
            ]
          },
          "metadata": {},
          "execution_count": 557
        }
      ]
    },
    {
      "cell_type": "code",
      "source": [
        "df = df.drop(0)"
      ],
      "metadata": {
        "id": "EVZLRElIFObC"
      },
      "execution_count": 558,
      "outputs": []
    },
    {
      "cell_type": "code",
      "source": [
        "# Substituir os valores faltantes (NaN) por None\n",
        "df = df.where((pd.notnull(df)), None)\n",
        "\n",
        "# Converter os valores faltantes (None) por um espaço vazio\n",
        "df = df.fillna('')"
      ],
      "metadata": {
        "id": "f0kb07uzGvHu"
      },
      "execution_count": 559,
      "outputs": []
    },
    {
      "cell_type": "code",
      "source": [
        "df.head(25)\n"
      ],
      "metadata": {
        "id": "yNTE3TqnFk3V",
        "outputId": "abefd18b-1f6d-470c-8118-f0f660e0277b",
        "colab": {
          "base_uri": "https://localhost:8080/",
          "height": 1000
        }
      },
      "execution_count": 560,
      "outputs": [
        {
          "output_type": "execute_result",
          "data": {
            "text/plain": [
              "                   CODIGO               02 - SECRETARIA M. DE ADMINISTRAÇÃO   \\\n",
              "1   3.1.90.11.00.00.00.00        VENCIMENTOS E VANTAGENS FIXAS-PESSOAL CIVIL   \n",
              "2   3.1.90.13.00.00.00.00                            CONTRIBUIÇÕES PATRONAIS   \n",
              "3   3.1.90.16.00.00.00.00            OUTRAS DESPESAS VARIÁVEIS-PESSOAL CIVIL   \n",
              "4   3.1.90.91.00.00.00.00                                SENTENÇAS JUDICIAIS   \n",
              "5   3.1.90.94.00.00.00.00           INDENIZAÇÕES E RESTITUIÇÕES TRABALHISTAS   \n",
              "6   3.1.91.13.00.00.00.00                            CONTRIBUIÇÕES PATRONAIS   \n",
              "7   3.3.30.93.00.00.00.00                        INDENIZAÇÕES E RESTITUIÇÕES   \n",
              "8   3.3.50.41.00.00.00.00                                      CONTRIBUIÇÕES   \n",
              "9   3.3.50.43.00.00.00.00                                 SUBVENÇÕES SOCIAIS   \n",
              "10  3.3.90.14.00.00.00.00                                      DIÁRIAS-CIVIL   \n",
              "11  3.3.90.30.00.00.00.00                                MATERIAL DE CONSUMO   \n",
              "12  3.3.90.31.00.00.00.00  PREMIAÇÕES CULTURAIS, ARTÍSTICAS, CIENTÍFICAS,...   \n",
              "13  3.3.90.32.00.00.00.00  MATERIAL, BEM OU SERVIÇO PARA DISTRIBUIÇÃO GRA...   \n",
              "14  3.3.90.33.00.00.00.00                 PASSAGENS E DESPESAS COM LOCOMOÇÃO   \n",
              "15  3.3.90.35.00.00.00.00                            SERVIÇOS DE CONSULTORIA   \n",
              "16  3.3.90.36.00.00.00.00         OUTROS SERVIÇOS DE TERCEIROS-PESSOA FÍSICA   \n",
              "17  3.3.90.39.00.00.00.00       OUTROS SERVIÇOS DE TERCEIROS-PESSOA JURÍDICA   \n",
              "18  3.3.90.40.00.00.00.00  SERVIÇOS DE TECNOLOGIA DA INFORMAÇÃO E COMUNIC...   \n",
              "19  3.3.90.46.00.00.00.00                                AUXÍLIO-ALIMENTAÇÃO   \n",
              "20  3.3.90.47.00.00.00.00             OBRIGAÇÕES TRIBUTÁRIAS E CONTRIBUTIVAS   \n",
              "21  3.3.90.49.00.00.00.00                                 AUXÍLIO-TRANSPORTE   \n",
              "22  3.3.90.92.00.00.00.00                  DESPESAS DE EXERCÍCIOS ANTERIORES   \n",
              "23  3.3.90.93.00.00.00.00                        INDENIZAÇÕES E RESTITUIÇÕES   \n",
              "24  3.3.91.97.00.00.00.00  APORTE PARA COBERTURA DO DÉFICIT ATUARIAL DO RPPS   \n",
              "25  4.4.90.52.00.00.00.00                 EQUIPAMENTOS E MATERIAL PERMANENTE   \n",
              "\n",
              "         VALORES Unnamed: 7  \n",
              "1   7.483.558,37       0,00  \n",
              "2     383.321,64       0,00  \n",
              "3      19.479,28       0,00  \n",
              "4     100.000,00       0,00  \n",
              "5     290.000,00       0,00  \n",
              "6   2.681.165,31       0,00  \n",
              "7      12.000,00       0,00  \n",
              "8         500,00       0,00  \n",
              "9         500,00       0,00  \n",
              "10     30.000,00       0,00  \n",
              "11    355.000,00       0,00  \n",
              "12      1.000,00       0,00  \n",
              "13     10.000,00       0,00  \n",
              "14     30.000,00       0,00  \n",
              "15     10.000,00       0,00  \n",
              "16    775.202,24       0,00  \n",
              "17  2.147.075,00       0,00  \n",
              "18  1.500.250,00       0,00  \n",
              "19    634.695,87       0,00  \n",
              "20      5.000,00       0,00  \n",
              "21    177.724,94       0,00  \n",
              "22     20.000,00       0,00  \n",
              "23     50.000,00       0,00  \n",
              "24    851.915,91       0,00  \n",
              "25    712.000,00       0,00  "
            ],
            "text/html": [
              "\n",
              "  <div id=\"df-0be0b09f-92bf-4636-bd10-120ed7a76cf1\" class=\"colab-df-container\">\n",
              "    <div>\n",
              "<style scoped>\n",
              "    .dataframe tbody tr th:only-of-type {\n",
              "        vertical-align: middle;\n",
              "    }\n",
              "\n",
              "    .dataframe tbody tr th {\n",
              "        vertical-align: top;\n",
              "    }\n",
              "\n",
              "    .dataframe thead th {\n",
              "        text-align: right;\n",
              "    }\n",
              "</style>\n",
              "<table border=\"1\" class=\"dataframe\">\n",
              "  <thead>\n",
              "    <tr style=\"text-align: right;\">\n",
              "      <th></th>\n",
              "      <th>CODIGO</th>\n",
              "      <th>02 - SECRETARIA M. DE ADMINISTRAÇÃO</th>\n",
              "      <th>VALORES</th>\n",
              "      <th>Unnamed: 7</th>\n",
              "    </tr>\n",
              "  </thead>\n",
              "  <tbody>\n",
              "    <tr>\n",
              "      <th>1</th>\n",
              "      <td>3.1.90.11.00.00.00.00</td>\n",
              "      <td>VENCIMENTOS E VANTAGENS FIXAS-PESSOAL CIVIL</td>\n",
              "      <td>7.483.558,37</td>\n",
              "      <td>0,00</td>\n",
              "    </tr>\n",
              "    <tr>\n",
              "      <th>2</th>\n",
              "      <td>3.1.90.13.00.00.00.00</td>\n",
              "      <td>CONTRIBUIÇÕES PATRONAIS</td>\n",
              "      <td>383.321,64</td>\n",
              "      <td>0,00</td>\n",
              "    </tr>\n",
              "    <tr>\n",
              "      <th>3</th>\n",
              "      <td>3.1.90.16.00.00.00.00</td>\n",
              "      <td>OUTRAS DESPESAS VARIÁVEIS-PESSOAL CIVIL</td>\n",
              "      <td>19.479,28</td>\n",
              "      <td>0,00</td>\n",
              "    </tr>\n",
              "    <tr>\n",
              "      <th>4</th>\n",
              "      <td>3.1.90.91.00.00.00.00</td>\n",
              "      <td>SENTENÇAS JUDICIAIS</td>\n",
              "      <td>100.000,00</td>\n",
              "      <td>0,00</td>\n",
              "    </tr>\n",
              "    <tr>\n",
              "      <th>5</th>\n",
              "      <td>3.1.90.94.00.00.00.00</td>\n",
              "      <td>INDENIZAÇÕES E RESTITUIÇÕES TRABALHISTAS</td>\n",
              "      <td>290.000,00</td>\n",
              "      <td>0,00</td>\n",
              "    </tr>\n",
              "    <tr>\n",
              "      <th>6</th>\n",
              "      <td>3.1.91.13.00.00.00.00</td>\n",
              "      <td>CONTRIBUIÇÕES PATRONAIS</td>\n",
              "      <td>2.681.165,31</td>\n",
              "      <td>0,00</td>\n",
              "    </tr>\n",
              "    <tr>\n",
              "      <th>7</th>\n",
              "      <td>3.3.30.93.00.00.00.00</td>\n",
              "      <td>INDENIZAÇÕES E RESTITUIÇÕES</td>\n",
              "      <td>12.000,00</td>\n",
              "      <td>0,00</td>\n",
              "    </tr>\n",
              "    <tr>\n",
              "      <th>8</th>\n",
              "      <td>3.3.50.41.00.00.00.00</td>\n",
              "      <td>CONTRIBUIÇÕES</td>\n",
              "      <td>500,00</td>\n",
              "      <td>0,00</td>\n",
              "    </tr>\n",
              "    <tr>\n",
              "      <th>9</th>\n",
              "      <td>3.3.50.43.00.00.00.00</td>\n",
              "      <td>SUBVENÇÕES SOCIAIS</td>\n",
              "      <td>500,00</td>\n",
              "      <td>0,00</td>\n",
              "    </tr>\n",
              "    <tr>\n",
              "      <th>10</th>\n",
              "      <td>3.3.90.14.00.00.00.00</td>\n",
              "      <td>DIÁRIAS-CIVIL</td>\n",
              "      <td>30.000,00</td>\n",
              "      <td>0,00</td>\n",
              "    </tr>\n",
              "    <tr>\n",
              "      <th>11</th>\n",
              "      <td>3.3.90.30.00.00.00.00</td>\n",
              "      <td>MATERIAL DE CONSUMO</td>\n",
              "      <td>355.000,00</td>\n",
              "      <td>0,00</td>\n",
              "    </tr>\n",
              "    <tr>\n",
              "      <th>12</th>\n",
              "      <td>3.3.90.31.00.00.00.00</td>\n",
              "      <td>PREMIAÇÕES CULTURAIS, ARTÍSTICAS, CIENTÍFICAS,...</td>\n",
              "      <td>1.000,00</td>\n",
              "      <td>0,00</td>\n",
              "    </tr>\n",
              "    <tr>\n",
              "      <th>13</th>\n",
              "      <td>3.3.90.32.00.00.00.00</td>\n",
              "      <td>MATERIAL, BEM OU SERVIÇO PARA DISTRIBUIÇÃO GRA...</td>\n",
              "      <td>10.000,00</td>\n",
              "      <td>0,00</td>\n",
              "    </tr>\n",
              "    <tr>\n",
              "      <th>14</th>\n",
              "      <td>3.3.90.33.00.00.00.00</td>\n",
              "      <td>PASSAGENS E DESPESAS COM LOCOMOÇÃO</td>\n",
              "      <td>30.000,00</td>\n",
              "      <td>0,00</td>\n",
              "    </tr>\n",
              "    <tr>\n",
              "      <th>15</th>\n",
              "      <td>3.3.90.35.00.00.00.00</td>\n",
              "      <td>SERVIÇOS DE CONSULTORIA</td>\n",
              "      <td>10.000,00</td>\n",
              "      <td>0,00</td>\n",
              "    </tr>\n",
              "    <tr>\n",
              "      <th>16</th>\n",
              "      <td>3.3.90.36.00.00.00.00</td>\n",
              "      <td>OUTROS SERVIÇOS DE TERCEIROS-PESSOA FÍSICA</td>\n",
              "      <td>775.202,24</td>\n",
              "      <td>0,00</td>\n",
              "    </tr>\n",
              "    <tr>\n",
              "      <th>17</th>\n",
              "      <td>3.3.90.39.00.00.00.00</td>\n",
              "      <td>OUTROS SERVIÇOS DE TERCEIROS-PESSOA JURÍDICA</td>\n",
              "      <td>2.147.075,00</td>\n",
              "      <td>0,00</td>\n",
              "    </tr>\n",
              "    <tr>\n",
              "      <th>18</th>\n",
              "      <td>3.3.90.40.00.00.00.00</td>\n",
              "      <td>SERVIÇOS DE TECNOLOGIA DA INFORMAÇÃO E COMUNIC...</td>\n",
              "      <td>1.500.250,00</td>\n",
              "      <td>0,00</td>\n",
              "    </tr>\n",
              "    <tr>\n",
              "      <th>19</th>\n",
              "      <td>3.3.90.46.00.00.00.00</td>\n",
              "      <td>AUXÍLIO-ALIMENTAÇÃO</td>\n",
              "      <td>634.695,87</td>\n",
              "      <td>0,00</td>\n",
              "    </tr>\n",
              "    <tr>\n",
              "      <th>20</th>\n",
              "      <td>3.3.90.47.00.00.00.00</td>\n",
              "      <td>OBRIGAÇÕES TRIBUTÁRIAS E CONTRIBUTIVAS</td>\n",
              "      <td>5.000,00</td>\n",
              "      <td>0,00</td>\n",
              "    </tr>\n",
              "    <tr>\n",
              "      <th>21</th>\n",
              "      <td>3.3.90.49.00.00.00.00</td>\n",
              "      <td>AUXÍLIO-TRANSPORTE</td>\n",
              "      <td>177.724,94</td>\n",
              "      <td>0,00</td>\n",
              "    </tr>\n",
              "    <tr>\n",
              "      <th>22</th>\n",
              "      <td>3.3.90.92.00.00.00.00</td>\n",
              "      <td>DESPESAS DE EXERCÍCIOS ANTERIORES</td>\n",
              "      <td>20.000,00</td>\n",
              "      <td>0,00</td>\n",
              "    </tr>\n",
              "    <tr>\n",
              "      <th>23</th>\n",
              "      <td>3.3.90.93.00.00.00.00</td>\n",
              "      <td>INDENIZAÇÕES E RESTITUIÇÕES</td>\n",
              "      <td>50.000,00</td>\n",
              "      <td>0,00</td>\n",
              "    </tr>\n",
              "    <tr>\n",
              "      <th>24</th>\n",
              "      <td>3.3.91.97.00.00.00.00</td>\n",
              "      <td>APORTE PARA COBERTURA DO DÉFICIT ATUARIAL DO RPPS</td>\n",
              "      <td>851.915,91</td>\n",
              "      <td>0,00</td>\n",
              "    </tr>\n",
              "    <tr>\n",
              "      <th>25</th>\n",
              "      <td>4.4.90.52.00.00.00.00</td>\n",
              "      <td>EQUIPAMENTOS E MATERIAL PERMANENTE</td>\n",
              "      <td>712.000,00</td>\n",
              "      <td>0,00</td>\n",
              "    </tr>\n",
              "  </tbody>\n",
              "</table>\n",
              "</div>\n",
              "    <div class=\"colab-df-buttons\">\n",
              "\n",
              "  <div class=\"colab-df-container\">\n",
              "    <button class=\"colab-df-convert\" onclick=\"convertToInteractive('df-0be0b09f-92bf-4636-bd10-120ed7a76cf1')\"\n",
              "            title=\"Convert this dataframe to an interactive table.\"\n",
              "            style=\"display:none;\">\n",
              "\n",
              "  <svg xmlns=\"http://www.w3.org/2000/svg\" height=\"24px\" viewBox=\"0 -960 960 960\">\n",
              "    <path d=\"M120-120v-720h720v720H120Zm60-500h600v-160H180v160Zm220 220h160v-160H400v160Zm0 220h160v-160H400v160ZM180-400h160v-160H180v160Zm440 0h160v-160H620v160ZM180-180h160v-160H180v160Zm440 0h160v-160H620v160Z\"/>\n",
              "  </svg>\n",
              "    </button>\n",
              "\n",
              "  <style>\n",
              "    .colab-df-container {\n",
              "      display:flex;\n",
              "      gap: 12px;\n",
              "    }\n",
              "\n",
              "    .colab-df-convert {\n",
              "      background-color: #E8F0FE;\n",
              "      border: none;\n",
              "      border-radius: 50%;\n",
              "      cursor: pointer;\n",
              "      display: none;\n",
              "      fill: #1967D2;\n",
              "      height: 32px;\n",
              "      padding: 0 0 0 0;\n",
              "      width: 32px;\n",
              "    }\n",
              "\n",
              "    .colab-df-convert:hover {\n",
              "      background-color: #E2EBFA;\n",
              "      box-shadow: 0px 1px 2px rgba(60, 64, 67, 0.3), 0px 1px 3px 1px rgba(60, 64, 67, 0.15);\n",
              "      fill: #174EA6;\n",
              "    }\n",
              "\n",
              "    .colab-df-buttons div {\n",
              "      margin-bottom: 4px;\n",
              "    }\n",
              "\n",
              "    [theme=dark] .colab-df-convert {\n",
              "      background-color: #3B4455;\n",
              "      fill: #D2E3FC;\n",
              "    }\n",
              "\n",
              "    [theme=dark] .colab-df-convert:hover {\n",
              "      background-color: #434B5C;\n",
              "      box-shadow: 0px 1px 3px 1px rgba(0, 0, 0, 0.15);\n",
              "      filter: drop-shadow(0px 1px 2px rgba(0, 0, 0, 0.3));\n",
              "      fill: #FFFFFF;\n",
              "    }\n",
              "  </style>\n",
              "\n",
              "    <script>\n",
              "      const buttonEl =\n",
              "        document.querySelector('#df-0be0b09f-92bf-4636-bd10-120ed7a76cf1 button.colab-df-convert');\n",
              "      buttonEl.style.display =\n",
              "        google.colab.kernel.accessAllowed ? 'block' : 'none';\n",
              "\n",
              "      async function convertToInteractive(key) {\n",
              "        const element = document.querySelector('#df-0be0b09f-92bf-4636-bd10-120ed7a76cf1');\n",
              "        const dataTable =\n",
              "          await google.colab.kernel.invokeFunction('convertToInteractive',\n",
              "                                                    [key], {});\n",
              "        if (!dataTable) return;\n",
              "\n",
              "        const docLinkHtml = 'Like what you see? Visit the ' +\n",
              "          '<a target=\"_blank\" href=https://colab.research.google.com/notebooks/data_table.ipynb>data table notebook</a>'\n",
              "          + ' to learn more about interactive tables.';\n",
              "        element.innerHTML = '';\n",
              "        dataTable['output_type'] = 'display_data';\n",
              "        await google.colab.output.renderOutput(dataTable, element);\n",
              "        const docLink = document.createElement('div');\n",
              "        docLink.innerHTML = docLinkHtml;\n",
              "        element.appendChild(docLink);\n",
              "      }\n",
              "    </script>\n",
              "  </div>\n",
              "\n",
              "\n",
              "<div id=\"df-4aef39fb-ec09-4cca-8985-3a2b822ae23a\">\n",
              "  <button class=\"colab-df-quickchart\" onclick=\"quickchart('df-4aef39fb-ec09-4cca-8985-3a2b822ae23a')\"\n",
              "            title=\"Suggest charts\"\n",
              "            style=\"display:none;\">\n",
              "\n",
              "<svg xmlns=\"http://www.w3.org/2000/svg\" height=\"24px\"viewBox=\"0 0 24 24\"\n",
              "     width=\"24px\">\n",
              "    <g>\n",
              "        <path d=\"M19 3H5c-1.1 0-2 .9-2 2v14c0 1.1.9 2 2 2h14c1.1 0 2-.9 2-2V5c0-1.1-.9-2-2-2zM9 17H7v-7h2v7zm4 0h-2V7h2v10zm4 0h-2v-4h2v4z\"/>\n",
              "    </g>\n",
              "</svg>\n",
              "  </button>\n",
              "\n",
              "<style>\n",
              "  .colab-df-quickchart {\n",
              "      --bg-color: #E8F0FE;\n",
              "      --fill-color: #1967D2;\n",
              "      --hover-bg-color: #E2EBFA;\n",
              "      --hover-fill-color: #174EA6;\n",
              "      --disabled-fill-color: #AAA;\n",
              "      --disabled-bg-color: #DDD;\n",
              "  }\n",
              "\n",
              "  [theme=dark] .colab-df-quickchart {\n",
              "      --bg-color: #3B4455;\n",
              "      --fill-color: #D2E3FC;\n",
              "      --hover-bg-color: #434B5C;\n",
              "      --hover-fill-color: #FFFFFF;\n",
              "      --disabled-bg-color: #3B4455;\n",
              "      --disabled-fill-color: #666;\n",
              "  }\n",
              "\n",
              "  .colab-df-quickchart {\n",
              "    background-color: var(--bg-color);\n",
              "    border: none;\n",
              "    border-radius: 50%;\n",
              "    cursor: pointer;\n",
              "    display: none;\n",
              "    fill: var(--fill-color);\n",
              "    height: 32px;\n",
              "    padding: 0;\n",
              "    width: 32px;\n",
              "  }\n",
              "\n",
              "  .colab-df-quickchart:hover {\n",
              "    background-color: var(--hover-bg-color);\n",
              "    box-shadow: 0 1px 2px rgba(60, 64, 67, 0.3), 0 1px 3px 1px rgba(60, 64, 67, 0.15);\n",
              "    fill: var(--button-hover-fill-color);\n",
              "  }\n",
              "\n",
              "  .colab-df-quickchart-complete:disabled,\n",
              "  .colab-df-quickchart-complete:disabled:hover {\n",
              "    background-color: var(--disabled-bg-color);\n",
              "    fill: var(--disabled-fill-color);\n",
              "    box-shadow: none;\n",
              "  }\n",
              "\n",
              "  .colab-df-spinner {\n",
              "    border: 2px solid var(--fill-color);\n",
              "    border-color: transparent;\n",
              "    border-bottom-color: var(--fill-color);\n",
              "    animation:\n",
              "      spin 1s steps(1) infinite;\n",
              "  }\n",
              "\n",
              "  @keyframes spin {\n",
              "    0% {\n",
              "      border-color: transparent;\n",
              "      border-bottom-color: var(--fill-color);\n",
              "      border-left-color: var(--fill-color);\n",
              "    }\n",
              "    20% {\n",
              "      border-color: transparent;\n",
              "      border-left-color: var(--fill-color);\n",
              "      border-top-color: var(--fill-color);\n",
              "    }\n",
              "    30% {\n",
              "      border-color: transparent;\n",
              "      border-left-color: var(--fill-color);\n",
              "      border-top-color: var(--fill-color);\n",
              "      border-right-color: var(--fill-color);\n",
              "    }\n",
              "    40% {\n",
              "      border-color: transparent;\n",
              "      border-right-color: var(--fill-color);\n",
              "      border-top-color: var(--fill-color);\n",
              "    }\n",
              "    60% {\n",
              "      border-color: transparent;\n",
              "      border-right-color: var(--fill-color);\n",
              "    }\n",
              "    80% {\n",
              "      border-color: transparent;\n",
              "      border-right-color: var(--fill-color);\n",
              "      border-bottom-color: var(--fill-color);\n",
              "    }\n",
              "    90% {\n",
              "      border-color: transparent;\n",
              "      border-bottom-color: var(--fill-color);\n",
              "    }\n",
              "  }\n",
              "</style>\n",
              "\n",
              "  <script>\n",
              "    async function quickchart(key) {\n",
              "      const quickchartButtonEl =\n",
              "        document.querySelector('#' + key + ' button');\n",
              "      quickchartButtonEl.disabled = true;  // To prevent multiple clicks.\n",
              "      quickchartButtonEl.classList.add('colab-df-spinner');\n",
              "      try {\n",
              "        const charts = await google.colab.kernel.invokeFunction(\n",
              "            'suggestCharts', [key], {});\n",
              "      } catch (error) {\n",
              "        console.error('Error during call to suggestCharts:', error);\n",
              "      }\n",
              "      quickchartButtonEl.classList.remove('colab-df-spinner');\n",
              "      quickchartButtonEl.classList.add('colab-df-quickchart-complete');\n",
              "    }\n",
              "    (() => {\n",
              "      let quickchartButtonEl =\n",
              "        document.querySelector('#df-4aef39fb-ec09-4cca-8985-3a2b822ae23a button');\n",
              "      quickchartButtonEl.style.display =\n",
              "        google.colab.kernel.accessAllowed ? 'block' : 'none';\n",
              "    })();\n",
              "  </script>\n",
              "</div>\n",
              "\n",
              "    </div>\n",
              "  </div>\n"
            ]
          },
          "metadata": {},
          "execution_count": 560
        }
      ]
    },
    {
      "cell_type": "code",
      "source": [
        "print(df.isnull().sum())"
      ],
      "metadata": {
        "id": "4aYXLU5rF-FG",
        "outputId": "e831d052-342c-4ef9-8a68-b278cfad3e3a",
        "colab": {
          "base_uri": "https://localhost:8080/"
        }
      },
      "execution_count": 561,
      "outputs": [
        {
          "output_type": "stream",
          "name": "stdout",
          "text": [
            "CODIGO                                  0\n",
            "02 - SECRETARIA M. DE ADMINISTRAÇÃO     0\n",
            "VALORES                                 0\n",
            "Unnamed: 7                              0\n",
            "dtype: int64\n"
          ]
        }
      ]
    },
    {
      "cell_type": "code",
      "source": [
        "print(df.columns)"
      ],
      "metadata": {
        "id": "Fn-7pYySIVgz",
        "outputId": "e95b5d9d-d50f-402c-e278-09d611bb5711",
        "colab": {
          "base_uri": "https://localhost:8080/"
        }
      },
      "execution_count": 562,
      "outputs": [
        {
          "output_type": "stream",
          "name": "stdout",
          "text": [
            "Index(['CODIGO', '02 - SECRETARIA M. DE ADMINISTRAÇÃO ', 'VALORES',\n",
            "       'Unnamed: 7'],\n",
            "      dtype='object')\n"
          ]
        }
      ]
    },
    {
      "cell_type": "code",
      "source": [
        "import pandas as pd\n",
        "\n",
        "# Supondo que você já tenha um DataFrame chamado df\n",
        "# Solicitar ao usuário que insira um código\n",
        "codigo = input(\"Insira o código que deseja pesquisar: \")\n",
        "# Verificar quantas vezes o código aparece na coluna 'CODIGO'\n",
        "count = df['CODIGO'].value_counts()[codigo] if codigo in df['CODIGO'].value_counts().index else 0\n",
        "\n",
        "# Imprimir o resultado\n",
        "print(f\"O código '{codigo}' aparece {count} vez(es) na coluna 'CODIGO'.\")\n",
        "# Filtrar a tabela para obter apenas as linhas com o código inserido\n",
        "df_filtered = df[df['CODIGO'] == codigo]\n",
        "\n",
        "\n",
        "# Verificar se o código não está vazio\n",
        "if codigo == \"\":\n",
        "    print(\"O código inserido está vazio. Não foi possível criar o novo DataFrame.\")\n",
        "else:\n",
        "    # Filtrar a tabela para obter apenas as linhas com o código inserido\n",
        "    df_filtered = df[df['CODIGO'] == codigo]\n",
        "\n",
        "    # Verificar se o código ocorre pelo menos uma vez no DataFrame\n",
        "    if not df_filtered.empty:\n",
        "        # Criar um novo DataFrame com os códigos e os valores correspondentes da coluna 'INICIAL'\n",
        "        novo_df = df_filtered[['CODIGO', 'VALORES']].copy()\n",
        "\n",
        "        # Imprimir o novo DataFrame\n",
        "        print(\"Novo DataFrame com os códigos e valores correspondentes:\")\n",
        "        print(novo_df)\n",
        "    else:\n",
        "        print(f\"O código '{codigo}' não ocorre no DataFrame. Não foi possível criar o novo DataFrame.\")\n"
      ],
      "metadata": {
        "id": "PVJH0BGhLcy2",
        "outputId": "af3e54db-69a7-4bc8-8037-f22fe9f24de9",
        "colab": {
          "base_uri": "https://localhost:8080/"
        }
      },
      "execution_count": 563,
      "outputs": [
        {
          "output_type": "stream",
          "name": "stdout",
          "text": [
            "Insira o código que deseja pesquisar: 3.1.90.11.00.00.00.00\n",
            "O código '3.1.90.11.00.00.00.00' aparece 25 vez(es) na coluna 'CODIGO'.\n",
            "Novo DataFrame com os códigos e valores correspondentes:\n",
            "                    CODIGO        VALORES\n",
            "1    3.1.90.11.00.00.00.00   7.483.558,37\n",
            "30   3.1.90.11.00.00.00.00     553.710,59\n",
            "48   3.1.90.11.00.00.00.00   7.414.253,75\n",
            "73   3.1.90.11.00.00.00.00   3.592.154,24\n",
            "93   3.1.90.11.00.00.00.00     630.790,02\n",
            "113  3.1.90.11.00.00.00.00   1.777.324,92\n",
            "134  3.1.90.11.00.00.00.00   4.654.352,12\n",
            "161  3.1.90.11.00.00.00.00   2.939.972,37\n",
            "182  3.1.90.11.00.00.00.00   1.158.459,31\n",
            "204  3.1.90.11.00.00.00.00   4.702.978,34\n",
            "233  3.1.90.11.00.00.00.00  48.716.838,14\n",
            "265  3.1.90.11.00.00.00.00  91.937.712,10\n",
            "289  3.1.90.11.00.00.00.00   6.690.689,62\n",
            "318  3.1.90.11.00.00.00.00   1.470.717,87\n",
            "356  3.1.90.11.00.00.00.00   7.588.901,95\n",
            "380  3.1.90.11.00.00.00.00   3.234.432,72\n",
            "401  3.1.90.11.00.00.00.00   2.564.523,65\n",
            "423  3.1.90.11.00.00.00.00   1.017.589,17\n",
            "478  3.1.90.11.00.00.00.00   1.924.330,32\n",
            "524  3.1.90.11.00.00.00.00   1.956.575,10\n",
            "547  3.1.90.11.00.00.00.00   1.192.789,68\n",
            "568  3.1.90.11.00.00.00.00     851.687,31\n",
            "587  3.1.90.11.00.00.00.00     989.688,03\n",
            "607  3.1.90.11.00.00.00.00     974.790,28\n",
            "644  3.1.90.11.00.00.00.00   1.320.463,33\n"
          ]
        }
      ]
    },
    {
      "cell_type": "code",
      "source": [
        "df =novo_df"
      ],
      "metadata": {
        "id": "Gxe7kFu-L2zJ"
      },
      "execution_count": 564,
      "outputs": []
    },
    {
      "cell_type": "code",
      "source": [
        "# Função para formatar os números na coluna 'VALORES'\n",
        "def formatar_numero(valor):\n",
        "    # Converta para string, se já não for\n",
        "    valor = str(valor)\n",
        "    # Substitua vírgulas por pontos\n",
        "    valor = valor.replace(',', '.')\n",
        "    # Remova pontos\n",
        "    valor = valor.replace('.', '')\n",
        "    # Converta para float\n",
        "    return float(valor)\n",
        "\n",
        "# Aplique a função à coluna 'VALORES'\n",
        "df['VALORES'] = df['VALORES'].apply(formatar_numero)\n",
        "\n",
        "# Exiba o DataFrame resultante\n",
        "print(df)\n"
      ],
      "metadata": {
        "id": "A7x0JbJNO3sn",
        "outputId": "c9fc005d-4415-46b4-e116-4098e9210a90",
        "colab": {
          "base_uri": "https://localhost:8080/"
        }
      },
      "execution_count": 565,
      "outputs": [
        {
          "output_type": "stream",
          "name": "stdout",
          "text": [
            "                    CODIGO       VALORES\n",
            "1    3.1.90.11.00.00.00.00  7.483558e+08\n",
            "30   3.1.90.11.00.00.00.00  5.537106e+07\n",
            "48   3.1.90.11.00.00.00.00  7.414254e+08\n",
            "73   3.1.90.11.00.00.00.00  3.592154e+08\n",
            "93   3.1.90.11.00.00.00.00  6.307900e+07\n",
            "113  3.1.90.11.00.00.00.00  1.777325e+08\n",
            "134  3.1.90.11.00.00.00.00  4.654352e+08\n",
            "161  3.1.90.11.00.00.00.00  2.939972e+08\n",
            "182  3.1.90.11.00.00.00.00  1.158459e+08\n",
            "204  3.1.90.11.00.00.00.00  4.702978e+08\n",
            "233  3.1.90.11.00.00.00.00  4.871684e+09\n",
            "265  3.1.90.11.00.00.00.00  9.193771e+09\n",
            "289  3.1.90.11.00.00.00.00  6.690690e+08\n",
            "318  3.1.90.11.00.00.00.00  1.470718e+08\n",
            "356  3.1.90.11.00.00.00.00  7.588902e+08\n",
            "380  3.1.90.11.00.00.00.00  3.234433e+08\n",
            "401  3.1.90.11.00.00.00.00  2.564524e+08\n",
            "423  3.1.90.11.00.00.00.00  1.017589e+08\n",
            "478  3.1.90.11.00.00.00.00  1.924330e+08\n",
            "524  3.1.90.11.00.00.00.00  1.956575e+08\n",
            "547  3.1.90.11.00.00.00.00  1.192790e+08\n",
            "568  3.1.90.11.00.00.00.00  8.516873e+07\n",
            "587  3.1.90.11.00.00.00.00  9.896880e+07\n",
            "607  3.1.90.11.00.00.00.00  9.747903e+07\n",
            "644  3.1.90.11.00.00.00.00  1.320463e+08\n"
          ]
        }
      ]
    },
    {
      "cell_type": "code",
      "source": [
        "soma_valores = novo_df['VALORES'].sum()\n",
        "print(\"A soma dos valores na coluna 'valores' é:\", soma_valores)"
      ],
      "metadata": {
        "id": "rPItGQVMNrWy",
        "outputId": "4d14d99d-4562-4c20-bc35-957cf35d4599",
        "colab": {
          "base_uri": "https://localhost:8080/"
        }
      },
      "execution_count": 566,
      "outputs": [
        {
          "output_type": "stream",
          "name": "stdout",
          "text": [
            "A soma dos valores na coluna 'valores' é: 20733928330.0\n"
          ]
        }
      ]
    },
    {
      "cell_type": "code",
      "source": [
        "soma_valores\n"
      ],
      "metadata": {
        "id": "P6XElsOtPOVB",
        "outputId": "163ccb41-5fd0-4f4c-adff-c4f1a6d00c6d",
        "colab": {
          "base_uri": "https://localhost:8080/"
        }
      },
      "execution_count": 567,
      "outputs": [
        {
          "output_type": "execute_result",
          "data": {
            "text/plain": [
              "20733928330.0"
            ]
          },
          "metadata": {},
          "execution_count": 567
        }
      ]
    },
    {
      "cell_type": "code",
      "source": [
        "# Converta para string e remova o ponto decimal\n",
        "valor_formatado = str(int(soma_valores))\n",
        "\n",
        "# Remova o último zero, se existir\n",
        "valor_formatado = valor_formatado.rstrip('0')\n",
        "\n",
        "# Exiba o resultado\n",
        "print(valor_formatado)"
      ],
      "metadata": {
        "id": "FysnW-rRcpk3",
        "outputId": "e76dadc7-d6ea-40b7-a742-264bd1059947",
        "colab": {
          "base_uri": "https://localhost:8080/"
        }
      },
      "execution_count": 568,
      "outputs": [
        {
          "output_type": "stream",
          "name": "stdout",
          "text": [
            "2073392833\n"
          ]
        }
      ]
    },
    {
      "cell_type": "code",
      "source": [
        "import locale\n",
        "\n",
        "# Configurar a formatação de moeda para o inglês dos Estados Unidos (USD)\n",
        "locale.setlocale(locale.LC_MONETARY, 'en_US.UTF-8')\n",
        "\n",
        "# Restante do seu código...\n"
      ],
      "metadata": {
        "id": "M0mTV4raP0D2",
        "outputId": "69fc2585-686d-4ea7-974c-d82f0b5e8cfb",
        "colab": {
          "base_uri": "https://localhost:8080/",
          "height": 35
        }
      },
      "execution_count": 569,
      "outputs": [
        {
          "output_type": "execute_result",
          "data": {
            "text/plain": [
              "'en_US.UTF-8'"
            ],
            "application/vnd.google.colaboratory.intrinsic+json": {
              "type": "string"
            }
          },
          "metadata": {},
          "execution_count": 569
        }
      ]
    },
    {
      "cell_type": "code",
      "source": [
        "# Suponha que você tenha o valor em uma variável chamada soma_valores\n",
        "soma_valores = valor_formatado\n",
        "\n"
      ],
      "metadata": {
        "id": "SI8SQyLXevB5"
      },
      "execution_count": 570,
      "outputs": []
    },
    {
      "cell_type": "code",
      "source": [
        "print(valor_formatado)"
      ],
      "metadata": {
        "id": "jPlEzunng9Mx",
        "outputId": "b1251033-908c-4de7-de04-b2361512df64",
        "colab": {
          "base_uri": "https://localhost:8080/"
        }
      },
      "execution_count": 571,
      "outputs": [
        {
          "output_type": "stream",
          "name": "stdout",
          "text": [
            "2073392833\n"
          ]
        }
      ]
    },
    {
      "cell_type": "code",
      "source": [
        "from babel.numbers import format_currency\n",
        "\n",
        "# Exibindo a soma dos valores em formato de moeda sem depender da localidade\n",
        "formatted_currency = format_currency(valor_formatado, 'BRL', locale='pt_BR')\n",
        "print(f'A soma dos valores é: {formatted_currency}')\n"
      ],
      "metadata": {
        "id": "-yPoyzaHgTk7",
        "outputId": "a71f81e2-262c-4cc5-cf7b-435efd959610",
        "colab": {
          "base_uri": "https://localhost:8080/"
        }
      },
      "execution_count": 572,
      "outputs": [
        {
          "output_type": "stream",
          "name": "stdout",
          "text": [
            "A soma dos valores é: R$ 2.073.392.833,00\n"
          ]
        }
      ]
    },
    {
      "cell_type": "code",
      "source": [
        "from babel.numbers import format_currency\n",
        "import locale\n",
        "\n",
        "\n",
        "\n",
        "# Exibindo a soma dos valores em formato de moeda\n",
        "formatted_currency = format_currency(valor_formatado, 'BRL', locale=locale_str)\n",
        "print(f'A soma dos valores é: {formatted_currency}')\n"
      ],
      "metadata": {
        "id": "SCYCNnFugCIT",
        "outputId": "86b6af13-6a79-4a0b-b39f-b7b38ef86a23",
        "colab": {
          "base_uri": "https://localhost:8080/"
        }
      },
      "execution_count": 573,
      "outputs": [
        {
          "output_type": "stream",
          "name": "stdout",
          "text": [
            "A soma dos valores é: R$ 2.073.392.833,00\n"
          ]
        }
      ]
    }
  ]
}