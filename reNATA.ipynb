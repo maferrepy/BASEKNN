{
  "nbformat": 4,
  "nbformat_minor": 0,
  "metadata": {
    "colab": {
      "provenance": [],
      "authorship_tag": "ABX9TyO9r7U/a4yzBOR1XNo7XJoO",
      "include_colab_link": true
    },
    "kernelspec": {
      "name": "python3",
      "display_name": "Python 3"
    },
    "language_info": {
      "name": "python"
    }
  },
  "cells": [
    {
      "cell_type": "markdown",
      "metadata": {
        "id": "view-in-github",
        "colab_type": "text"
      },
      "source": [
        "<a href=\"https://colab.research.google.com/github/maferrepy/BASEKNN/blob/main/reNATA.ipynb\" target=\"_parent\"><img src=\"https://colab.research.google.com/assets/colab-badge.svg\" alt=\"Open In Colab\"/></a>"
      ]
    },
    {
      "cell_type": "code",
      "source": [
        "import pandas as pd\n"
      ],
      "metadata": {
        "id": "rE5YEhBuMMlB"
      },
      "execution_count": null,
      "outputs": []
    },
    {
      "cell_type": "code",
      "source": [
        "df_excel =pd.read_excel('/content/Balancete por Secretaria e consolidado 2024.xlsx')"
      ],
      "metadata": {
        "id": "1-NvMdDkMQZ8"
      },
      "execution_count": null,
      "outputs": []
    },
    {
      "cell_type": "code",
      "source": [
        "df_excel.to_csv('/content/balancete.csv', index=False)"
      ],
      "metadata": {
        "id": "iSv8g4rV-yYx"
      },
      "execution_count": null,
      "outputs": []
    },
    {
      "cell_type": "code",
      "source": [
        "df =pd.read_csv(\"/content/balancete.csv\")"
      ],
      "metadata": {
        "id": "QEePMz0pEw2r"
      },
      "execution_count": null,
      "outputs": []
    },
    {
      "cell_type": "code",
      "source": [],
      "metadata": {
        "id": "mXeodI9DGuQ5"
      },
      "execution_count": null,
      "outputs": []
    },
    {
      "cell_type": "code",
      "source": [
        "df.head()"
      ],
      "metadata": {
        "id": "13eb3eEsFMKm"
      },
      "execution_count": null,
      "outputs": []
    },
    {
      "cell_type": "code",
      "source": [
        "df = df.drop(0)"
      ],
      "metadata": {
        "id": "EVZLRElIFObC"
      },
      "execution_count": null,
      "outputs": []
    },
    {
      "cell_type": "code",
      "source": [
        "# Substituir os valores faltantes (NaN) por None\n",
        "df = df.where((pd.notnull(df)), None)\n",
        "\n",
        "# Converter os valores faltantes (None) por um espaço vazio\n",
        "df = df.fillna('')"
      ],
      "metadata": {
        "id": "f0kb07uzGvHu"
      },
      "execution_count": null,
      "outputs": []
    },
    {
      "cell_type": "code",
      "source": [
        "df.head(10)\n"
      ],
      "metadata": {
        "id": "yNTE3TqnFk3V"
      },
      "execution_count": null,
      "outputs": []
    },
    {
      "cell_type": "code",
      "source": [
        "print(df.isnull().sum())"
      ],
      "metadata": {
        "id": "4aYXLU5rF-FG"
      },
      "execution_count": null,
      "outputs": []
    },
    {
      "cell_type": "code",
      "source": [
        "print(df.columns)"
      ],
      "metadata": {
        "id": "Fn-7pYySIVgz"
      },
      "execution_count": null,
      "outputs": []
    },
    {
      "cell_type": "code",
      "source": [
        "# Solicitar ao usuário que insira um códig\n",
        "codigo = input(\"Insira o código que deseja pesquisar: \")\n",
        "\n",
        "# Verificar quantas vezes o código aparece na coluna 'CODIGO'\n",
        "count = df['CODIGO'].value_counts()[codigo] if codigo in df['CODIGO'].value_counts().index else 0\n",
        "\n",
        "# Imprimir o resultado\n",
        "print(f\"O código '{codigo}' aparece {count} vez(es) na coluna 'CODIGO'.\")\n",
        "# Filtrar a tabela para obter apenas as linhas com o código inserido\n",
        "df_filtered = df[df['CODIGO'] == codigo]\n",
        "\n",
        "\n",
        "\n"
      ],
      "metadata": {
        "id": "BPUIj1wRFzY4"
      },
      "execution_count": null,
      "outputs": []
    },
    {
      "cell_type": "code",
      "source": [
        "# Solicitar ao usuário que insira um código\n",
        "codigo = input(\"Insira o código que deseja pesquisar: \")\n",
        "\n",
        "# Verificar quantas vezes o código aparece na coluna 'CODIGO'\n",
        "count = df['CODIGO'].value_counts().get(codigo, 0)\n",
        "\n",
        "# Imprimir o resultado\n",
        "print(f\"O código '{codigo}' aparece {count} vez(es) na coluna 'CODIGO'.\")\n",
        "\n",
        "# Verificar se o código não está vazio e se ocorre pelo menos uma vez no DataFrame\n",
        "if codigo != \"\" and count > 0:\n",
        "    # Filtrar a tabela para obter apenas as linhas com o código inserido\n",
        "    df_filtered = df[df['CODIGO'] == codigo]\n",
        "\n",
        "    # Calcular a soma dos valores da coluna 'INICIAL'\n",
        "    soma = df_filtered[' INICIAL'].sum()\n",
        "\n",
        "    # Imprimir o resultado\n",
        "    print(f\"A soma total dos valores da coluna 'INICIAL' correspondentes ao código '{codigo}' é {soma}.\")\n",
        "else:\n",
        "    print(\"O código inserido está vazio ou não ocorre no DataFrame. Não foi possível calcular a soma.\")\n"
      ],
      "metadata": {
        "id": "AIdvxzu_KeNv"
      },
      "execution_count": null,
      "outputs": []
    },
    {
      "cell_type": "code",
      "source": [
        "# Solicitar ao usuário que insira um código\n",
        "codigo = input(\"Insira o código que deseja pesquisar: \")\n",
        "\n",
        "# Verificar quantas vezes o código aparece na coluna 'CODIGO'\n",
        "count = df['CODIGO'].value_counts().get(codigo, 0)\n",
        "\n",
        "# Imprimir o resultado\n",
        "print(f\"O código '{codigo}' aparece {count} vez(es) na coluna 'CODIGO'.\")\n",
        "\n"
      ],
      "metadata": {
        "colab": {
          "base_uri": "https://localhost:8080/",
          "height": 390
        },
        "id": "0wjPklJAKwhK",
        "outputId": "efe44ace-e12b-4e11-c7e4-291e67c8b8d6"
      },
      "execution_count": 82,
      "outputs": [
        {
          "output_type": "error",
          "ename": "KeyboardInterrupt",
          "evalue": "Interrupted by user",
          "traceback": [
            "\u001b[0;31m---------------------------------------------------------------------------\u001b[0m",
            "\u001b[0;31mKeyboardInterrupt\u001b[0m                         Traceback (most recent call last)",
            "\u001b[0;32m<ipython-input-82-9c1b0eaca536>\u001b[0m in \u001b[0;36m<cell line: 2>\u001b[0;34m()\u001b[0m\n\u001b[1;32m      1\u001b[0m \u001b[0;31m# Solicitar ao usuário que insira um código\u001b[0m\u001b[0;34m\u001b[0m\u001b[0;34m\u001b[0m\u001b[0m\n\u001b[0;32m----> 2\u001b[0;31m \u001b[0mcodigo\u001b[0m \u001b[0;34m=\u001b[0m \u001b[0minput\u001b[0m\u001b[0;34m(\u001b[0m\u001b[0;34m\"Insira o código que deseja pesquisar: \"\u001b[0m\u001b[0;34m)\u001b[0m\u001b[0;34m\u001b[0m\u001b[0;34m\u001b[0m\u001b[0m\n\u001b[0m\u001b[1;32m      3\u001b[0m \u001b[0;34m\u001b[0m\u001b[0m\n\u001b[1;32m      4\u001b[0m \u001b[0;31m# Verificar quantas vezes o código aparece na coluna 'CODIGO'\u001b[0m\u001b[0;34m\u001b[0m\u001b[0;34m\u001b[0m\u001b[0m\n\u001b[1;32m      5\u001b[0m \u001b[0mcount\u001b[0m \u001b[0;34m=\u001b[0m \u001b[0mdf\u001b[0m\u001b[0;34m[\u001b[0m\u001b[0;34m'CODIGO'\u001b[0m\u001b[0;34m]\u001b[0m\u001b[0;34m.\u001b[0m\u001b[0mvalue_counts\u001b[0m\u001b[0;34m(\u001b[0m\u001b[0;34m)\u001b[0m\u001b[0;34m.\u001b[0m\u001b[0mget\u001b[0m\u001b[0;34m(\u001b[0m\u001b[0mcodigo\u001b[0m\u001b[0;34m,\u001b[0m \u001b[0;36m0\u001b[0m\u001b[0;34m)\u001b[0m\u001b[0;34m\u001b[0m\u001b[0;34m\u001b[0m\u001b[0m\n",
            "\u001b[0;32m/usr/local/lib/python3.10/dist-packages/ipykernel/kernelbase.py\u001b[0m in \u001b[0;36mraw_input\u001b[0;34m(self, prompt)\u001b[0m\n\u001b[1;32m    849\u001b[0m                 \u001b[0;34m\"raw_input was called, but this frontend does not support input requests.\"\u001b[0m\u001b[0;34m\u001b[0m\u001b[0;34m\u001b[0m\u001b[0m\n\u001b[1;32m    850\u001b[0m             )\n\u001b[0;32m--> 851\u001b[0;31m         return self._input_request(str(prompt),\n\u001b[0m\u001b[1;32m    852\u001b[0m             \u001b[0mself\u001b[0m\u001b[0;34m.\u001b[0m\u001b[0m_parent_ident\u001b[0m\u001b[0;34m,\u001b[0m\u001b[0;34m\u001b[0m\u001b[0;34m\u001b[0m\u001b[0m\n\u001b[1;32m    853\u001b[0m             \u001b[0mself\u001b[0m\u001b[0;34m.\u001b[0m\u001b[0m_parent_header\u001b[0m\u001b[0;34m,\u001b[0m\u001b[0;34m\u001b[0m\u001b[0;34m\u001b[0m\u001b[0m\n",
            "\u001b[0;32m/usr/local/lib/python3.10/dist-packages/ipykernel/kernelbase.py\u001b[0m in \u001b[0;36m_input_request\u001b[0;34m(self, prompt, ident, parent, password)\u001b[0m\n\u001b[1;32m    893\u001b[0m             \u001b[0;32mexcept\u001b[0m \u001b[0mKeyboardInterrupt\u001b[0m\u001b[0;34m:\u001b[0m\u001b[0;34m\u001b[0m\u001b[0;34m\u001b[0m\u001b[0m\n\u001b[1;32m    894\u001b[0m                 \u001b[0;31m# re-raise KeyboardInterrupt, to truncate traceback\u001b[0m\u001b[0;34m\u001b[0m\u001b[0;34m\u001b[0m\u001b[0m\n\u001b[0;32m--> 895\u001b[0;31m                 \u001b[0;32mraise\u001b[0m \u001b[0mKeyboardInterrupt\u001b[0m\u001b[0;34m(\u001b[0m\u001b[0;34m\"Interrupted by user\"\u001b[0m\u001b[0;34m)\u001b[0m \u001b[0;32mfrom\u001b[0m \u001b[0;32mNone\u001b[0m\u001b[0;34m\u001b[0m\u001b[0;34m\u001b[0m\u001b[0m\n\u001b[0m\u001b[1;32m    896\u001b[0m             \u001b[0;32mexcept\u001b[0m \u001b[0mException\u001b[0m \u001b[0;32mas\u001b[0m \u001b[0me\u001b[0m\u001b[0;34m:\u001b[0m\u001b[0;34m\u001b[0m\u001b[0;34m\u001b[0m\u001b[0m\n\u001b[1;32m    897\u001b[0m                 \u001b[0mself\u001b[0m\u001b[0;34m.\u001b[0m\u001b[0mlog\u001b[0m\u001b[0;34m.\u001b[0m\u001b[0mwarning\u001b[0m\u001b[0;34m(\u001b[0m\u001b[0;34m\"Invalid Message:\"\u001b[0m\u001b[0;34m,\u001b[0m \u001b[0mexc_info\u001b[0m\u001b[0;34m=\u001b[0m\u001b[0;32mTrue\u001b[0m\u001b[0;34m)\u001b[0m\u001b[0;34m\u001b[0m\u001b[0;34m\u001b[0m\u001b[0m\n",
            "\u001b[0;31mKeyboardInterrupt\u001b[0m: Interrupted by user"
          ]
        }
      ]
    },
    {
      "cell_type": "code",
      "source": [
        "import pandas as pd\n",
        "\n",
        "# Vamos supor que você já tenha um DataFrame chamado df\n",
        "\n",
        "# Solicitar ao usuário que insira um código\n",
        "codigo = input(\"Insira o código que deseja pesquisar: \")\n",
        "\n",
        "# Verificar se o código não está vazio\n",
        "if codigo == \"\":\n",
        "    print(\"O código inserido está vazio. Não foi possível calcular a soma.\")\n",
        "else:\n",
        "    # Filtrar a tabela para obter apenas as linhas com o código inserido\n",
        "    df_filtered = df[df['CODIGO'] == codigo]\n",
        "\n",
        "    # Verificar se o código ocorre pelo menos uma vez no DataFrame\n",
        "    if not df_filtered.empty:\n",
        "        # Criar uma nova tabela agrupando por código e somando os valores correspondentes da coluna 'INICIAL'\n",
        "        nova_tabela = df.groupby('CODIGO')['\n",
        "        INICIAL'].sum().reset_index()\n",
        "\n",
        "        # Filtrar a nova tabela para mostrar apenas as linhas correspondentes ao código inserido\n",
        "        nova_tabela_filtrada = nova_tabela[nova_tabela['CODIGO'] == codigo]\n",
        "\n",
        "        # Imprimir a nova tabela filtrada\n",
        "        print(\"Nova tabela com os códigos e valores correspondentes:\")\n",
        "        print(nova_tabela_filtrada)\n",
        "    else:\n",
        "        print(f\"O código '{codigo}' não ocorre no DataFrame. Não foi possível criar a nova tabela.\")\n"
      ],
      "metadata": {
        "id": "JDgh7YroLLov"
      },
      "execution_count": null,
      "outputs": []
    },
    {
      "cell_type": "code",
      "source": [
        "import pandas as pd\n",
        "\n",
        "# Supondo que você já tenha um DataFrame chamado df\n",
        "# Solicitar ao usuário que insira um código\n",
        "codigo = input(\"Insira o código que deseja pesquisar: \")\n",
        "\n",
        "# Verificar se o código não está vazio\n",
        "if codigo == \"\":\n",
        "    print(\"O código inserido está vazio. Não foi possível criar o novo DataFrame.\")\n",
        "else:\n",
        "    # Filtrar a tabela para obter apenas as linhas com o código inserido\n",
        "    df_filtered = df[df['CODIGO'] == codigo]\n",
        "\n",
        "    # Verificar se o código ocorre pelo menos uma vez no DataFrame\n",
        "    if not df_filtered.empty:\n",
        "        # Criar um novo DataFrame com os códigos e os valores correspondentes da coluna 'INICIAL'\n",
        "        novo_df = df_filtered[['CODIGO', ' INICIAL']].copy()\n",
        "\n",
        "        # Imprimir o novo DataFrame\n",
        "        print(\"Novo DataFrame com os códigos e valores correspondentes:\")\n",
        "        print(novo_df)\n",
        "    else:\n",
        "        print(f\"O código '{codigo}' não ocorre no DataFrame. Não foi possível criar o novo DataFrame.\")\n"
      ],
      "metadata": {
        "id": "PVJH0BGhLcy2"
      },
      "execution_count": null,
      "outputs": []
    },
    {
      "cell_type": "code",
      "source": [
        "novo_df.head()"
      ],
      "metadata": {
        "id": "Gxe7kFu-L2zJ"
      },
      "execution_count": null,
      "outputs": []
    },
    {
      "cell_type": "code",
      "source": [
        "soma_inicial = novo_df[' INICIAL'].sum()"
      ],
      "metadata": {
        "id": "PNEtnxH2L5IE"
      },
      "execution_count": null,
      "outputs": []
    },
    {
      "cell_type": "code",
      "source": [
        "import locale\n",
        "\n",
        "try:\n",
        "    # Tenta configurar a localidade para o formato de moeda brasileira\n",
        "    locale.setlocale(locale.LC_ALL, 'pt_BR.UTF-8')\n",
        "except locale.Error:\n",
        "    # Se a localidade 'pt_BR.UTF-8' não estiver disponível, tenta 'pt_BR.UTF8'\n",
        "    try:\n",
        "        locale.setlocale(locale.LC_ALL, 'pt_BR.UTF8')\n",
        "    except locale.Error:\n",
        "        # Se ainda assim não estiver disponível, use a localidade padrão do sistema\n",
        "        locale.setlocale(locale.LC_ALL, '')\n",
        "\n",
        "# Exibindo a soma dos valores em formato de moeda\n",
        "print(f'A soma dos valores é: {locale.currency(soma_valores, grouping=True)}')\n"
      ],
      "metadata": {
        "id": "eiVHH4IgOksd"
      },
      "execution_count": null,
      "outputs": []
    }
  ]
}